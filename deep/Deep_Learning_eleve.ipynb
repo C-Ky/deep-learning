{
  "nbformat": 4,
  "nbformat_minor": 0,
  "metadata": {
    "@webio": {
      "lastCommId": null,
      "lastKernelId": null
    },
    "kernelspec": {
      "display_name": "Python 3 (ipykernel)",
      "language": "python",
      "name": "python3"
    },
    "language_info": {
      "codemirror_mode": {
        "name": "ipython",
        "version": 3
      },
      "file_extension": ".py",
      "mimetype": "text/x-python",
      "name": "python",
      "nbconvert_exporter": "python",
      "pygments_lexer": "ipython3",
      "version": "3.9.7"
    },
    "toc": {
      "base_numbering": 1,
      "nav_menu": {},
      "number_sections": true,
      "sideBar": true,
      "skip_h1_title": false,
      "title_cell": "Table of Contents",
      "title_sidebar": "Contents",
      "toc_cell": false,
      "toc_position": {
        "height": "calc(100% - 180px)",
        "left": "10px",
        "top": "150px",
        "width": "384px"
      },
      "toc_section_display": true,
      "toc_window_display": true
    },
    "colab": {
      "name": "Deep Learning.ipynb",
      "provenance": [],
      "collapsed_sections": [
        "81csWgQc5HNC",
        "iK4M_q0V5HNE",
        "vFRGkbAU5HNF",
        "D723cMjd5HNF",
        "I7L90qFm5HNH",
        "MHNCCWBL5HNH",
        "f3p_DYkG5HNH",
        "jHkL757E5HNI",
        "Ny3P2wfd5HNI",
        "Lr0b-drv5HNI",
        "UMQjafYp5HNI",
        "rQgrXZz65HNI",
        "i4NLLXfL5HNI"
      ]
    },
    "widgets": {
      "application/vnd.jupyter.widget-state+json": {
        "feaa5ad407cc4aa7aee4f78b79bb367c": {
          "model_module": "@jupyter-widgets/controls",
          "model_name": "HBoxModel",
          "model_module_version": "1.5.0",
          "state": {
            "_view_name": "HBoxView",
            "_dom_classes": [],
            "_model_name": "HBoxModel",
            "_view_module": "@jupyter-widgets/controls",
            "_model_module_version": "1.5.0",
            "_view_count": null,
            "_view_module_version": "1.5.0",
            "box_style": "",
            "layout": "IPY_MODEL_353e63b395154eff8c3570314eb6bb47",
            "_model_module": "@jupyter-widgets/controls",
            "children": [
              "IPY_MODEL_108bc0d6a04b4a6d9e4255f7147abade",
              "IPY_MODEL_3e52659f921540598138c1c3a0482d1d",
              "IPY_MODEL_54fb84f14ca64b488029c4e086254e94"
            ]
          }
        },
        "353e63b395154eff8c3570314eb6bb47": {
          "model_module": "@jupyter-widgets/base",
          "model_name": "LayoutModel",
          "model_module_version": "1.2.0",
          "state": {
            "_view_name": "LayoutView",
            "grid_template_rows": null,
            "right": null,
            "justify_content": null,
            "_view_module": "@jupyter-widgets/base",
            "overflow": null,
            "_model_module_version": "1.2.0",
            "_view_count": null,
            "flex_flow": null,
            "width": null,
            "min_width": null,
            "border": null,
            "align_items": null,
            "bottom": null,
            "_model_module": "@jupyter-widgets/base",
            "top": null,
            "grid_column": null,
            "overflow_y": null,
            "overflow_x": null,
            "grid_auto_flow": null,
            "grid_area": null,
            "grid_template_columns": null,
            "flex": null,
            "_model_name": "LayoutModel",
            "justify_items": null,
            "grid_row": null,
            "max_height": null,
            "align_content": null,
            "visibility": null,
            "align_self": null,
            "height": null,
            "min_height": null,
            "padding": null,
            "grid_auto_rows": null,
            "grid_gap": null,
            "max_width": null,
            "order": null,
            "_view_module_version": "1.2.0",
            "grid_template_areas": null,
            "object_position": null,
            "object_fit": null,
            "grid_auto_columns": null,
            "margin": null,
            "display": null,
            "left": null
          }
        },
        "108bc0d6a04b4a6d9e4255f7147abade": {
          "model_module": "@jupyter-widgets/controls",
          "model_name": "HTMLModel",
          "model_module_version": "1.5.0",
          "state": {
            "_view_name": "HTMLView",
            "style": "IPY_MODEL_0bb2c31e99b344cbba52f0c803a2022d",
            "_dom_classes": [],
            "description": "",
            "_model_name": "HTMLModel",
            "placeholder": "​",
            "_view_module": "@jupyter-widgets/controls",
            "_model_module_version": "1.5.0",
            "value": "",
            "_view_count": null,
            "_view_module_version": "1.5.0",
            "description_tooltip": null,
            "_model_module": "@jupyter-widgets/controls",
            "layout": "IPY_MODEL_5c3b4138c6694bf4b64be52c72d2c6f6"
          }
        },
        "3e52659f921540598138c1c3a0482d1d": {
          "model_module": "@jupyter-widgets/controls",
          "model_name": "FloatProgressModel",
          "model_module_version": "1.5.0",
          "state": {
            "_view_name": "ProgressView",
            "style": "IPY_MODEL_9902ad45f4d346c2963fcef09a23c233",
            "_dom_classes": [],
            "description": "",
            "_model_name": "FloatProgressModel",
            "bar_style": "success",
            "max": 26421880,
            "_view_module": "@jupyter-widgets/controls",
            "_model_module_version": "1.5.0",
            "value": 26421880,
            "_view_count": null,
            "_view_module_version": "1.5.0",
            "orientation": "horizontal",
            "min": 0,
            "description_tooltip": null,
            "_model_module": "@jupyter-widgets/controls",
            "layout": "IPY_MODEL_2b6c6c27d77c40a28f8c9a80d6b80c20"
          }
        },
        "54fb84f14ca64b488029c4e086254e94": {
          "model_module": "@jupyter-widgets/controls",
          "model_name": "HTMLModel",
          "model_module_version": "1.5.0",
          "state": {
            "_view_name": "HTMLView",
            "style": "IPY_MODEL_3593b07896bd4a66812cdba156667a05",
            "_dom_classes": [],
            "description": "",
            "_model_name": "HTMLModel",
            "placeholder": "​",
            "_view_module": "@jupyter-widgets/controls",
            "_model_module_version": "1.5.0",
            "value": " 26422272/? [00:01&lt;00:00, 20143944.79it/s]",
            "_view_count": null,
            "_view_module_version": "1.5.0",
            "description_tooltip": null,
            "_model_module": "@jupyter-widgets/controls",
            "layout": "IPY_MODEL_5dc5c73faaad4333a100b7b8a26e4972"
          }
        },
        "0bb2c31e99b344cbba52f0c803a2022d": {
          "model_module": "@jupyter-widgets/controls",
          "model_name": "DescriptionStyleModel",
          "model_module_version": "1.5.0",
          "state": {
            "_view_name": "StyleView",
            "_model_name": "DescriptionStyleModel",
            "description_width": "",
            "_view_module": "@jupyter-widgets/base",
            "_model_module_version": "1.5.0",
            "_view_count": null,
            "_view_module_version": "1.2.0",
            "_model_module": "@jupyter-widgets/controls"
          }
        },
        "5c3b4138c6694bf4b64be52c72d2c6f6": {
          "model_module": "@jupyter-widgets/base",
          "model_name": "LayoutModel",
          "model_module_version": "1.2.0",
          "state": {
            "_view_name": "LayoutView",
            "grid_template_rows": null,
            "right": null,
            "justify_content": null,
            "_view_module": "@jupyter-widgets/base",
            "overflow": null,
            "_model_module_version": "1.2.0",
            "_view_count": null,
            "flex_flow": null,
            "width": null,
            "min_width": null,
            "border": null,
            "align_items": null,
            "bottom": null,
            "_model_module": "@jupyter-widgets/base",
            "top": null,
            "grid_column": null,
            "overflow_y": null,
            "overflow_x": null,
            "grid_auto_flow": null,
            "grid_area": null,
            "grid_template_columns": null,
            "flex": null,
            "_model_name": "LayoutModel",
            "justify_items": null,
            "grid_row": null,
            "max_height": null,
            "align_content": null,
            "visibility": null,
            "align_self": null,
            "height": null,
            "min_height": null,
            "padding": null,
            "grid_auto_rows": null,
            "grid_gap": null,
            "max_width": null,
            "order": null,
            "_view_module_version": "1.2.0",
            "grid_template_areas": null,
            "object_position": null,
            "object_fit": null,
            "grid_auto_columns": null,
            "margin": null,
            "display": null,
            "left": null
          }
        },
        "9902ad45f4d346c2963fcef09a23c233": {
          "model_module": "@jupyter-widgets/controls",
          "model_name": "ProgressStyleModel",
          "model_module_version": "1.5.0",
          "state": {
            "_view_name": "StyleView",
            "_model_name": "ProgressStyleModel",
            "description_width": "",
            "_view_module": "@jupyter-widgets/base",
            "_model_module_version": "1.5.0",
            "_view_count": null,
            "_view_module_version": "1.2.0",
            "bar_color": null,
            "_model_module": "@jupyter-widgets/controls"
          }
        },
        "2b6c6c27d77c40a28f8c9a80d6b80c20": {
          "model_module": "@jupyter-widgets/base",
          "model_name": "LayoutModel",
          "model_module_version": "1.2.0",
          "state": {
            "_view_name": "LayoutView",
            "grid_template_rows": null,
            "right": null,
            "justify_content": null,
            "_view_module": "@jupyter-widgets/base",
            "overflow": null,
            "_model_module_version": "1.2.0",
            "_view_count": null,
            "flex_flow": null,
            "width": null,
            "min_width": null,
            "border": null,
            "align_items": null,
            "bottom": null,
            "_model_module": "@jupyter-widgets/base",
            "top": null,
            "grid_column": null,
            "overflow_y": null,
            "overflow_x": null,
            "grid_auto_flow": null,
            "grid_area": null,
            "grid_template_columns": null,
            "flex": null,
            "_model_name": "LayoutModel",
            "justify_items": null,
            "grid_row": null,
            "max_height": null,
            "align_content": null,
            "visibility": null,
            "align_self": null,
            "height": null,
            "min_height": null,
            "padding": null,
            "grid_auto_rows": null,
            "grid_gap": null,
            "max_width": null,
            "order": null,
            "_view_module_version": "1.2.0",
            "grid_template_areas": null,
            "object_position": null,
            "object_fit": null,
            "grid_auto_columns": null,
            "margin": null,
            "display": null,
            "left": null
          }
        },
        "3593b07896bd4a66812cdba156667a05": {
          "model_module": "@jupyter-widgets/controls",
          "model_name": "DescriptionStyleModel",
          "model_module_version": "1.5.0",
          "state": {
            "_view_name": "StyleView",
            "_model_name": "DescriptionStyleModel",
            "description_width": "",
            "_view_module": "@jupyter-widgets/base",
            "_model_module_version": "1.5.0",
            "_view_count": null,
            "_view_module_version": "1.2.0",
            "_model_module": "@jupyter-widgets/controls"
          }
        },
        "5dc5c73faaad4333a100b7b8a26e4972": {
          "model_module": "@jupyter-widgets/base",
          "model_name": "LayoutModel",
          "model_module_version": "1.2.0",
          "state": {
            "_view_name": "LayoutView",
            "grid_template_rows": null,
            "right": null,
            "justify_content": null,
            "_view_module": "@jupyter-widgets/base",
            "overflow": null,
            "_model_module_version": "1.2.0",
            "_view_count": null,
            "flex_flow": null,
            "width": null,
            "min_width": null,
            "border": null,
            "align_items": null,
            "bottom": null,
            "_model_module": "@jupyter-widgets/base",
            "top": null,
            "grid_column": null,
            "overflow_y": null,
            "overflow_x": null,
            "grid_auto_flow": null,
            "grid_area": null,
            "grid_template_columns": null,
            "flex": null,
            "_model_name": "LayoutModel",
            "justify_items": null,
            "grid_row": null,
            "max_height": null,
            "align_content": null,
            "visibility": null,
            "align_self": null,
            "height": null,
            "min_height": null,
            "padding": null,
            "grid_auto_rows": null,
            "grid_gap": null,
            "max_width": null,
            "order": null,
            "_view_module_version": "1.2.0",
            "grid_template_areas": null,
            "object_position": null,
            "object_fit": null,
            "grid_auto_columns": null,
            "margin": null,
            "display": null,
            "left": null
          }
        },
        "f5b53906ae38432a8d7cb1d5335786ef": {
          "model_module": "@jupyter-widgets/controls",
          "model_name": "HBoxModel",
          "model_module_version": "1.5.0",
          "state": {
            "_view_name": "HBoxView",
            "_dom_classes": [],
            "_model_name": "HBoxModel",
            "_view_module": "@jupyter-widgets/controls",
            "_model_module_version": "1.5.0",
            "_view_count": null,
            "_view_module_version": "1.5.0",
            "box_style": "",
            "layout": "IPY_MODEL_ce6fc73ca902449f83c239bd2a5f2d1a",
            "_model_module": "@jupyter-widgets/controls",
            "children": [
              "IPY_MODEL_3fa69d9ad4a64a3cb3afa57c1db429ae",
              "IPY_MODEL_e35ee67353ea45fdbace42bdfb6e44b9",
              "IPY_MODEL_015991b1e05c40b5a0f018551c2e0ec1"
            ]
          }
        },
        "ce6fc73ca902449f83c239bd2a5f2d1a": {
          "model_module": "@jupyter-widgets/base",
          "model_name": "LayoutModel",
          "model_module_version": "1.2.0",
          "state": {
            "_view_name": "LayoutView",
            "grid_template_rows": null,
            "right": null,
            "justify_content": null,
            "_view_module": "@jupyter-widgets/base",
            "overflow": null,
            "_model_module_version": "1.2.0",
            "_view_count": null,
            "flex_flow": null,
            "width": null,
            "min_width": null,
            "border": null,
            "align_items": null,
            "bottom": null,
            "_model_module": "@jupyter-widgets/base",
            "top": null,
            "grid_column": null,
            "overflow_y": null,
            "overflow_x": null,
            "grid_auto_flow": null,
            "grid_area": null,
            "grid_template_columns": null,
            "flex": null,
            "_model_name": "LayoutModel",
            "justify_items": null,
            "grid_row": null,
            "max_height": null,
            "align_content": null,
            "visibility": null,
            "align_self": null,
            "height": null,
            "min_height": null,
            "padding": null,
            "grid_auto_rows": null,
            "grid_gap": null,
            "max_width": null,
            "order": null,
            "_view_module_version": "1.2.0",
            "grid_template_areas": null,
            "object_position": null,
            "object_fit": null,
            "grid_auto_columns": null,
            "margin": null,
            "display": null,
            "left": null
          }
        },
        "3fa69d9ad4a64a3cb3afa57c1db429ae": {
          "model_module": "@jupyter-widgets/controls",
          "model_name": "HTMLModel",
          "model_module_version": "1.5.0",
          "state": {
            "_view_name": "HTMLView",
            "style": "IPY_MODEL_f771dceaa57a46bba3f06193efb59b9b",
            "_dom_classes": [],
            "description": "",
            "_model_name": "HTMLModel",
            "placeholder": "​",
            "_view_module": "@jupyter-widgets/controls",
            "_model_module_version": "1.5.0",
            "value": "",
            "_view_count": null,
            "_view_module_version": "1.5.0",
            "description_tooltip": null,
            "_model_module": "@jupyter-widgets/controls",
            "layout": "IPY_MODEL_f9fa7e249fe94f2f92c0127132fc3e15"
          }
        },
        "e35ee67353ea45fdbace42bdfb6e44b9": {
          "model_module": "@jupyter-widgets/controls",
          "model_name": "FloatProgressModel",
          "model_module_version": "1.5.0",
          "state": {
            "_view_name": "ProgressView",
            "style": "IPY_MODEL_745d2eb580cf436e964bfc7f097acc75",
            "_dom_classes": [],
            "description": "",
            "_model_name": "FloatProgressModel",
            "bar_style": "success",
            "max": 29515,
            "_view_module": "@jupyter-widgets/controls",
            "_model_module_version": "1.5.0",
            "value": 29515,
            "_view_count": null,
            "_view_module_version": "1.5.0",
            "orientation": "horizontal",
            "min": 0,
            "description_tooltip": null,
            "_model_module": "@jupyter-widgets/controls",
            "layout": "IPY_MODEL_26b92633f35a41569a093a9a06a4518e"
          }
        },
        "015991b1e05c40b5a0f018551c2e0ec1": {
          "model_module": "@jupyter-widgets/controls",
          "model_name": "HTMLModel",
          "model_module_version": "1.5.0",
          "state": {
            "_view_name": "HTMLView",
            "style": "IPY_MODEL_408bdd2b7e174a63bf4f4a8890e5d6b0",
            "_dom_classes": [],
            "description": "",
            "_model_name": "HTMLModel",
            "placeholder": "​",
            "_view_module": "@jupyter-widgets/controls",
            "_model_module_version": "1.5.0",
            "value": " 29696/? [00:00&lt;00:00, 119796.89it/s]",
            "_view_count": null,
            "_view_module_version": "1.5.0",
            "description_tooltip": null,
            "_model_module": "@jupyter-widgets/controls",
            "layout": "IPY_MODEL_9aecfcb6e1ae42659fa1d9d40ccf40a6"
          }
        },
        "f771dceaa57a46bba3f06193efb59b9b": {
          "model_module": "@jupyter-widgets/controls",
          "model_name": "DescriptionStyleModel",
          "model_module_version": "1.5.0",
          "state": {
            "_view_name": "StyleView",
            "_model_name": "DescriptionStyleModel",
            "description_width": "",
            "_view_module": "@jupyter-widgets/base",
            "_model_module_version": "1.5.0",
            "_view_count": null,
            "_view_module_version": "1.2.0",
            "_model_module": "@jupyter-widgets/controls"
          }
        },
        "f9fa7e249fe94f2f92c0127132fc3e15": {
          "model_module": "@jupyter-widgets/base",
          "model_name": "LayoutModel",
          "model_module_version": "1.2.0",
          "state": {
            "_view_name": "LayoutView",
            "grid_template_rows": null,
            "right": null,
            "justify_content": null,
            "_view_module": "@jupyter-widgets/base",
            "overflow": null,
            "_model_module_version": "1.2.0",
            "_view_count": null,
            "flex_flow": null,
            "width": null,
            "min_width": null,
            "border": null,
            "align_items": null,
            "bottom": null,
            "_model_module": "@jupyter-widgets/base",
            "top": null,
            "grid_column": null,
            "overflow_y": null,
            "overflow_x": null,
            "grid_auto_flow": null,
            "grid_area": null,
            "grid_template_columns": null,
            "flex": null,
            "_model_name": "LayoutModel",
            "justify_items": null,
            "grid_row": null,
            "max_height": null,
            "align_content": null,
            "visibility": null,
            "align_self": null,
            "height": null,
            "min_height": null,
            "padding": null,
            "grid_auto_rows": null,
            "grid_gap": null,
            "max_width": null,
            "order": null,
            "_view_module_version": "1.2.0",
            "grid_template_areas": null,
            "object_position": null,
            "object_fit": null,
            "grid_auto_columns": null,
            "margin": null,
            "display": null,
            "left": null
          }
        },
        "745d2eb580cf436e964bfc7f097acc75": {
          "model_module": "@jupyter-widgets/controls",
          "model_name": "ProgressStyleModel",
          "model_module_version": "1.5.0",
          "state": {
            "_view_name": "StyleView",
            "_model_name": "ProgressStyleModel",
            "description_width": "",
            "_view_module": "@jupyter-widgets/base",
            "_model_module_version": "1.5.0",
            "_view_count": null,
            "_view_module_version": "1.2.0",
            "bar_color": null,
            "_model_module": "@jupyter-widgets/controls"
          }
        },
        "26b92633f35a41569a093a9a06a4518e": {
          "model_module": "@jupyter-widgets/base",
          "model_name": "LayoutModel",
          "model_module_version": "1.2.0",
          "state": {
            "_view_name": "LayoutView",
            "grid_template_rows": null,
            "right": null,
            "justify_content": null,
            "_view_module": "@jupyter-widgets/base",
            "overflow": null,
            "_model_module_version": "1.2.0",
            "_view_count": null,
            "flex_flow": null,
            "width": null,
            "min_width": null,
            "border": null,
            "align_items": null,
            "bottom": null,
            "_model_module": "@jupyter-widgets/base",
            "top": null,
            "grid_column": null,
            "overflow_y": null,
            "overflow_x": null,
            "grid_auto_flow": null,
            "grid_area": null,
            "grid_template_columns": null,
            "flex": null,
            "_model_name": "LayoutModel",
            "justify_items": null,
            "grid_row": null,
            "max_height": null,
            "align_content": null,
            "visibility": null,
            "align_self": null,
            "height": null,
            "min_height": null,
            "padding": null,
            "grid_auto_rows": null,
            "grid_gap": null,
            "max_width": null,
            "order": null,
            "_view_module_version": "1.2.0",
            "grid_template_areas": null,
            "object_position": null,
            "object_fit": null,
            "grid_auto_columns": null,
            "margin": null,
            "display": null,
            "left": null
          }
        },
        "408bdd2b7e174a63bf4f4a8890e5d6b0": {
          "model_module": "@jupyter-widgets/controls",
          "model_name": "DescriptionStyleModel",
          "model_module_version": "1.5.0",
          "state": {
            "_view_name": "StyleView",
            "_model_name": "DescriptionStyleModel",
            "description_width": "",
            "_view_module": "@jupyter-widgets/base",
            "_model_module_version": "1.5.0",
            "_view_count": null,
            "_view_module_version": "1.2.0",
            "_model_module": "@jupyter-widgets/controls"
          }
        },
        "9aecfcb6e1ae42659fa1d9d40ccf40a6": {
          "model_module": "@jupyter-widgets/base",
          "model_name": "LayoutModel",
          "model_module_version": "1.2.0",
          "state": {
            "_view_name": "LayoutView",
            "grid_template_rows": null,
            "right": null,
            "justify_content": null,
            "_view_module": "@jupyter-widgets/base",
            "overflow": null,
            "_model_module_version": "1.2.0",
            "_view_count": null,
            "flex_flow": null,
            "width": null,
            "min_width": null,
            "border": null,
            "align_items": null,
            "bottom": null,
            "_model_module": "@jupyter-widgets/base",
            "top": null,
            "grid_column": null,
            "overflow_y": null,
            "overflow_x": null,
            "grid_auto_flow": null,
            "grid_area": null,
            "grid_template_columns": null,
            "flex": null,
            "_model_name": "LayoutModel",
            "justify_items": null,
            "grid_row": null,
            "max_height": null,
            "align_content": null,
            "visibility": null,
            "align_self": null,
            "height": null,
            "min_height": null,
            "padding": null,
            "grid_auto_rows": null,
            "grid_gap": null,
            "max_width": null,
            "order": null,
            "_view_module_version": "1.2.0",
            "grid_template_areas": null,
            "object_position": null,
            "object_fit": null,
            "grid_auto_columns": null,
            "margin": null,
            "display": null,
            "left": null
          }
        },
        "27f407a51c0546eab80b373e340e033d": {
          "model_module": "@jupyter-widgets/controls",
          "model_name": "HBoxModel",
          "model_module_version": "1.5.0",
          "state": {
            "_view_name": "HBoxView",
            "_dom_classes": [],
            "_model_name": "HBoxModel",
            "_view_module": "@jupyter-widgets/controls",
            "_model_module_version": "1.5.0",
            "_view_count": null,
            "_view_module_version": "1.5.0",
            "box_style": "",
            "layout": "IPY_MODEL_e056c6a585064380aa4bfb8de55c40e2",
            "_model_module": "@jupyter-widgets/controls",
            "children": [
              "IPY_MODEL_dab3f9ccb92d4e6ca4f7650f5881c8bf",
              "IPY_MODEL_82b1a8823fa1439e86d0b70e471777ba",
              "IPY_MODEL_16cccf87353b4295b5369c3394a94e57"
            ]
          }
        },
        "e056c6a585064380aa4bfb8de55c40e2": {
          "model_module": "@jupyter-widgets/base",
          "model_name": "LayoutModel",
          "model_module_version": "1.2.0",
          "state": {
            "_view_name": "LayoutView",
            "grid_template_rows": null,
            "right": null,
            "justify_content": null,
            "_view_module": "@jupyter-widgets/base",
            "overflow": null,
            "_model_module_version": "1.2.0",
            "_view_count": null,
            "flex_flow": null,
            "width": null,
            "min_width": null,
            "border": null,
            "align_items": null,
            "bottom": null,
            "_model_module": "@jupyter-widgets/base",
            "top": null,
            "grid_column": null,
            "overflow_y": null,
            "overflow_x": null,
            "grid_auto_flow": null,
            "grid_area": null,
            "grid_template_columns": null,
            "flex": null,
            "_model_name": "LayoutModel",
            "justify_items": null,
            "grid_row": null,
            "max_height": null,
            "align_content": null,
            "visibility": null,
            "align_self": null,
            "height": null,
            "min_height": null,
            "padding": null,
            "grid_auto_rows": null,
            "grid_gap": null,
            "max_width": null,
            "order": null,
            "_view_module_version": "1.2.0",
            "grid_template_areas": null,
            "object_position": null,
            "object_fit": null,
            "grid_auto_columns": null,
            "margin": null,
            "display": null,
            "left": null
          }
        },
        "dab3f9ccb92d4e6ca4f7650f5881c8bf": {
          "model_module": "@jupyter-widgets/controls",
          "model_name": "HTMLModel",
          "model_module_version": "1.5.0",
          "state": {
            "_view_name": "HTMLView",
            "style": "IPY_MODEL_205202ae70144bd08146e5960ff44e3d",
            "_dom_classes": [],
            "description": "",
            "_model_name": "HTMLModel",
            "placeholder": "​",
            "_view_module": "@jupyter-widgets/controls",
            "_model_module_version": "1.5.0",
            "value": "",
            "_view_count": null,
            "_view_module_version": "1.5.0",
            "description_tooltip": null,
            "_model_module": "@jupyter-widgets/controls",
            "layout": "IPY_MODEL_ba7d218493a34c1ba5b5b0ea369d7910"
          }
        },
        "82b1a8823fa1439e86d0b70e471777ba": {
          "model_module": "@jupyter-widgets/controls",
          "model_name": "FloatProgressModel",
          "model_module_version": "1.5.0",
          "state": {
            "_view_name": "ProgressView",
            "style": "IPY_MODEL_fda64f234531469b95f8c64f713509ed",
            "_dom_classes": [],
            "description": "",
            "_model_name": "FloatProgressModel",
            "bar_style": "success",
            "max": 4422102,
            "_view_module": "@jupyter-widgets/controls",
            "_model_module_version": "1.5.0",
            "value": 4422102,
            "_view_count": null,
            "_view_module_version": "1.5.0",
            "orientation": "horizontal",
            "min": 0,
            "description_tooltip": null,
            "_model_module": "@jupyter-widgets/controls",
            "layout": "IPY_MODEL_098b045bc037460db34df6efeb8f63c8"
          }
        },
        "16cccf87353b4295b5369c3394a94e57": {
          "model_module": "@jupyter-widgets/controls",
          "model_name": "HTMLModel",
          "model_module_version": "1.5.0",
          "state": {
            "_view_name": "HTMLView",
            "style": "IPY_MODEL_65b956ddec8c458882f68438ce58e1f7",
            "_dom_classes": [],
            "description": "",
            "_model_name": "HTMLModel",
            "placeholder": "​",
            "_view_module": "@jupyter-widgets/controls",
            "_model_module_version": "1.5.0",
            "value": " 4422656/? [00:00&lt;00:00, 7538639.03it/s]",
            "_view_count": null,
            "_view_module_version": "1.5.0",
            "description_tooltip": null,
            "_model_module": "@jupyter-widgets/controls",
            "layout": "IPY_MODEL_6e0ac70e188c4d82a091a00ef8c786ad"
          }
        },
        "205202ae70144bd08146e5960ff44e3d": {
          "model_module": "@jupyter-widgets/controls",
          "model_name": "DescriptionStyleModel",
          "model_module_version": "1.5.0",
          "state": {
            "_view_name": "StyleView",
            "_model_name": "DescriptionStyleModel",
            "description_width": "",
            "_view_module": "@jupyter-widgets/base",
            "_model_module_version": "1.5.0",
            "_view_count": null,
            "_view_module_version": "1.2.0",
            "_model_module": "@jupyter-widgets/controls"
          }
        },
        "ba7d218493a34c1ba5b5b0ea369d7910": {
          "model_module": "@jupyter-widgets/base",
          "model_name": "LayoutModel",
          "model_module_version": "1.2.0",
          "state": {
            "_view_name": "LayoutView",
            "grid_template_rows": null,
            "right": null,
            "justify_content": null,
            "_view_module": "@jupyter-widgets/base",
            "overflow": null,
            "_model_module_version": "1.2.0",
            "_view_count": null,
            "flex_flow": null,
            "width": null,
            "min_width": null,
            "border": null,
            "align_items": null,
            "bottom": null,
            "_model_module": "@jupyter-widgets/base",
            "top": null,
            "grid_column": null,
            "overflow_y": null,
            "overflow_x": null,
            "grid_auto_flow": null,
            "grid_area": null,
            "grid_template_columns": null,
            "flex": null,
            "_model_name": "LayoutModel",
            "justify_items": null,
            "grid_row": null,
            "max_height": null,
            "align_content": null,
            "visibility": null,
            "align_self": null,
            "height": null,
            "min_height": null,
            "padding": null,
            "grid_auto_rows": null,
            "grid_gap": null,
            "max_width": null,
            "order": null,
            "_view_module_version": "1.2.0",
            "grid_template_areas": null,
            "object_position": null,
            "object_fit": null,
            "grid_auto_columns": null,
            "margin": null,
            "display": null,
            "left": null
          }
        },
        "fda64f234531469b95f8c64f713509ed": {
          "model_module": "@jupyter-widgets/controls",
          "model_name": "ProgressStyleModel",
          "model_module_version": "1.5.0",
          "state": {
            "_view_name": "StyleView",
            "_model_name": "ProgressStyleModel",
            "description_width": "",
            "_view_module": "@jupyter-widgets/base",
            "_model_module_version": "1.5.0",
            "_view_count": null,
            "_view_module_version": "1.2.0",
            "bar_color": null,
            "_model_module": "@jupyter-widgets/controls"
          }
        },
        "098b045bc037460db34df6efeb8f63c8": {
          "model_module": "@jupyter-widgets/base",
          "model_name": "LayoutModel",
          "model_module_version": "1.2.0",
          "state": {
            "_view_name": "LayoutView",
            "grid_template_rows": null,
            "right": null,
            "justify_content": null,
            "_view_module": "@jupyter-widgets/base",
            "overflow": null,
            "_model_module_version": "1.2.0",
            "_view_count": null,
            "flex_flow": null,
            "width": null,
            "min_width": null,
            "border": null,
            "align_items": null,
            "bottom": null,
            "_model_module": "@jupyter-widgets/base",
            "top": null,
            "grid_column": null,
            "overflow_y": null,
            "overflow_x": null,
            "grid_auto_flow": null,
            "grid_area": null,
            "grid_template_columns": null,
            "flex": null,
            "_model_name": "LayoutModel",
            "justify_items": null,
            "grid_row": null,
            "max_height": null,
            "align_content": null,
            "visibility": null,
            "align_self": null,
            "height": null,
            "min_height": null,
            "padding": null,
            "grid_auto_rows": null,
            "grid_gap": null,
            "max_width": null,
            "order": null,
            "_view_module_version": "1.2.0",
            "grid_template_areas": null,
            "object_position": null,
            "object_fit": null,
            "grid_auto_columns": null,
            "margin": null,
            "display": null,
            "left": null
          }
        },
        "65b956ddec8c458882f68438ce58e1f7": {
          "model_module": "@jupyter-widgets/controls",
          "model_name": "DescriptionStyleModel",
          "model_module_version": "1.5.0",
          "state": {
            "_view_name": "StyleView",
            "_model_name": "DescriptionStyleModel",
            "description_width": "",
            "_view_module": "@jupyter-widgets/base",
            "_model_module_version": "1.5.0",
            "_view_count": null,
            "_view_module_version": "1.2.0",
            "_model_module": "@jupyter-widgets/controls"
          }
        },
        "6e0ac70e188c4d82a091a00ef8c786ad": {
          "model_module": "@jupyter-widgets/base",
          "model_name": "LayoutModel",
          "model_module_version": "1.2.0",
          "state": {
            "_view_name": "LayoutView",
            "grid_template_rows": null,
            "right": null,
            "justify_content": null,
            "_view_module": "@jupyter-widgets/base",
            "overflow": null,
            "_model_module_version": "1.2.0",
            "_view_count": null,
            "flex_flow": null,
            "width": null,
            "min_width": null,
            "border": null,
            "align_items": null,
            "bottom": null,
            "_model_module": "@jupyter-widgets/base",
            "top": null,
            "grid_column": null,
            "overflow_y": null,
            "overflow_x": null,
            "grid_auto_flow": null,
            "grid_area": null,
            "grid_template_columns": null,
            "flex": null,
            "_model_name": "LayoutModel",
            "justify_items": null,
            "grid_row": null,
            "max_height": null,
            "align_content": null,
            "visibility": null,
            "align_self": null,
            "height": null,
            "min_height": null,
            "padding": null,
            "grid_auto_rows": null,
            "grid_gap": null,
            "max_width": null,
            "order": null,
            "_view_module_version": "1.2.0",
            "grid_template_areas": null,
            "object_position": null,
            "object_fit": null,
            "grid_auto_columns": null,
            "margin": null,
            "display": null,
            "left": null
          }
        },
        "18565af1026a44f6982577f83d673ea7": {
          "model_module": "@jupyter-widgets/controls",
          "model_name": "HBoxModel",
          "model_module_version": "1.5.0",
          "state": {
            "_view_name": "HBoxView",
            "_dom_classes": [],
            "_model_name": "HBoxModel",
            "_view_module": "@jupyter-widgets/controls",
            "_model_module_version": "1.5.0",
            "_view_count": null,
            "_view_module_version": "1.5.0",
            "box_style": "",
            "layout": "IPY_MODEL_f8fb531b84e949a5a985808570d8dcbe",
            "_model_module": "@jupyter-widgets/controls",
            "children": [
              "IPY_MODEL_edc7329cd3b640788cdd3a573920b670",
              "IPY_MODEL_00bf8be483db4a1f9f03a88bab1d0960",
              "IPY_MODEL_7a6d0b971ce24961a31ba1e04da66c85"
            ]
          }
        },
        "f8fb531b84e949a5a985808570d8dcbe": {
          "model_module": "@jupyter-widgets/base",
          "model_name": "LayoutModel",
          "model_module_version": "1.2.0",
          "state": {
            "_view_name": "LayoutView",
            "grid_template_rows": null,
            "right": null,
            "justify_content": null,
            "_view_module": "@jupyter-widgets/base",
            "overflow": null,
            "_model_module_version": "1.2.0",
            "_view_count": null,
            "flex_flow": null,
            "width": null,
            "min_width": null,
            "border": null,
            "align_items": null,
            "bottom": null,
            "_model_module": "@jupyter-widgets/base",
            "top": null,
            "grid_column": null,
            "overflow_y": null,
            "overflow_x": null,
            "grid_auto_flow": null,
            "grid_area": null,
            "grid_template_columns": null,
            "flex": null,
            "_model_name": "LayoutModel",
            "justify_items": null,
            "grid_row": null,
            "max_height": null,
            "align_content": null,
            "visibility": null,
            "align_self": null,
            "height": null,
            "min_height": null,
            "padding": null,
            "grid_auto_rows": null,
            "grid_gap": null,
            "max_width": null,
            "order": null,
            "_view_module_version": "1.2.0",
            "grid_template_areas": null,
            "object_position": null,
            "object_fit": null,
            "grid_auto_columns": null,
            "margin": null,
            "display": null,
            "left": null
          }
        },
        "edc7329cd3b640788cdd3a573920b670": {
          "model_module": "@jupyter-widgets/controls",
          "model_name": "HTMLModel",
          "model_module_version": "1.5.0",
          "state": {
            "_view_name": "HTMLView",
            "style": "IPY_MODEL_133cc1e0ad6a49c7b2e2f0f2c014983f",
            "_dom_classes": [],
            "description": "",
            "_model_name": "HTMLModel",
            "placeholder": "​",
            "_view_module": "@jupyter-widgets/controls",
            "_model_module_version": "1.5.0",
            "value": "",
            "_view_count": null,
            "_view_module_version": "1.5.0",
            "description_tooltip": null,
            "_model_module": "@jupyter-widgets/controls",
            "layout": "IPY_MODEL_13b1377c769f4a5a97d011fc498c1f57"
          }
        },
        "00bf8be483db4a1f9f03a88bab1d0960": {
          "model_module": "@jupyter-widgets/controls",
          "model_name": "FloatProgressModel",
          "model_module_version": "1.5.0",
          "state": {
            "_view_name": "ProgressView",
            "style": "IPY_MODEL_1623be7e6f954bf8b31e9f587a403da4",
            "_dom_classes": [],
            "description": "",
            "_model_name": "FloatProgressModel",
            "bar_style": "success",
            "max": 5148,
            "_view_module": "@jupyter-widgets/controls",
            "_model_module_version": "1.5.0",
            "value": 5148,
            "_view_count": null,
            "_view_module_version": "1.5.0",
            "orientation": "horizontal",
            "min": 0,
            "description_tooltip": null,
            "_model_module": "@jupyter-widgets/controls",
            "layout": "IPY_MODEL_a5bb6ff576174d3197e75448028c4468"
          }
        },
        "7a6d0b971ce24961a31ba1e04da66c85": {
          "model_module": "@jupyter-widgets/controls",
          "model_name": "HTMLModel",
          "model_module_version": "1.5.0",
          "state": {
            "_view_name": "HTMLView",
            "style": "IPY_MODEL_63af39613bdc4526b0551f36c6e1d0ee",
            "_dom_classes": [],
            "description": "",
            "_model_name": "HTMLModel",
            "placeholder": "​",
            "_view_module": "@jupyter-widgets/controls",
            "_model_module_version": "1.5.0",
            "value": " 6144/? [00:00&lt;00:00, 185372.93it/s]",
            "_view_count": null,
            "_view_module_version": "1.5.0",
            "description_tooltip": null,
            "_model_module": "@jupyter-widgets/controls",
            "layout": "IPY_MODEL_7fd607fccd874490b3fef70a41b44ae9"
          }
        },
        "133cc1e0ad6a49c7b2e2f0f2c014983f": {
          "model_module": "@jupyter-widgets/controls",
          "model_name": "DescriptionStyleModel",
          "model_module_version": "1.5.0",
          "state": {
            "_view_name": "StyleView",
            "_model_name": "DescriptionStyleModel",
            "description_width": "",
            "_view_module": "@jupyter-widgets/base",
            "_model_module_version": "1.5.0",
            "_view_count": null,
            "_view_module_version": "1.2.0",
            "_model_module": "@jupyter-widgets/controls"
          }
        },
        "13b1377c769f4a5a97d011fc498c1f57": {
          "model_module": "@jupyter-widgets/base",
          "model_name": "LayoutModel",
          "model_module_version": "1.2.0",
          "state": {
            "_view_name": "LayoutView",
            "grid_template_rows": null,
            "right": null,
            "justify_content": null,
            "_view_module": "@jupyter-widgets/base",
            "overflow": null,
            "_model_module_version": "1.2.0",
            "_view_count": null,
            "flex_flow": null,
            "width": null,
            "min_width": null,
            "border": null,
            "align_items": null,
            "bottom": null,
            "_model_module": "@jupyter-widgets/base",
            "top": null,
            "grid_column": null,
            "overflow_y": null,
            "overflow_x": null,
            "grid_auto_flow": null,
            "grid_area": null,
            "grid_template_columns": null,
            "flex": null,
            "_model_name": "LayoutModel",
            "justify_items": null,
            "grid_row": null,
            "max_height": null,
            "align_content": null,
            "visibility": null,
            "align_self": null,
            "height": null,
            "min_height": null,
            "padding": null,
            "grid_auto_rows": null,
            "grid_gap": null,
            "max_width": null,
            "order": null,
            "_view_module_version": "1.2.0",
            "grid_template_areas": null,
            "object_position": null,
            "object_fit": null,
            "grid_auto_columns": null,
            "margin": null,
            "display": null,
            "left": null
          }
        },
        "1623be7e6f954bf8b31e9f587a403da4": {
          "model_module": "@jupyter-widgets/controls",
          "model_name": "ProgressStyleModel",
          "model_module_version": "1.5.0",
          "state": {
            "_view_name": "StyleView",
            "_model_name": "ProgressStyleModel",
            "description_width": "",
            "_view_module": "@jupyter-widgets/base",
            "_model_module_version": "1.5.0",
            "_view_count": null,
            "_view_module_version": "1.2.0",
            "bar_color": null,
            "_model_module": "@jupyter-widgets/controls"
          }
        },
        "a5bb6ff576174d3197e75448028c4468": {
          "model_module": "@jupyter-widgets/base",
          "model_name": "LayoutModel",
          "model_module_version": "1.2.0",
          "state": {
            "_view_name": "LayoutView",
            "grid_template_rows": null,
            "right": null,
            "justify_content": null,
            "_view_module": "@jupyter-widgets/base",
            "overflow": null,
            "_model_module_version": "1.2.0",
            "_view_count": null,
            "flex_flow": null,
            "width": null,
            "min_width": null,
            "border": null,
            "align_items": null,
            "bottom": null,
            "_model_module": "@jupyter-widgets/base",
            "top": null,
            "grid_column": null,
            "overflow_y": null,
            "overflow_x": null,
            "grid_auto_flow": null,
            "grid_area": null,
            "grid_template_columns": null,
            "flex": null,
            "_model_name": "LayoutModel",
            "justify_items": null,
            "grid_row": null,
            "max_height": null,
            "align_content": null,
            "visibility": null,
            "align_self": null,
            "height": null,
            "min_height": null,
            "padding": null,
            "grid_auto_rows": null,
            "grid_gap": null,
            "max_width": null,
            "order": null,
            "_view_module_version": "1.2.0",
            "grid_template_areas": null,
            "object_position": null,
            "object_fit": null,
            "grid_auto_columns": null,
            "margin": null,
            "display": null,
            "left": null
          }
        },
        "63af39613bdc4526b0551f36c6e1d0ee": {
          "model_module": "@jupyter-widgets/controls",
          "model_name": "DescriptionStyleModel",
          "model_module_version": "1.5.0",
          "state": {
            "_view_name": "StyleView",
            "_model_name": "DescriptionStyleModel",
            "description_width": "",
            "_view_module": "@jupyter-widgets/base",
            "_model_module_version": "1.5.0",
            "_view_count": null,
            "_view_module_version": "1.2.0",
            "_model_module": "@jupyter-widgets/controls"
          }
        },
        "7fd607fccd874490b3fef70a41b44ae9": {
          "model_module": "@jupyter-widgets/base",
          "model_name": "LayoutModel",
          "model_module_version": "1.2.0",
          "state": {
            "_view_name": "LayoutView",
            "grid_template_rows": null,
            "right": null,
            "justify_content": null,
            "_view_module": "@jupyter-widgets/base",
            "overflow": null,
            "_model_module_version": "1.2.0",
            "_view_count": null,
            "flex_flow": null,
            "width": null,
            "min_width": null,
            "border": null,
            "align_items": null,
            "bottom": null,
            "_model_module": "@jupyter-widgets/base",
            "top": null,
            "grid_column": null,
            "overflow_y": null,
            "overflow_x": null,
            "grid_auto_flow": null,
            "grid_area": null,
            "grid_template_columns": null,
            "flex": null,
            "_model_name": "LayoutModel",
            "justify_items": null,
            "grid_row": null,
            "max_height": null,
            "align_content": null,
            "visibility": null,
            "align_self": null,
            "height": null,
            "min_height": null,
            "padding": null,
            "grid_auto_rows": null,
            "grid_gap": null,
            "max_width": null,
            "order": null,
            "_view_module_version": "1.2.0",
            "grid_template_areas": null,
            "object_position": null,
            "object_fit": null,
            "grid_auto_columns": null,
            "margin": null,
            "display": null,
            "left": null
          }
        }
      }
    }
  },
  "cells": [
    {
      "cell_type": "markdown",
      "metadata": {
        "id": "KKFDl4lL5HMs"
      },
      "source": [
        "<a rel=\"license\" href=\"http://creativecommons.org/licenses/by-nc-sa/4.0/\"><img alt=\"Creative Commons License\" align=\"left\" src=\"https://i.creativecommons.org/l/by-nc-sa/4.0/80x15.png\" /></a>&nbsp;| [Emmanuel Rachelson](https://personnel.isae-supaero.fr/emmanuel-rachelson?lang=en) and [Dennis G. Wilson](https://personnel.isae-supaero.fr/dennis-wilson) | <a href=\"https://supaerodatascience.github.io/deep-learning/\">https://supaerodatascience.github.io/deep-learning/</a>"
      ]
    },
    {
      "cell_type": "markdown",
      "metadata": {
        "id": "gkg7fKHq5HMv"
      },
      "source": [
        "<div style=\"font-size:22pt; line-height:25pt; font-weight:bold; text-align:center;\"> Deep Learning</div>\n",
        "\n",
        "This class supposes a basic knowledge of Artificial Neural Networks, Backpropagation and Stochastic Gradient Descent (as introduced in the previous class). If you want an in-depth refresher on linear algebra specific to deep learning, [these notebooks](https://github.com/hadrienj/deepLearningBook-Notes) are well-done.\n",
        "\n",
        "0. [Preparation](#sec0)\n",
        "1. [Dataset: Fashion-MNIST](#sec1)\n",
        "2. [ANNs in Layers](#sec2)\n",
        "3. [Backpropagation and training](#sec3)\n",
        "4. [Activation Functions](#sec4)\n",
        "5. [Convolutional Neural Networks](#sec5)\n",
        "6. [Overfitting](#sec6)\n",
        "7. [Improving Optimization](#sec7)\n"
      ]
    },
    {
      "cell_type": "markdown",
      "metadata": {
        "id": "UHc5PAHZ5HMw"
      },
      "source": [
        "# <a id=\"sec0\">0. Preparation</a>"
      ]
    },
    {
      "cell_type": "markdown",
      "metadata": {
        "id": "gwW7pB3_5HMw"
      },
      "source": [
        "In this notebook, we'll be using `torch`, `torchvision`, and `ignite`. Please refer to the [PyTorch](https://pytorch.org/get-started/locally/) website for installation instructions. We'll also be using the packages `sklearn`, `numpy`, and `matplotlib`. To make the notebook into slides, I'm using [`rise`](https://github.com/damianavila/RISE) which you can also install. Note that this notebook is fairly compute intensive and might be better [run in Google Colab.](https://colab.research.google.com/github/SupaeroDataScience/deep-learning/blob/main/deep/Deep%20Learning.ipynb)"
      ]
    },
    {
      "cell_type": "markdown",
      "metadata": {
        "id": "_wnUyi705HMx"
      },
      "source": [
        "<div class=\"alert alert-success\">\n",
        "Exercise 1:\n",
        "Install the necessary packages and verify that everything is working by importing everything.\n",
        "</div>"
      ]
    },
    {
      "cell_type": "code",
      "metadata": {
        "id": "aV5bGi2U5HMx"
      },
      "source": [
        "# !pip install torch torchvision pytorch-ignite"
      ],
      "execution_count": null,
      "outputs": []
    },
    {
      "cell_type": "code",
      "metadata": {
        "id": "OhLFWAU35HMy"
      },
      "source": [
        "import torch\n",
        "import torchvision\n",
        "import numpy as np\n",
        "%matplotlib inline\n",
        "import matplotlib.pyplot as plt"
      ],
      "execution_count": 1,
      "outputs": []
    },
    {
      "cell_type": "markdown",
      "metadata": {
        "id": "nOIzFAsZ5HMy"
      },
      "source": [
        "# <a id=\"sec1\">1. Dataset: Fashion-MNIST</a>"
      ]
    },
    {
      "cell_type": "markdown",
      "metadata": {
        "id": "HLRsiqzX5HMy"
      },
      "source": [
        "[Fashion-MNIST](https://github.com/zalandoresearch/fashion-mnist) is a dataset of Zalando's article images—consisting of a training set of 60,000 examples and a test set of 10,000 examples. Each example is a 28x28 grayscale image, associated with a label from 10 classes. Fashion-MNIST is a direct drop-in replacement for the original MNIST dataset for benchmarking machine learning algorithms. It shares the same image size and structure of training and testing splits but is more complex.\n",
        "\n",
        "<img src=\"img/fashion-mnist-small.png\">"
      ]
    },
    {
      "cell_type": "code",
      "metadata": {
        "id": "2qHlU-9_5HMz"
      },
      "source": [
        "labels_text = [\"T-shirt/top\", \"Trouser\", \"Pullover\", \"Dress\", \"Coat\", \"Sandal\", \"Shirt\", \"Sneaker\", \"Bag\", \"Ankle boot\"]"
      ],
      "execution_count": 2,
      "outputs": []
    },
    {
      "cell_type": "markdown",
      "metadata": {
        "id": "s41W4UWU5HM0"
      },
      "source": [
        "PyTorch comes with this dataset by default, but we need to download it. We'll then make dataloaders which lazily iterate through the datasets. We'll use a training set and a validation set and greatly reduce their sizes to make this notebook run in a reasonable time."
      ]
    },
    {
      "cell_type": "code",
      "metadata": {
        "colab": {
          "base_uri": "https://localhost:8080/",
          "height": 423,
          "referenced_widgets": [
            "feaa5ad407cc4aa7aee4f78b79bb367c",
            "353e63b395154eff8c3570314eb6bb47",
            "108bc0d6a04b4a6d9e4255f7147abade",
            "3e52659f921540598138c1c3a0482d1d",
            "54fb84f14ca64b488029c4e086254e94",
            "0bb2c31e99b344cbba52f0c803a2022d",
            "5c3b4138c6694bf4b64be52c72d2c6f6",
            "9902ad45f4d346c2963fcef09a23c233",
            "2b6c6c27d77c40a28f8c9a80d6b80c20",
            "3593b07896bd4a66812cdba156667a05",
            "5dc5c73faaad4333a100b7b8a26e4972",
            "f5b53906ae38432a8d7cb1d5335786ef",
            "ce6fc73ca902449f83c239bd2a5f2d1a",
            "3fa69d9ad4a64a3cb3afa57c1db429ae",
            "e35ee67353ea45fdbace42bdfb6e44b9",
            "015991b1e05c40b5a0f018551c2e0ec1",
            "f771dceaa57a46bba3f06193efb59b9b",
            "f9fa7e249fe94f2f92c0127132fc3e15",
            "745d2eb580cf436e964bfc7f097acc75",
            "26b92633f35a41569a093a9a06a4518e",
            "408bdd2b7e174a63bf4f4a8890e5d6b0",
            "9aecfcb6e1ae42659fa1d9d40ccf40a6",
            "27f407a51c0546eab80b373e340e033d",
            "e056c6a585064380aa4bfb8de55c40e2",
            "dab3f9ccb92d4e6ca4f7650f5881c8bf",
            "82b1a8823fa1439e86d0b70e471777ba",
            "16cccf87353b4295b5369c3394a94e57",
            "205202ae70144bd08146e5960ff44e3d",
            "ba7d218493a34c1ba5b5b0ea369d7910",
            "fda64f234531469b95f8c64f713509ed",
            "098b045bc037460db34df6efeb8f63c8",
            "65b956ddec8c458882f68438ce58e1f7",
            "6e0ac70e188c4d82a091a00ef8c786ad",
            "18565af1026a44f6982577f83d673ea7",
            "f8fb531b84e949a5a985808570d8dcbe",
            "edc7329cd3b640788cdd3a573920b670",
            "00bf8be483db4a1f9f03a88bab1d0960",
            "7a6d0b971ce24961a31ba1e04da66c85",
            "133cc1e0ad6a49c7b2e2f0f2c014983f",
            "13b1377c769f4a5a97d011fc498c1f57",
            "1623be7e6f954bf8b31e9f587a403da4",
            "a5bb6ff576174d3197e75448028c4468",
            "63af39613bdc4526b0551f36c6e1d0ee",
            "7fd607fccd874490b3fef70a41b44ae9"
          ]
        },
        "id": "jRtLetnP5HM1",
        "outputId": "eb8dbdd7-e272-4042-f754-d91051281288"
      },
      "source": [
        "import torchvision.transforms as transforms\n",
        "transform = transforms.Compose([transforms.ToTensor(),\n",
        "                                transforms.Normalize((0.5,), (0.5,))]) #normalize=>centrée avec écart type 0.5 pour pouvoir se ramener après produit dans zone où sigmoid est linéaire\n",
        "\n",
        "full_trainset = torchvision.datasets.FashionMNIST(root='../data', train=True, download=True, transform=transform)\n",
        "trainset, full_validset = torch.utils.data.random_split(full_trainset, (10000, 50000)) #training set = 10000\n",
        "validset, _ = torch.utils.data.random_split(full_validset, (1000, 49000)) #validating set = 1000\n",
        "\n",
        "trainloader = torch.utils.data.DataLoader(trainset, batch_size=4, shuffle=True, num_workers=2) #a chaque epoch est-ce qu'on shuffle\n",
        "validloader = torch.utils.data.DataLoader(validset, batch_size=4, shuffle=False, num_workers=2)"
      ],
      "execution_count": 3,
      "outputs": [
        {
          "output_type": "stream",
          "name": "stdout",
          "text": [
            "Downloading http://fashion-mnist.s3-website.eu-central-1.amazonaws.com/train-images-idx3-ubyte.gz\n",
            "Downloading http://fashion-mnist.s3-website.eu-central-1.amazonaws.com/train-images-idx3-ubyte.gz to ../data/FashionMNIST/raw/train-images-idx3-ubyte.gz\n"
          ]
        },
        {
          "output_type": "display_data",
          "data": {
            "application/vnd.jupyter.widget-view+json": {
              "model_id": "feaa5ad407cc4aa7aee4f78b79bb367c",
              "version_minor": 0,
              "version_major": 2
            },
            "text/plain": [
              "  0%|          | 0/26421880 [00:00<?, ?it/s]"
            ]
          },
          "metadata": {}
        },
        {
          "output_type": "stream",
          "name": "stdout",
          "text": [
            "Extracting ../data/FashionMNIST/raw/train-images-idx3-ubyte.gz to ../data/FashionMNIST/raw\n",
            "\n",
            "Downloading http://fashion-mnist.s3-website.eu-central-1.amazonaws.com/train-labels-idx1-ubyte.gz\n",
            "Downloading http://fashion-mnist.s3-website.eu-central-1.amazonaws.com/train-labels-idx1-ubyte.gz to ../data/FashionMNIST/raw/train-labels-idx1-ubyte.gz\n"
          ]
        },
        {
          "output_type": "display_data",
          "data": {
            "application/vnd.jupyter.widget-view+json": {
              "model_id": "f5b53906ae38432a8d7cb1d5335786ef",
              "version_minor": 0,
              "version_major": 2
            },
            "text/plain": [
              "  0%|          | 0/29515 [00:00<?, ?it/s]"
            ]
          },
          "metadata": {}
        },
        {
          "output_type": "stream",
          "name": "stdout",
          "text": [
            "Extracting ../data/FashionMNIST/raw/train-labels-idx1-ubyte.gz to ../data/FashionMNIST/raw\n",
            "\n",
            "Downloading http://fashion-mnist.s3-website.eu-central-1.amazonaws.com/t10k-images-idx3-ubyte.gz\n",
            "Downloading http://fashion-mnist.s3-website.eu-central-1.amazonaws.com/t10k-images-idx3-ubyte.gz to ../data/FashionMNIST/raw/t10k-images-idx3-ubyte.gz\n"
          ]
        },
        {
          "output_type": "display_data",
          "data": {
            "application/vnd.jupyter.widget-view+json": {
              "model_id": "27f407a51c0546eab80b373e340e033d",
              "version_minor": 0,
              "version_major": 2
            },
            "text/plain": [
              "  0%|          | 0/4422102 [00:00<?, ?it/s]"
            ]
          },
          "metadata": {}
        },
        {
          "output_type": "stream",
          "name": "stdout",
          "text": [
            "Extracting ../data/FashionMNIST/raw/t10k-images-idx3-ubyte.gz to ../data/FashionMNIST/raw\n",
            "\n",
            "Downloading http://fashion-mnist.s3-website.eu-central-1.amazonaws.com/t10k-labels-idx1-ubyte.gz\n",
            "Downloading http://fashion-mnist.s3-website.eu-central-1.amazonaws.com/t10k-labels-idx1-ubyte.gz to ../data/FashionMNIST/raw/t10k-labels-idx1-ubyte.gz\n"
          ]
        },
        {
          "output_type": "display_data",
          "data": {
            "application/vnd.jupyter.widget-view+json": {
              "model_id": "18565af1026a44f6982577f83d673ea7",
              "version_minor": 0,
              "version_major": 2
            },
            "text/plain": [
              "  0%|          | 0/5148 [00:00<?, ?it/s]"
            ]
          },
          "metadata": {}
        },
        {
          "output_type": "stream",
          "name": "stdout",
          "text": [
            "Extracting ../data/FashionMNIST/raw/t10k-labels-idx1-ubyte.gz to ../data/FashionMNIST/raw\n",
            "\n"
          ]
        }
      ]
    },
    {
      "cell_type": "markdown",
      "metadata": {
        "id": "GolwSVlo5HM1"
      },
      "source": [
        "The test data should also be downloaded. We'll use it at the very end of this notebook to test our model."
      ]
    },
    {
      "cell_type": "code",
      "metadata": {
        "id": "M0uKE4gQ5HM1"
      },
      "source": [
        "testset = torchvision.datasets.FashionMNIST(root='../data', train=False, download=True, transform=transform)"
      ],
      "execution_count": 4,
      "outputs": []
    },
    {
      "cell_type": "markdown",
      "metadata": {
        "id": "ZY6I7XES8Xhh"
      },
      "source": [
        "training + validating set sont des données connues (used during training to check generalisation error)\\\n",
        "testing set used in real life (not necessarily known data)"
      ]
    },
    {
      "cell_type": "markdown",
      "metadata": {
        "id": "w_eS_GDO5HM1"
      },
      "source": [
        "<div class=\"alert alert-success\">\n",
        "Exercise 2:\n",
        "Download the Fashion-MNIST dataset and run the following code.\n",
        "    \n",
        "+ Why are there 4 images in our list?\n",
        "+ Why does the list of images change every time we run the code?\n",
        "\n",
        "</div>"
      ]
    },
    {
      "cell_type": "code",
      "metadata": {
        "colab": {
          "base_uri": "https://localhost:8080/",
          "height": 264
        },
        "id": "KbdajYl35HM1",
        "outputId": "1ab9de54-a376-449a-b5e4-bc6a5dbbe265"
      },
      "source": [
        "# get the first batch of images and labels\n",
        "dataiter = iter(trainloader)\n",
        "images, labels = dataiter.next() # passer d'un mini batch a un autre\n",
        "\n",
        "plt.figure(figsize=(4,4))\n",
        "for i in range(len(images)):\n",
        "    l = labels[i].numpy()\n",
        "    plt.subplot(2, 2, i+1)\n",
        "    plt.title('%d: %s' % (l, labels_text[l]))\n",
        "    plt.imshow(images[i].numpy()[0], cmap='Greys')\n",
        "    plt.axis('off')"
      ],
      "execution_count": 5,
      "outputs": [
        {
          "output_type": "display_data",
          "data": {
            "image/png": "[encoded data removed]",
            "text/plain": [
              "<Figure size 288x288 with 4 Axes>"
            ]
          },
          "metadata": {
            "needs_background": "light"
          }
        }
      ]
    },
    {
      "cell_type": "markdown",
      "metadata": {
        "id": "5-Szf1TM5HM1"
      },
      "source": [
        "For the rest of today, we'll focus on creating a deep neural network that accurately classifies these images. This will highlight one application of deep learning, image processing, which has been highly successful. In upcoming classes, we'll see other examples of deep learning (GANs, LSTMs) which have different architectures and training rules. However, the basic principles remain the same!"
      ]
    },
    {
      "cell_type": "markdown",
      "metadata": {
        "id": "ykzMFsD75HM1"
      },
      "source": [
        "# <a id=\"sec2\">2. ANNs in Layers</a>"
      ]
    },
    {
      "cell_type": "markdown",
      "metadata": {
        "id": "knkvs0N55HM1"
      },
      "source": [
        "Last class, we looked at individual neurons organized in networks like this:\n",
        "\n",
        "<img src=\"img/nn_fc.png\" width=\"60%\">\n",
        "\n",
        "These two hidden layers are called \"Fully Connected layers\" because every neuron of these layers is connected to every neuron of the previous layer."
      ]
    },
    {
      "cell_type": "markdown",
      "metadata": {
        "id": "Y44lPqyc5HM2"
      },
      "source": [
        "In PyTorch, Fully Connected layers are represented with the `torch.nn.Linear` function. The documentation is [here](https://pytorch.org/docs/stable/nn.html?highlight=torch%20nn%20linear#torch.nn.Linear) or we can ask Jupyter:"
      ]
    },
    {
      "cell_type": "code",
      "metadata": {
        "id": "cerG5iB45HM2"
      },
      "source": [
        "help(torch.nn.Linear)"
      ],
      "execution_count": null,
      "outputs": []
    },
    {
      "cell_type": "markdown",
      "metadata": {
        "id": "GhE1ZfFH5HM3"
      },
      "source": [
        "Let's make a single fully connected layer:"
      ]
    },
    {
      "cell_type": "code",
      "metadata": {
        "id": "KsrKhlO45HM3"
      },
      "source": [
        "from torch import nn\n",
        "fc = nn.Linear(784, 10)"
      ],
      "execution_count": 6,
      "outputs": []
    },
    {
      "cell_type": "markdown",
      "metadata": {
        "id": "Ypqji_2J5HM3"
      },
      "source": [
        "Let's use this layer as a network and construct a forward pass function. Our image data is 28 by 28, but we want it to match the layer dimensions. We'll transform the image from 28 by 28 to 1 by 784, and then pass the image through our fully connected layer."
      ]
    },
    {
      "cell_type": "code",
      "metadata": {
        "id": "FGvUJ8el5HM3"
      },
      "source": [
        "def forward(x):\n",
        "    x = x.view(-1, 28 * 28) # Transforms from (1, 28, 28) to (1, 784)\n",
        "    x = fc(x) # Goes through fully connected layer\n",
        "    return x # Output, 10 neurons"
      ],
      "execution_count": 7,
      "outputs": []
    },
    {
      "cell_type": "markdown",
      "metadata": {
        "id": "t2h7qoSV5HM3"
      },
      "source": [
        "We'll take the maximum output as our label prediction. Let's see how this layer does - remember we haven't trained it, it's completely random."
      ]
    },
    {
      "cell_type": "code",
      "metadata": {
        "colab": {
          "base_uri": "https://localhost:8080/"
        },
        "id": "P_MUSPr75HM4",
        "outputId": "4db986d5-7580-4afb-ad8d-8ab490cd94ff"
      },
      "source": [
        "for batch in range(3):\n",
        "    images, labels = dataiter.next()\n",
        "    for i in range(len(images)):\n",
        "        outputs = forward(images[i])\n",
        "        h = np.argmax(outputs.detach().numpy()) #indice neurone de sortie avec plus grande prediction (proba) \n",
        "                                                # pour manipuler des objets pytorch en numpy on les sort de pytorch (detach) et on les transform en objets numpy\n",
        "        y = labels[i]\n",
        "        print('True: %d %s, Predicted: %d %s' % (y, labels_text[y], h, labels_text[h]))"
      ],
      "execution_count": 8,
      "outputs": [
        {
          "output_type": "stream",
          "name": "stdout",
          "text": [
            "True: 7 Sneaker, Predicted: 1 Trouser\n",
            "True: 3 Dress, Predicted: 1 Trouser\n",
            "True: 9 Ankle boot, Predicted: 1 Trouser\n",
            "True: 2 Pullover, Predicted: 8 Bag\n",
            "True: 2 Pullover, Predicted: 8 Bag\n",
            "True: 6 Shirt, Predicted: 1 Trouser\n",
            "True: 1 Trouser, Predicted: 8 Bag\n",
            "True: 6 Shirt, Predicted: 6 Shirt\n",
            "True: 3 Dress, Predicted: 1 Trouser\n",
            "True: 3 Dress, Predicted: 8 Bag\n",
            "True: 5 Sandal, Predicted: 1 Trouser\n",
            "True: 9 Ankle boot, Predicted: 8 Bag\n"
          ]
        }
      ]
    },
    {
      "cell_type": "markdown",
      "metadata": {
        "id": "Vc7WC8MK5HM4"
      },
      "source": [
        "Let's double check that our fully connected layer is simply doing $$y = w^T x + b$$"
      ]
    },
    {
      "cell_type": "code",
      "metadata": {
        "colab": {
          "base_uri": "https://localhost:8080/"
        },
        "id": "-9ANU1qN5HM4",
        "outputId": "0c778653-077f-4961-ada9-db52aac8e334"
      },
      "source": [
        "a = (np.matmul(images[1].view(-1, 784), np.transpose(fc.weight.detach().numpy())) + fc.bias)[0].detach().numpy()\n",
        "b = forward(images[1]).detach().numpy()\n",
        "print('Numpy:\\n', a)\n",
        "print('PyTorch:\\n', b)"
      ],
      "execution_count": 9,
      "outputs": [
        {
          "output_type": "stream",
          "name": "stdout",
          "text": [
            "Numpy:\n",
            " [-0.2885456   0.869617   -0.39101303 -0.33210954  0.12492205 -0.09346342\n",
            "  0.5065313  -0.22478592  1.1738751   0.5028898 ]\n",
            "PyTorch:\n",
            " [[-0.28854585  0.86961704 -0.39101297 -0.33210975  0.12492201 -0.09346339\n",
            "   0.50653154 -0.22478604  1.1738751   0.50289017]]\n"
          ]
        }
      ]
    },
    {
      "cell_type": "code",
      "metadata": {
        "id": "PtVFtzu05HM4"
      },
      "source": [
        "print(a == b, 'difference: ', np.sum((a-b)**2))"
      ],
      "execution_count": null,
      "outputs": []
    },
    {
      "cell_type": "markdown",
      "metadata": {
        "id": "6yU1_OsO5HM4"
      },
      "source": [
        "We have some slight errors due to floating point representation differences between PyTorch and numpy, but the calculation is the same!"
      ]
    },
    {
      "cell_type": "markdown",
      "metadata": {
        "id": "W8-NzgAr5HM5"
      },
      "source": [
        "<div class=\"alert alert-success\">\n",
        "Exercise 3:\n",
        "    \n",
        "1. The following code produces different predictions every time. Why? Change it so that it always predicts the same response.\n",
        "2. Change the forward pass function to a network with the following fully connected layers: (784, 128), (128, 10). Test this network with random weights on some images.\n",
        "    \n",
        "</div>"
      ]
    },
    {
      "cell_type": "code",
      "metadata": {
        "colab": {
          "base_uri": "https://localhost:8080/"
        },
        "id": "G8f8s07r5HM5",
        "outputId": "9457f160-3f34-4d4b-c34a-50842d7be8b3"
      },
      "source": [
        "def forward(x):\n",
        "    x = x.view(-1, 28 * 28)\n",
        "    x = nn.Linear(784,10)(x)\n",
        "    return x\n",
        "\n",
        "for i in range(len(images)):\n",
        "    outputs = forward(images[i])\n",
        "    h = np.argmax(outputs.detach().numpy())\n",
        "    y = labels[i]\n",
        "    print('True: %d %s, Predicted: %d %s' % (y, labels_text[y], h, labels_text[h]))"
      ],
      "execution_count": 13,
      "outputs": [
        {
          "output_type": "stream",
          "name": "stdout",
          "text": [
            "True: 3 Dress, Predicted: 4 Coat\n",
            "True: 3 Dress, Predicted: 1 Trouser\n",
            "True: 5 Sandal, Predicted: 4 Coat\n",
            "True: 9 Ankle boot, Predicted: 3 Dress\n"
          ]
        }
      ]
    },
    {
      "cell_type": "code",
      "metadata": {
        "colab": {
          "base_uri": "https://localhost:8080/"
        },
        "id": "EoT7yJnG5HM5",
        "outputId": "c91e5c4f-76d9-41ab-a2e9-0b62180ed2cb"
      },
      "source": [
        "# %load solutions/ex3_1.py\n",
        "\n",
        "def forward(x):\n",
        "    x = x.view(-1, 28 * 28)\n",
        "    x = fc(x) #random venait de nn.Linear reinitialiser a chaque forward\n",
        "    return x\n",
        "  \n",
        "for i in range(len(images)):\n",
        "    outputs = forward(images[i])\n",
        "    h = np.argmax(outputs.detach().numpy())\n",
        "    y = labels[i]\n",
        "    print('True: %d %s, Predicted: %d %s' % (y, labels_text[y], h, labels_text[h]))"
      ],
      "execution_count": 27,
      "outputs": [
        {
          "output_type": "stream",
          "name": "stdout",
          "text": [
            "True: 3 Dress, Predicted: 1 Trouser\n",
            "True: 3 Dress, Predicted: 8 Bag\n",
            "True: 5 Sandal, Predicted: 1 Trouser\n",
            "True: 9 Ankle boot, Predicted: 8 Bag\n"
          ]
        }
      ]
    },
    {
      "cell_type": "code",
      "metadata": {
        "colab": {
          "base_uri": "https://localhost:8080/"
        },
        "id": "fe-MOJlJ5HM5",
        "outputId": "8d2d8157-1862-42ec-a1f2-bc080e8931a7"
      },
      "source": [
        "# %load solutions/ex3_2.py\n",
        "\n",
        "fin = nn.Linear(784,128)\n",
        "fhi = nn.Linear(128, 10)\n",
        "\n",
        "def forward(x):\n",
        "    x = x.view(-1, 28 * 28)\n",
        "    x = fin(x)\n",
        "    x = fhi(x)\n",
        "    return x\n",
        "  \n",
        "for i in range(len(images)):\n",
        "    outputs = forward(images[i])\n",
        "    h = np.argmax(outputs.detach().numpy())\n",
        "    y = labels[i]\n",
        "    print('True: %d %s, Predicted: %d %s' % (y, labels_text[y], h, labels_text[h]))"
      ],
      "execution_count": 28,
      "outputs": [
        {
          "output_type": "stream",
          "name": "stdout",
          "text": [
            "True: 3 Dress, Predicted: 3 Dress\n",
            "True: 3 Dress, Predicted: 3 Dress\n",
            "True: 5 Sandal, Predicted: 3 Dress\n",
            "True: 9 Ankle boot, Predicted: 3 Dress\n"
          ]
        }
      ]
    },
    {
      "cell_type": "markdown",
      "metadata": {
        "id": "ZAo04tz55HM5"
      },
      "source": [
        "We'll formalize our neural network functions in a `torch.nn.Module` class which creates the layers when initialized and then calculates the forward pass of the network with the function `forward(x)`."
      ]
    },
    {
      "cell_type": "code",
      "metadata": {
        "id": "g3gop0_Z5HM6"
      },
      "source": [
        "class SimpleNet(nn.Module):\n",
        "    def __init__(self):\n",
        "        super(SimpleNet, self).__init__()\n",
        "        self.fc1 = nn.Linear(784, 120)\n",
        "        self.fc2 = nn.Linear(120, 10)\n",
        "\n",
        "    def forward(self, x):\n",
        "        x = x.view(-1, 784)\n",
        "        x = self.fc1(x)\n",
        "        x = self.fc2(x)\n",
        "        return x\n",
        "net = SimpleNet()"
      ],
      "execution_count": 29,
      "outputs": []
    },
    {
      "cell_type": "markdown",
      "metadata": {
        "id": "4d70Ec285HM6"
      },
      "source": [
        "Now that we have our network, we're ready to train it."
      ]
    },
    {
      "cell_type": "markdown",
      "metadata": {
        "id": "0BBrLtYk5HM6"
      },
      "source": [
        "# <a id=\"sec3\">3. Backpropagation and training</a>"
      ]
    },
    {
      "cell_type": "markdown",
      "metadata": {
        "id": "Cx-f3mDt5HM6"
      },
      "source": [
        "So far, the way we've been using `torch` has been almost equivalent to `numpy`, and we've been calling `detach().numpy()` on `torch` objects to convert them to numpy arrays. We haven't yet taken advantage of the main benefit of `torch`: automatic differentiation. Let's look at that and see how it helps us train our neural network."
      ]
    },
    {
      "cell_type": "markdown",
      "metadata": {
        "id": "UW-dJ9hh5HM6"
      },
      "source": [
        "First, a bit of vocabulary. The objects we're working with, neural network weights and biases, are called `tensors`. \n",
        "<img src=\"img/tensor.png\" width=\"50%\">\n",
        "A `tensor` is a generic term for a linear mapping of any linear mapping from one algeabraic object to another. A scalar is a single value, a vector a 1D object of values, a matrix a 2D object, and a tensor is an N-dimension object (scalars, vectors, and matrices are also tensors). In deep learning frameworks, tensors are the core computational object. We store all values in tensors and link them in computational graphs."
      ]
    },
    {
      "cell_type": "markdown",
      "metadata": {
        "id": "sPfCaA9z5HM6"
      },
      "source": [
        "A torch tensor looks very much like a numpy object. We can compare a 2D torch tensor and a numpy matrix:"
      ]
    },
    {
      "cell_type": "code",
      "metadata": {
        "colab": {
          "base_uri": "https://localhost:8080/"
        },
        "id": "NQ7_J7tW5HM6",
        "outputId": "5a17caa4-57b9-4092-dc1c-3ccdf17f6742"
      },
      "source": [
        "a = np.ones((2, 2))\n",
        "b = torch.ones(2, 2)\n",
        "print('Numpy: ', a)\n",
        "print('Torch: ', b)\n",
        "np.all(b.numpy() == a)"
      ],
      "execution_count": 30,
      "outputs": [
        {
          "output_type": "stream",
          "name": "stdout",
          "text": [
            "Numpy:  [[1. 1.]\n",
            " [1. 1.]]\n",
            "Torch:  tensor([[1., 1.],\n",
            "        [1., 1.]])\n"
          ]
        },
        {
          "output_type": "execute_result",
          "data": {
            "text/plain": [
              "True"
            ]
          },
          "metadata": {},
          "execution_count": 30
        }
      ]
    },
    {
      "cell_type": "markdown",
      "metadata": {
        "id": "r2P8MPr_5HM6"
      },
      "source": [
        "However, we can ask torch to keep track of the gradient of a tensor. As this tensor is used to compute other tensors, this will create a computational graph."
      ]
    },
    {
      "cell_type": "code",
      "metadata": {
        "colab": {
          "base_uri": "https://localhost:8080/"
        },
        "id": "zZuSs-Wb5HM7",
        "outputId": "42d23924-fd12-46d9-9b7e-8588da65f35f"
      },
      "source": [
        "x = torch.ones(2, 2, requires_grad=True)\n",
        "print('x: ', x)\n",
        "y = (3 * x * x).mean() #on a applique une serie d operations de calcul (graphe de calcul), grad_fn est le dernier noeud pour avoir y\n",
        "print('y: ', y)\n",
        "y.backward() #calcule grads en remontant graphe de calcul\n",
        "print('dy/dx: ', x.grad) # dx/dy applique en x"
      ],
      "execution_count": 31,
      "outputs": [
        {
          "output_type": "stream",
          "name": "stdout",
          "text": [
            "x:  tensor([[1., 1.],\n",
            "        [1., 1.]], requires_grad=True)\n",
            "y:  tensor(3., grad_fn=<MeanBackward0>)\n",
            "dy/dx:  tensor([[1.5000, 1.5000],\n",
            "        [1.5000, 1.5000]])\n"
          ]
        }
      ]
    },
    {
      "cell_type": "markdown",
      "metadata": {
        "id": "s44bVwFP5HM7"
      },
      "source": [
        "The gradient definition in `y` depends on the calculation of `x` and allows us to calculate `dy/dx` by calling `backward()`. This is known as automatic differentiation, as the gradients at each step in the computation are automatically calculated. If you want to go further in detail about this, check out the [autograd tutorial](https://pytorch.org/tutorials/beginner/blitz/autograd_tutorial.html)."
      ]
    },
    {
      "cell_type": "markdown",
      "metadata": {
        "id": "5yP7HFko5HM7"
      },
      "source": [
        "Let's use automatic differentiation to calculate the gradients of our neural network parameters. This will automatically perform backpropogation using the gradient definition at each function in our network."
      ]
    },
    {
      "cell_type": "code",
      "metadata": {
        "colab": {
          "base_uri": "https://localhost:8080/"
        },
        "id": "phgQfxfC5HM7",
        "outputId": "e8a8151a-4cd9-4dc7-e20e-e523538461f0"
      },
      "source": [
        "dataiter = iter(trainloader)\n",
        "images, labels = dataiter.next()\n",
        "onehot = torch.nn.functional.one_hot(labels, num_classes=10).float() #transforme label (num) en distrib de proba qui correspondrait\n",
        "\n",
        "labels, onehot"
      ],
      "execution_count": 32,
      "outputs": [
        {
          "output_type": "execute_result",
          "data": {
            "text/plain": [
              "(tensor([3, 2, 6, 7]), tensor([[0., 0., 0., 1., 0., 0., 0., 0., 0., 0.],\n",
              "         [0., 0., 1., 0., 0., 0., 0., 0., 0., 0.],\n",
              "         [0., 0., 0., 0., 0., 0., 1., 0., 0., 0.],\n",
              "         [0., 0., 0., 0., 0., 0., 0., 1., 0., 0.]]))"
            ]
          },
          "metadata": {},
          "execution_count": 32
        }
      ]
    },
    {
      "cell_type": "markdown",
      "metadata": {
        "id": "3kAGIXnx5HM7"
      },
      "source": [
        "`images` contains our batch of input, so calling `net` on it will perform a forward pass through the network. We'll then compare this to the onehot encoded label and compute the Mean Squared Error."
      ]
    },
    {
      "cell_type": "code",
      "metadata": {
        "colab": {
          "base_uri": "https://localhost:8080/"
        },
        "id": "5BjyHjzx5HM7",
        "outputId": "98916603-947b-4dd0-b398-ba0b5508aecf"
      },
      "source": [
        "net = SimpleNet()\n",
        "outputs = net(images)\n",
        "print('Outputs ', outputs)\n",
        "loss = torch.sum((outputs - onehot) ** 2, 1).mean()\n",
        "print('Loss ', loss)"
      ],
      "execution_count": 33,
      "outputs": [
        {
          "output_type": "stream",
          "name": "stdout",
          "text": [
            "Outputs  tensor([[ 0.0115, -0.0219,  0.3355,  0.0683, -0.1249, -0.2511, -0.4519, -0.5562,\n",
            "         -0.2021, -0.2110],\n",
            "        [ 0.2113, -0.1338,  0.4354,  0.1200,  0.1605, -0.2355, -0.0456, -0.2795,\n",
            "         -0.2777, -0.1440],\n",
            "        [ 0.0491,  0.1727,  0.2943,  0.1470, -0.0870, -0.0930, -0.0921, -0.2046,\n",
            "         -0.2200, -0.2212],\n",
            "        [ 0.0126, -0.1981, -0.0788, -0.1506, -0.0553, -0.2787, -0.2282, -0.4259,\n",
            "          0.1477, -0.3814]], grad_fn=<AddmmBackward0>)\n",
            "Loss  tensor(1.5510, grad_fn=<MeanBackward0>)\n"
          ]
        }
      ]
    },
    {
      "cell_type": "markdown",
      "metadata": {
        "id": "Xh8kTtDR5HM7"
      },
      "source": [
        "Now that we've calculated the error, we can backpropagate it using `backward()`. We first set all the gradients to zero, and then we'll observe how the gradients of the second layer's bias change."
      ]
    },
    {
      "cell_type": "code",
      "metadata": {
        "colab": {
          "base_uri": "https://localhost:8080/"
        },
        "id": "8h2S3awW5HM8",
        "outputId": "fa29639a-735c-4595-9701-8282a21401c6"
      },
      "source": [
        "net.zero_grad()     # zeroes the gradient buffers of all parameters\n",
        "\n",
        "print('fc2.bias.grad before backward')\n",
        "print(net.fc2.bias.grad)\n",
        "\n",
        "loss.backward()\n",
        "\n",
        "print('fc2.bias.grad after backward')\n",
        "print(net.fc2.bias.grad) #grad de la loss (loss.backward) par rapport a tous les biais de fc2"
      ],
      "execution_count": 34,
      "outputs": [
        {
          "output_type": "stream",
          "name": "stdout",
          "text": [
            "fc2.bias.grad before backward\n",
            "None\n",
            "fc2.bias.grad after backward\n",
            "tensor([ 0.1422, -0.0906, -0.0068, -0.4077, -0.0533, -0.4292, -0.9089, -1.2331,\n",
            "        -0.2760, -0.4788])\n"
          ]
        }
      ]
    },
    {
      "cell_type": "markdown",
      "metadata": {
        "id": "Owf_bav_5HM8"
      },
      "source": [
        "We can use this gradient calculation to update the neural network weights:\n",
        "$$w_{ij} \\leftarrow w_{ij} - \\alpha \\left(f_\\theta(x) - y\\right) \\delta_j x_{ij}$$"
      ]
    },
    {
      "cell_type": "code",
      "metadata": {
        "colab": {
          "base_uri": "https://localhost:8080/"
        },
        "id": "0zNvfpNY5HM8",
        "outputId": "3cf0df0d-bdf2-4dd7-c3d3-66db49c40aee"
      },
      "source": [
        "print('fc2.bias before training')\n",
        "print(net.fc2.bias.data)\n",
        "\n",
        "learning_rate = 0.01\n",
        "for f in net.parameters(): # iter sur biais et poids du reseau\n",
        "    f.data.sub_(f.grad.data * learning_rate)\n",
        "\n",
        "print('fc2.bias after training')\n",
        "print(net.fc2.bias.data)"
      ],
      "execution_count": 35,
      "outputs": [
        {
          "output_type": "stream",
          "name": "stdout",
          "text": [
            "fc2.bias before training\n",
            "tensor([ 0.0877, -0.0384, -0.0183,  0.0442,  0.0713, -0.0861, -0.0739,  0.0853,\n",
            "        -0.0678, -0.0863])\n",
            "fc2.bias after training\n",
            "tensor([ 0.0863, -0.0375, -0.0182,  0.0483,  0.0718, -0.0818, -0.0648,  0.0976,\n",
            "        -0.0650, -0.0815])\n"
          ]
        }
      ]
    },
    {
      "cell_type": "markdown",
      "metadata": {
        "id": "yoH7KAR85HM8"
      },
      "source": [
        "Torch provides loss functions and optimizers that we can use instead of writing our own. For now, we'll use the `torch.nn.CrossEntropyLoss` and `torch.optim.SGD` functions.\n",
        "\n",
        "Just one last thing before we train on the full dataset: we're calculting the gradients at every batch, not at every data point. This is an expensive gradient calculation, so let's reduce the number of times we do it by increasing the batch size. This has the benefit of reducing overfitting by computing the gradient over a large sample of images."
      ]
    },
    {
      "cell_type": "code",
      "metadata": {
        "id": "THzh8VOt5HM8"
      },
      "source": [
        "def train(net):\n",
        "    trainloader = torch.utils.data.DataLoader(trainset, batch_size=512, shuffle=True, num_workers=2)\n",
        "    criterion = nn.CrossEntropyLoss() #distance entre deux distrib cubakliber\n",
        "    optimizer = torch.optim.SGD(net.parameters(), lr=0.001, momentum=0.9) #SGD:stochastic gradient descent\n",
        "    train_loss = 0.0\n",
        "    for i, data in enumerate(trainloader, 0): #on tire des batchs de taille 512 sur training set entier => une epoch entiere\n",
        "        # get the inputs; data is a list of [inputs, labels]\n",
        "        inputs, labels = data\n",
        "        # zero the parameter gradients\n",
        "        optimizer.zero_grad()\n",
        "        # forward + backward + optimize\n",
        "        outputs = net(inputs)\n",
        "        loss = criterion(outputs, labels)\n",
        "        loss.backward()\n",
        "        optimizer.step() #apply grad\n",
        "        train_loss += loss.item()\n",
        "    return train_loss"
      ],
      "execution_count": 36,
      "outputs": []
    },
    {
      "cell_type": "code",
      "metadata": {
        "colab": {
          "base_uri": "https://localhost:8080/"
        },
        "id": "5QcQ4SO65HM8",
        "outputId": "8d7dda1b-18f7-4bee-9ed7-4297c0c3d941"
      },
      "source": [
        "net = SimpleNet()\n",
        "%time train_loss = train(net)\n",
        "print(train_loss)"
      ],
      "execution_count": 37,
      "outputs": [
        {
          "output_type": "stream",
          "name": "stdout",
          "text": [
            "CPU times: user 187 ms, sys: 43.5 ms, total: 231 ms\n",
            "Wall time: 1.63 s\n",
            "42.93209481239319\n"
          ]
        }
      ]
    },
    {
      "cell_type": "markdown",
      "metadata": {
        "id": "k9mNC5kH5HM8"
      },
      "source": [
        "To see how our network performs, we'll apply it to the validation set."
      ]
    },
    {
      "cell_type": "code",
      "metadata": {
        "id": "qealhnCH5HM8"
      },
      "source": [
        "def get_valid_predictions(net):\n",
        "    validloader = torch.utils.data.DataLoader(validset, batch_size=4, shuffle=False)\n",
        "    all_labels = np.array([])\n",
        "    predictions = np.array([])\n",
        "    with torch.no_grad(): #on previent qu on ne fera pas de backward after pour accelerer calcul\n",
        "        for data in validloader:\n",
        "            images, labels = data\n",
        "            outputs = net(images)\n",
        "            _, predicted = torch.max(outputs.data, 1)\n",
        "            all_labels = np.append(all_labels, labels.numpy())\n",
        "            predictions = np.append(predictions, predicted.numpy())\n",
        "    return all_labels, predictions"
      ],
      "execution_count": 38,
      "outputs": []
    },
    {
      "cell_type": "code",
      "metadata": {
        "id": "m0eD2J945HM9"
      },
      "source": [
        "y_valid, predictions = get_valid_predictions(net)"
      ],
      "execution_count": 39,
      "outputs": []
    },
    {
      "cell_type": "code",
      "metadata": {
        "colab": {
          "base_uri": "https://localhost:8080/"
        },
        "id": "NDQJPXG75HM9",
        "outputId": "a742c33e-aa76-4fad-dcef-40e4c29422df"
      },
      "source": [
        "from sklearn.metrics import accuracy_score, classification_report\n",
        "\n",
        "print('Accuracy: ', accuracy_score(predictions, y_valid))\n",
        "print(classification_report(predictions, y_valid, target_names=labels_text))"
      ],
      "execution_count": 40,
      "outputs": [
        {
          "output_type": "stream",
          "name": "stdout",
          "text": [
            "Accuracy:  0.437\n",
            "              precision    recall  f1-score   support\n",
            "\n",
            " T-shirt/top       0.37      0.58      0.45        66\n",
            "     Trouser       0.77      0.32      0.45       234\n",
            "    Pullover       0.15      0.37      0.21        35\n",
            "       Dress       0.23      0.43      0.30        54\n",
            "        Coat       0.50      0.45      0.47       123\n",
            "      Sandal       0.05      0.17      0.08        30\n",
            "       Shirt       0.14      0.33      0.20        46\n",
            "     Sneaker       0.98      0.40      0.57       285\n",
            "         Bag       0.33      0.94      0.49        34\n",
            "  Ankle boot       0.78      0.73      0.76        93\n",
            "\n",
            "    accuracy                           0.44      1000\n",
            "   macro avg       0.43      0.47      0.40      1000\n",
            "weighted avg       0.66      0.44      0.48      1000\n",
            "\n"
          ]
        }
      ]
    },
    {
      "cell_type": "markdown",
      "metadata": {
        "id": "f9_2RgBk5HM9"
      },
      "source": [
        "# <a id=\"sec4\">4. Activation Functions</a>"
      ]
    },
    {
      "cell_type": "markdown",
      "metadata": {
        "id": "ODKQn2r75HM9"
      },
      "source": [
        "So far, our network is a chain of $$ Y = w^T x+b $$ However, in the last class, the neurons we modeled used sigmoid functions: $$ Y = \\sigma(w^T x+b) $$ Let's apply this to our current network and see how it changes training. Torch has two ways to do this: define a `torch.nn.Sigmoid` layer or apply the `torch.sigmoid` function. We'll use the functional method."
      ]
    },
    {
      "cell_type": "code",
      "metadata": {
        "id": "AHjbSduI5HM9"
      },
      "source": [
        "class SigmoidNet(nn.Module):\n",
        "    def __init__(self):\n",
        "        super(SigmoidNet, self).__init__()\n",
        "        self.fc1 = nn.Linear(784, 120)\n",
        "        self.fc2 = nn.Linear(120, 10)\n",
        "\n",
        "    def forward(self, x):\n",
        "        x = x.view(-1, 784)\n",
        "        x = torch.sigmoid(self.fc1(x))\n",
        "        x = torch.sigmoid(self.fc2(x)) # garantie valeurs entre 0 et 1, softmax encore mieux car assure distrib (normalise)\n",
        "        return x\n",
        "\n",
        "net = SigmoidNet()"
      ],
      "execution_count": 52,
      "outputs": []
    },
    {
      "cell_type": "code",
      "metadata": {
        "colab": {
          "base_uri": "https://localhost:8080/"
        },
        "id": "P9tWKxgq5HM9",
        "outputId": "aef0f495-33d2-4421-e837-c2710ef3fb01"
      },
      "source": [
        "total_loss = train(net)\n",
        "y_valid, predictions = get_valid_predictions(net)\n",
        "print('Accuracy: ', accuracy_score(predictions, y_valid))"
      ],
      "execution_count": 53,
      "outputs": [
        {
          "output_type": "stream",
          "name": "stdout",
          "text": [
            "Accuracy:  0.096\n"
          ]
        }
      ]
    },
    {
      "cell_type": "markdown",
      "metadata": {
        "id": "BRJRZCzP5HM-"
      },
      "source": [
        "## Rectified Linear Units (ReLU)\n",
        "\n",
        "We'll now look at a different activation function, the ReLU. Remember the shape of the sigmoid activation function?"
      ]
    },
    {
      "cell_type": "code",
      "metadata": {
        "ExecuteTime": {
          "end_time": "2018-11-07T13:22:28.428973Z",
          "start_time": "2018-11-07T13:22:28.270744Z"
        },
        "colab": {
          "base_uri": "https://localhost:8080/",
          "height": 265
        },
        "id": "jL6y9jdQ5HM-",
        "outputId": "fdd01eeb-69be-4a2f-bf9b-06c34d5e1a15"
      },
      "source": [
        "def sigmoid(x):\n",
        "    return 1./(1. + np.exp(-x))\n",
        "\n",
        "XX = np.arange(-5,5.,0.1)\n",
        "plt.plot(XX,sigmoid(XX));"
      ],
      "execution_count": 43,
      "outputs": [
        {
          "output_type": "display_data",
          "data": {
            "image/png": "[encoded data removed]",
            "text/plain": [
              "<Figure size 432x288 with 1 Axes>"
            ]
          },
          "metadata": {
            "needs_background": "light"
          }
        }
      ]
    },
    {
      "cell_type": "markdown",
      "metadata": {
        "id": "beugQSkJ5HM-"
      },
      "source": [
        "Let's plot the gradient of this function."
      ]
    },
    {
      "cell_type": "code",
      "metadata": {
        "ExecuteTime": {
          "end_time": "2018-11-07T13:22:31.911109Z",
          "start_time": "2018-11-07T13:22:31.786515Z"
        },
        "colab": {
          "base_uri": "https://localhost:8080/",
          "height": 265
        },
        "id": "r7m7Esr15HM-",
        "outputId": "a9ad4fc7-1c6e-470e-8f53-82dd384aad3b"
      },
      "source": [
        "def sigmoid_der(x):\n",
        "    y = sigmoid(x)\n",
        "    return y*(1.-y)\n",
        "\n",
        "XX = np.arange(-5,5.,0.1)\n",
        "plt.plot(XX,sigmoid(XX));\n",
        "plt.plot(XX,sigmoid_der(XX));"
      ],
      "execution_count": 44,
      "outputs": [
        {
          "output_type": "display_data",
          "data": {
            "image/png": "[encoded data removed]",
            "text/plain": [
              "<Figure size 432x288 with 1 Axes>"
            ]
          },
          "metadata": {
            "needs_background": "light"
          }
        }
      ]
    },
    {
      "cell_type": "markdown",
      "metadata": {
        "id": "_lufg4dI5HM-"
      },
      "source": [
        "Do you remember that during backpropagation, the $\\delta_j$ were recursively obtained by:\n",
        "$$\\delta_j = \\sigma'(y_j) \\sum_{l\\in L_j} \\delta_l w_{jl}$$\n",
        "\n",
        "This poses a major problem when the networks become deeper: at each layer, we multiply our gradients by $\\sigma'(y_j)$ which is much smaller than 1. So the gradient we want to back-propagate shrinks to zero and all our weight updates become zero.\n",
        "\n",
        "This is called the **vanishing gradient** problem.\n",
        "\n",
        "To avoid this problem, we introduce a new type of activation function: the Rectified Linear Unit (ReLU).\n",
        "$$\\sigma(y) = \\max\\{0,y\\}$$\n",
        "\n",
        "The key property of this function is that its derivative is either zero or one."
      ]
    },
    {
      "cell_type": "code",
      "metadata": {
        "ExecuteTime": {
          "end_time": "2018-11-07T13:22:34.779670Z",
          "start_time": "2018-11-07T13:22:34.661690Z"
        },
        "colab": {
          "base_uri": "https://localhost:8080/",
          "height": 265
        },
        "id": "98xt3tHn5HM-",
        "outputId": "2882df13-6d9f-4641-d9f8-ef0a2c46d9a1"
      },
      "source": [
        "def relu(x): # donnera des lineaires par morceau\n",
        "    return np.maximum(0.,x)\n",
        "def relu_der(x):\n",
        "    return relu(x) > 0\n",
        "\n",
        "plt.plot(XX,relu(XX));\n",
        "plt.plot(XX,relu_der(XX));"
      ],
      "execution_count": 45,
      "outputs": [
        {
          "output_type": "display_data",
          "data": {
            "image/png": "[encoded data removed]",
            "text/plain": [
              "<Figure size 432x288 with 1 Axes>"
            ]
          },
          "metadata": {
            "needs_background": "light"
          }
        }
      ]
    },
    {
      "cell_type": "markdown",
      "metadata": {
        "id": "4sRpMQ415HM-"
      },
      "source": [
        "**Caveat of using ReLU activation functions**\n",
        "\n",
        "Although they allow us to train deep networks, ReLU functions have their downsides.\n",
        "- Unbounded values: the output of a layer is not bounded anymore, causing possible divergence.\n",
        "- Dying ReLU neurons: the backpropagation of gradients can push the input weigths towards values such that $\\sigma(y)=0$ all the time. Then all future backpropagations will leave these weights unchanged: the neuron is dead.\n",
        "\n",
        "Some advanced methods can compensate these weaknesses but are out of the scope of this introduction.\n",
        "\n",
        "In torch, the ReLU activation function is either a layer `torch.nn.ReLU` or a function in `torch.nn.functional.relu`."
      ]
    },
    {
      "cell_type": "markdown",
      "metadata": {
        "id": "Smqr8Yft5HM_"
      },
      "source": [
        "<div class=\"alert alert-success\">\n",
        "Exercise 5: Change the activation functions in your network. Experiment with different layer sizes and activations to get a higher accuracy.\n",
        "</div>"
      ]
    },
    {
      "cell_type": "code",
      "metadata": {
        "id": "aKslkBNU5HM_"
      },
      "source": [
        "# %load solutions/ex5.py\n",
        "\n",
        "import torch.nn.functional as F\n"
      ],
      "execution_count": 62,
      "outputs": []
    },
    {
      "cell_type": "markdown",
      "metadata": {
        "id": "VUAAKry55HM_"
      },
      "source": [
        "# <a id=\"sec5\">5. Convolutional Neural Networks</a>"
      ]
    },
    {
      "cell_type": "markdown",
      "metadata": {
        "id": "Ba-YcJ0d5HM_"
      },
      "source": [
        "The main factor which makes deep learning so useful for computer vision is the use of convolutions. Convolutional networks exploit the fact that the data is actually an image in the learning while decreasing the number of weights in the network. To do this, they define **convolution filters** that brush across the image. Such a filter defines a so-called **feature map** that shares the weights of the filter. The result of applying a feature map on an image is a new image of lower resolution, where each pixel is the result of the convolution of the filter with a set of pixels from the input image, as illustrated on the figure below. The Stanford class [CS231n](http://cs231n.github.io/convolutional-networks/) also has an excellent demo."
      ]
    },
    {
      "cell_type": "markdown",
      "metadata": {
        "id": "hUn4y1Rv5HM_"
      },
      "source": [
        "<img src=\"img/convnet.gif\" width=\"700px\">"
      ]
    },
    {
      "cell_type": "code",
      "metadata": {
        "id": "dmoJVFtw5HM_"
      },
      "source": [
        "def forward_convolution(conv_W, conv_b, data):\n",
        "    \"\"\"\n",
        "    Compute the output from a convolutional layer given the weights and data.\n",
        "\n",
        "    conv_W is of the shape (# output channels, # input channels, convolution width, convolution height )\n",
        "    conv_b is of the shape (# output channels)\n",
        "\n",
        "    data is of the shape (# input channels, width, height)\n",
        "\n",
        "    The output should be the result of a convolution and should be of the size:\n",
        "        (# output channels, width - convolution width + 1, height -  convolution height + 1)\n",
        "\n",
        "    Returns:\n",
        "        The output of the convolution as a numpy array\n",
        "    \"\"\"\n",
        "\n",
        "    conv_channels, _, conv_width, conv_height = conv_W.shape\n",
        "\n",
        "    input_channels, input_width, input_height = data.shape\n",
        "\n",
        "    output = np.zeros((conv_channels, input_width - conv_width + 1, input_height - conv_height + 1))\n",
        "\n",
        "    for x in range(input_width - conv_width + 1):\n",
        "        for y in range(input_height - conv_height + 1):\n",
        "            for output_channel in range(conv_channels):\n",
        "                output[output_channel, x, y] = np.sum(\n",
        "                    np.multiply(data[:, x:(x + conv_width), y:(y + conv_height)], conv_W[output_channel, :, :, :])) + conv_b[output_channel]\n",
        "\n",
        "    return output"
      ],
      "execution_count": 56,
      "outputs": []
    },
    {
      "cell_type": "code",
      "metadata": {
        "colab": {
          "base_uri": "https://localhost:8080/"
        },
        "id": "oQwK1vKZ5HNA",
        "outputId": "8c1d7140-7e68-4351-8fc3-d9f5c9244b1d"
      },
      "source": [
        "rng = np.random.default_rng()\n",
        "data = rng.integers(-5, 5, (1, 3, 3))\n",
        "conv_W = np.array([[np.identity(2)]]) #np.ones((1, 1, 2, 2))\n",
        "conv_b = np.zeros(1)\n",
        "output = forward_convolution(conv_W, conv_b, data)\n",
        "print(\"Input:\\n\", data)\n",
        "print(\"Filter:\\n\", conv_W)\n",
        "print(\"Bias:\", conv_b)\n",
        "print(\"Output:\\n\", output)"
      ],
      "execution_count": 57,
      "outputs": [
        {
          "output_type": "stream",
          "name": "stdout",
          "text": [
            "Input:\n",
            " [[[-3 -1 -2]\n",
            "  [ 2 -2 -1]\n",
            "  [ 3 -4  4]]]\n",
            "Filter:\n",
            " [[[[1. 0.]\n",
            "   [0. 1.]]]]\n",
            "Bias: [0.]\n",
            "Output:\n",
            " [[[-5. -2.]\n",
            "  [-2.  2.]]]\n"
          ]
        }
      ]
    },
    {
      "cell_type": "markdown",
      "metadata": {
        "id": "8yV9FWiN5HNA"
      },
      "source": [
        "Convolutional layers extract important features from previous layers, transforming the image space into a feature space where each block of neurons corresponds to a feature set rather than a group of pixels. To aggregate these features, select the most important ones, and reduce the dimensionality of our network, we'll use the **pooling** operator. Pooling is the operation of down-sampling the image by grouping together certain pixels. The most common pooling operation takes the maximum value over a certain window. Max pooling has been shown to better separate features which are rare in the data. (permet de limiter local translation dependance)\n",
        "\n",
        "Boureau, Y-Lan, Jean Ponce, and Yann LeCun. \"A theoretical analysis of feature pooling in visual recognition.\" Proceedings of the 27th international conference on machine learning (ICML-10). 2010. [pdf](https://www.di.ens.fr/willow/pdfs/icml2010b.pdf)\n",
        "\n",
        "<img src=\"img/maxpool.png\">"
      ]
    },
    {
      "cell_type": "markdown",
      "metadata": {
        "id": "DUeFKBrC5HNA"
      },
      "source": [
        "One of the advantages of convolution is translational invariance: a feature can appear in different parts of an image, and the network will still detect it. Here's a simple example:\n",
        "\n",
        "<img src=\"img/invariance.png\">"
      ]
    },
    {
      "cell_type": "markdown",
      "metadata": {
        "id": "D28uB0Eo5HNA"
      },
      "source": [
        "When defining a convolutional layer, we define the number of channels, where a channel is one slice of neurons. Our input image has one channel - the dimensions are 28 by 28 by 1. A color image has three channels, red green and blue. Using convolution, we'll convert our image of 28 by 28 by 1 into a number of different channels, which we call feature maps. The other parameter we define is the size of the kernel - how large is the filter we're passing over the previous layer. \n",
        "\n",
        "`torch.nn.Conv2d(in_channels, out_channels, kernel_size, stride=1, padding=0, dilation=1, groups=1, bias=True, padding_mode='zeros')`\n",
        "\n",
        "The options of stride, padding, dilation, and groups are further explained in the [documentation](https://pytorch.org/docs/stable/nn.html?highlight=torch%20nn%20conv2d#torch.nn.Conv2d). [This page](https://github.com/vdumoulin/conv_arithmetic/blob/master/README.md) shows an illustration of these different options."
      ]
    },
    {
      "cell_type": "code",
      "metadata": {
        "colab": {
          "base_uri": "https://localhost:8080/"
        },
        "id": "ZwJ-RdGd5HNA",
        "outputId": "4a316144-41f6-448a-b883-145cd4955e3a"
      },
      "source": [
        "m = nn.Conv2d(1, 1, 2, stride=1)\n",
        "m.weight = torch.nn.Parameter(torch.tensor(conv_W, dtype=torch.float))\n",
        "m.bias = torch.nn.Parameter(torch.tensor(conv_b, dtype=torch.float))\n",
        "input = torch.tensor(np.array([data]), dtype=torch.float)\n",
        "output = m(input)\n",
        "print(\"Input:\", input)\n",
        "print(\"Weight:\", m.weight)\n",
        "print(\"Bias:\", m.bias)\n",
        "print(\"Output:\", output)"
      ],
      "execution_count": 58,
      "outputs": [
        {
          "output_type": "stream",
          "name": "stdout",
          "text": [
            "Input: tensor([[[[-3., -1., -2.],\n",
            "          [ 2., -2., -1.],\n",
            "          [ 3., -4.,  4.]]]])\n",
            "Weight: Parameter containing:\n",
            "tensor([[[[1., 0.],\n",
            "          [0., 1.]]]], requires_grad=True)\n",
            "Bias: Parameter containing:\n",
            "tensor([0.], requires_grad=True)\n",
            "Output: tensor([[[[-5., -2.],\n",
            "          [-2.,  2.]]]], grad_fn=<ThnnConv2DBackward0>)\n"
          ]
        }
      ]
    },
    {
      "cell_type": "markdown",
      "metadata": {
        "id": "mXxmuVIW5HNA"
      },
      "source": [
        "This creates the difficult question of how large is our convolutional layer, in terms of dimensions? Let's assume a layer with the following:\n",
        "\n",
        "+ batch size $N$\n",
        "+ input layer size $H_{in}$ by $W_{in}$\n",
        "+ $C_{in}$ input channels\n",
        "+ $C_{out}$ output channels\n",
        "+ Kernel size $K$, assuming 2D for now\n",
        "\n",
        "That is to say, the previous layer's size is $(N, C_{in}, H_{in}, W_{in})$. For our image input layer, this is $(512, 1, 28, 28)$. We want to calculate the size of the convolutional layer, $(N, C_{out}, H_{out}, W_{out})$. "
      ]
    },
    {
      "cell_type": "markdown",
      "metadata": {
        "id": "_I3tnERb5HNB"
      },
      "source": [
        "This size depends on our kernel size and the other convolutional parameters like stride and padding:\n",
        "\n",
        "$$H_{out} = \\left\\lfloor\\frac{H_{in}  + 2 \\times \\text{padding}[0] - \\text{dilation}[0] \\times (K_0 - 1) - 1}{\\text{stride}[0]} + 1\\right\\rfloor$$\n",
        " \n",
        "$$W_{out} = \\left\\lfloor\\frac{W_{in}  + 2 \\times \\text{padding}[1] - \\text{dilation}[1]\\times (K_1 - 1) - 1}{\\text{stride}[1]} + 1\\right\\rfloor$$"
      ]
    },
    {
      "cell_type": "markdown",
      "metadata": {
        "id": "8miaTQaW5HNB"
      },
      "source": [
        "Assuming the torch defaults of `stride=1, padding=0, dilation=1`, this simplifies to:\n",
        "\n",
        "$$H_{out} = \\left\\lfloor H_{in} - K_0 + 1\\right\\rfloor$$\n",
        " \n",
        "$$W_{out} = \\left\\lfloor W_{in} - K_1 + 1\\right\\rfloor$$\n",
        "\n",
        "Note that this is straight from the [torch documentation](https://pytorch.org/docs/stable/generated/torch.nn.Conv2d.html#torch.nn.Conv2d)."
      ]
    },
    {
      "cell_type": "markdown",
      "metadata": {
        "id": "Dqz81BBC5HNB"
      },
      "source": [
        "We'll use this calculation to make a small network with 8 feature maps and a kernel size of 4 by 4."
      ]
    },
    {
      "cell_type": "code",
      "metadata": {
        "id": "CRhxucyy5HNB"
      },
      "source": [
        "k = (4, 4)\n",
        "h_in = 28\n",
        "w_in = 28\n",
        "c_in = 1\n",
        "c_out = 8"
      ],
      "execution_count": 59,
      "outputs": []
    },
    {
      "cell_type": "code",
      "metadata": {
        "colab": {
          "base_uri": "https://localhost:8080/"
        },
        "id": "VBpuVfAI5HNB",
        "outputId": "c16b9a50-1850-4fc0-e216-19cfd17a5650"
      },
      "source": [
        "output_size = c_out * (h_in - k[0] + 1) * (w_in - k[1] + 1)\n",
        "print(output_size)"
      ],
      "execution_count": 60,
      "outputs": [
        {
          "output_type": "stream",
          "name": "stdout",
          "text": [
            "5000\n"
          ]
        }
      ]
    },
    {
      "cell_type": "code",
      "metadata": {
        "colab": {
          "base_uri": "https://localhost:8080/"
        },
        "id": "TH0-VApP5HNB",
        "outputId": "ac03524f-13fb-4c0f-ee19-b49a902589c7"
      },
      "source": [
        "class SmallConvNet(nn.Module):\n",
        "    def __init__(self):\n",
        "        super(SmallConvNet, self).__init__()\n",
        "        self.conv1 = nn.Conv2d(c_in, c_out, k)\n",
        "        self.fc1 = nn.Linear(output_size, 128)\n",
        "        self.fc2 = nn.Linear(128, 10)\n",
        "\n",
        "    def forward(self, x):\n",
        "        x = self.conv1(x)\n",
        "        x = F.relu(x)\n",
        "        x = torch.flatten(x, 1)\n",
        "        x = self.fc1(x)\n",
        "        x = F.relu(x)\n",
        "        x = self.fc2(x)\n",
        "        output = F.softmax(x, dim=1)\n",
        "        return output\n",
        "\n",
        "net = SmallConvNet()\n",
        "train(net)\n",
        "y_valid, predictions = get_valid_predictions(net)\n",
        "print('Accuracy: ', accuracy_score(predictions, y_valid))"
      ],
      "execution_count": 63,
      "outputs": [
        {
          "output_type": "stream",
          "name": "stdout",
          "text": [
            "Accuracy:  0.129\n"
          ]
        }
      ]
    },
    {
      "cell_type": "markdown",
      "metadata": {
        "id": "6mo32KQj5HNB"
      },
      "source": [
        "<div class=\"alert alert-success\">\n",
        "Exercise 6: Using the `torch.nn.Conv2d` and `torch.nn.MaxPool2d` layer functions (or `torch.nn.functional.max_pool2d`), define and test the following network:\n",
        "    \n",
        "- Input layer: images of size $28\\times 28$ with a single channel\n",
        "- Convolutional layer of 32 feature maps with $3\\times 3$ filters\n",
        "- Max pooling layer by blocks of size $2 \\times 2$\n",
        "- Convolutional layer of 64 feature maps with $3\\times 3$ filters\n",
        "- Max pooling layer by blocks of size $2 \\times 2$\n",
        "- Fully connected layer with 128 ReLU neurons\n",
        "- Fully connected output layer with 10 ReLU neurons\n",
        "</div>"
      ]
    },
    {
      "cell_type": "code",
      "metadata": {
        "id": "8lRwvzsh5HNB"
      },
      "source": [
        "# %load solutions/ex6.py"
      ],
      "execution_count": null,
      "outputs": []
    },
    {
      "cell_type": "markdown",
      "metadata": {
        "id": "1U76flbF5HNC"
      },
      "source": [
        "<div class=\"alert alert-info\">\n",
        "    <h3>Discussion</h3>\n",
        "    \n",
        "We previously defined backpropagation for feed-forward networks which used the gradient of the weighted sum and neural activation function. Can backpropagation still work with these two layer types, convolution and pooling? How? What requirement is there for the operators performed by each layer?\n",
        "</div>"
      ]
    },
    {
      "cell_type": "markdown",
      "metadata": {
        "id": "81csWgQc5HNC"
      },
      "source": [
        "# <a id=\"sec6\">6. Overfitting</a>"
      ]
    },
    {
      "cell_type": "markdown",
      "metadata": {
        "id": "qa41gaVX5HNC"
      },
      "source": [
        "So far, we've been training on just one pass through the data, called an \"epoch\". In deep learning, networks are trained over multiple epochs, either a fixed amount or until a convergence metric is met. As we will see, this can lead to overfitting. We'll train for 30 epochs and watch the validation loss over training."
      ]
    },
    {
      "cell_type": "code",
      "metadata": {
        "id": "z-DCmmdw5HNC"
      },
      "source": [
        "trainloader = torch.utils.data.DataLoader(trainset, batch_size=512, shuffle=True, num_workers=2)\n",
        "validloader = torch.utils.data.DataLoader(validset, batch_size=512, shuffle=True, num_workers=2)\n",
        "criterion = nn.CrossEntropyLoss()\n",
        "\n",
        "def validation(net):\n",
        "    valid_loss = 0\n",
        "    with torch.no_grad():\n",
        "        for data in validloader:\n",
        "            images, labels = data\n",
        "            outputs = net(images)\n",
        "            loss = criterion(outputs, labels)\n",
        "            valid_loss += loss.item()\n",
        "    return valid_loss\n",
        "\n",
        "def train(net):\n",
        "    optimizer = torch.optim.SGD(net.parameters(), lr=0.1, momentum=0.9)\n",
        "    train_history = []\n",
        "    valid_history = []\n",
        "    for epoch in range(30):\n",
        "        train_loss = 0.0\n",
        "        for i, data in enumerate(trainloader, 0):\n",
        "            # get the inputs; data is a list of [inputs, labels]\n",
        "            inputs, labels = data\n",
        "            # zero the parameter gradients\n",
        "            optimizer.zero_grad()\n",
        "            # forward + backward + optimize\n",
        "            outputs = net(inputs)\n",
        "            loss = criterion(outputs, labels)\n",
        "            loss.backward()\n",
        "            optimizer.step()\n",
        "            train_loss += loss.item()\n",
        "        valid_loss = validation(net)\n",
        "        train_history.append(train_loss)\n",
        "        valid_history.append(valid_loss)\n",
        "        print('Epoch %02d: train loss %0.5f, validation loss %0.5f' % (epoch, train_loss, valid_loss))\n",
        "    return train_history, valid_history"
      ],
      "execution_count": 64,
      "outputs": []
    },
    {
      "cell_type": "code",
      "metadata": {
        "colab": {
          "base_uri": "https://localhost:8080/"
        },
        "id": "_E6GwhxJ5HNC",
        "outputId": "596d5d76-3b73-47e6-e4f0-b62f9bb18845"
      },
      "source": [
        "net = SimpleNet()\n",
        "train_history, valid_history = train(net)"
      ],
      "execution_count": 65,
      "outputs": [
        {
          "output_type": "stream",
          "name": "stdout",
          "text": [
            "Epoch 00: train loss 19.80578, validation loss 2.00435\n",
            "Epoch 01: train loss 14.53673, validation loss 1.14415\n",
            "Epoch 02: train loss 10.25315, validation loss 1.16715\n",
            "Epoch 03: train loss 9.91451, validation loss 0.99964\n",
            "Epoch 04: train loss 8.74977, validation loss 0.96556\n",
            "Epoch 05: train loss 8.64024, validation loss 0.99147\n",
            "Epoch 06: train loss 8.62141, validation loss 0.95248\n",
            "Epoch 07: train loss 8.67877, validation loss 1.04542\n",
            "Epoch 08: train loss 8.32327, validation loss 0.94633\n",
            "Epoch 09: train loss 8.26927, validation loss 0.95529\n",
            "Epoch 10: train loss 7.92297, validation loss 0.96078\n",
            "Epoch 11: train loss 7.51796, validation loss 0.90144\n",
            "Epoch 12: train loss 7.37471, validation loss 0.95383\n",
            "Epoch 13: train loss 7.41630, validation loss 0.95388\n",
            "Epoch 14: train loss 7.26709, validation loss 0.97456\n",
            "Epoch 15: train loss 7.65889, validation loss 1.01893\n",
            "Epoch 16: train loss 7.54089, validation loss 0.93058\n",
            "Epoch 17: train loss 7.01813, validation loss 0.99381\n",
            "Epoch 18: train loss 7.52344, validation loss 1.02986\n",
            "Epoch 19: train loss 7.18679, validation loss 1.00109\n",
            "Epoch 20: train loss 7.19227, validation loss 1.13894\n",
            "Epoch 21: train loss 7.43326, validation loss 1.00339\n",
            "Epoch 22: train loss 7.00695, validation loss 1.00346\n",
            "Epoch 23: train loss 6.91875, validation loss 1.03833\n",
            "Epoch 24: train loss 6.80800, validation loss 1.04387\n",
            "Epoch 25: train loss 6.90023, validation loss 1.10438\n",
            "Epoch 26: train loss 6.47788, validation loss 0.99493\n",
            "Epoch 27: train loss 6.46668, validation loss 1.03733\n",
            "Epoch 28: train loss 6.35223, validation loss 1.05969\n",
            "Epoch 29: train loss 7.02460, validation loss 1.03023\n"
          ]
        }
      ]
    },
    {
      "cell_type": "code",
      "metadata": {
        "colab": {
          "base_uri": "https://localhost:8080/",
          "height": 297
        },
        "id": "KeiRu6bq5HNC",
        "outputId": "58d14469-edac-41eb-d23b-45bed60a0dba"
      },
      "source": [
        "def plot_train_val(train, valid):\n",
        "    fig, ax1 = plt.subplots()\n",
        "    color = 'tab:red'\n",
        "    ax1.set_ylabel('Training', color=color)\n",
        "    ax1.plot(train, color=color)\n",
        "    ax2 = ax1.twinx()\n",
        "    color = 'tab:blue'\n",
        "    ax2.set_ylabel('Validation', color=color)\n",
        "    ax2.plot(valid, color=color)\n",
        "    fig.tight_layout()\n",
        "    \n",
        "plot_train_val(train_history, valid_history)"
      ],
      "execution_count": 66,
      "outputs": [
        {
          "output_type": "display_data",
          "data": {
            "image/png": "[encoded data removed]",
            "text/plain": [
              "<Figure size 432x288 with 2 Axes>"
            ]
          },
          "metadata": {
            "needs_background": "light"
          }
        }
      ]
    },
    {
      "cell_type": "markdown",
      "metadata": {
        "id": "bYSbqXwx5HND"
      },
      "source": [
        "As we see in the above plots, the validation accuracy might fluctuate or increase while minimizing the training loss. If the validation loss increases too much while the training loss decreases, we consider this **overfitting** to the training data.\\\n",
        "Techniques to limit overfitting are called **regularisation** techniques : explicit ones (L2 regularisation ...), implicit (dropout, early stopping ...), data augmentation."
      ]
    },
    {
      "cell_type": "markdown",
      "metadata": {
        "id": "iK4M_q0V5HNE"
      },
      "source": [
        "## Early Stopping"
      ]
    },
    {
      "cell_type": "markdown",
      "metadata": {
        "id": "KU3XSY5R5HNF"
      },
      "source": [
        "One of the ways to overcome overfitting is early stopping. We'll stop the training early based on increases to the validation loss. If the validation loss is higher than the current lowest validation lost for a certain number of epochs we'll stop the training. The number of epochs we wait is known as the `patience`."
      ]
    },
    {
      "cell_type": "code",
      "metadata": {
        "id": "wlCumHHy5HNF"
      },
      "source": [
        "class EarlyStopping:\n",
        "    \n",
        "    def __init__(self, patience=5, delta=0):\n",
        "        self.patience = patience\n",
        "        self.counter = 0\n",
        "        self.best_score = None\n",
        "        self.delta = delta\n",
        "        self.early_stop = False\n",
        "\n",
        "    def step(self, val_loss):\n",
        "        score = -val_loss\n",
        "        if self.best_score is None:\n",
        "            self.best_score = score\n",
        "        elif score < self.best_score + self.delta:\n",
        "            self.counter += 1\n",
        "            print('EarlyStopping counter: %d / %d' % (self.counter, self.patience))\n",
        "            if self.counter >= self.patience:\n",
        "                self.early_stop = True\n",
        "        else:\n",
        "            self.best_score = score\n",
        "            self.counter = 0"
      ],
      "execution_count": 67,
      "outputs": []
    },
    {
      "cell_type": "code",
      "metadata": {
        "id": "8yaN4YMS5HNF"
      },
      "source": [
        "def train(net, earlystopping=True):\n",
        "    optimizer = torch.optim.SGD(net.parameters(), lr=0.1, momentum=0.9)\n",
        "    train_history = []\n",
        "    valid_history = []\n",
        "    estop = EarlyStopping(patience=2)\n",
        "    for epoch in range(30):\n",
        "        train_loss = 0.0\n",
        "        for i, data in enumerate(trainloader, 0):\n",
        "            # get the inputs; data is a list of [inputs, labels]\n",
        "            inputs, labels = data\n",
        "            # zero the parameter gradients\n",
        "            optimizer.zero_grad()\n",
        "            # forward + backward + optimize\n",
        "            outputs = net(inputs)\n",
        "            loss = criterion(outputs, labels)\n",
        "            loss.backward()\n",
        "            optimizer.step()\n",
        "            train_loss += loss.item()\n",
        "        valid_loss = validation(net)\n",
        "        train_history.append(train_loss)\n",
        "        valid_history.append(valid_loss)\n",
        "        print('Epoch %02d: train loss %0.5f, validation loss %0.5f' % (epoch, train_loss, valid_loss))\n",
        "        estop.step(valid_loss)\n",
        "        if earlystopping and estop.early_stop:\n",
        "            break\n",
        "    return train_history, valid_history"
      ],
      "execution_count": 68,
      "outputs": []
    },
    {
      "cell_type": "code",
      "metadata": {
        "colab": {
          "base_uri": "https://localhost:8080/",
          "height": 523
        },
        "id": "mdgHvvTm5HNF",
        "outputId": "ef83ff4a-7605-46c7-aa9b-0f036b560e08"
      },
      "source": [
        "trainloader = torch.utils.data.DataLoader(trainset, batch_size=512, shuffle=True, num_workers=2)\n",
        "validloader = torch.utils.data.DataLoader(validset, batch_size=512, shuffle=True, num_workers=2)\n",
        "criterion = nn.CrossEntropyLoss()\n",
        "net = SimpleNet()\n",
        "train_history, valid_history = train(net)\n",
        "plot_train_val(train_history, valid_history)"
      ],
      "execution_count": 69,
      "outputs": [
        {
          "output_type": "stream",
          "name": "stdout",
          "text": [
            "Epoch 00: train loss 21.98319, validation loss 1.44207\n",
            "Epoch 01: train loss 14.93848, validation loss 1.19502\n",
            "Epoch 02: train loss 11.05824, validation loss 1.01760\n",
            "Epoch 03: train loss 9.86628, validation loss 1.05237\n",
            "EarlyStopping counter: 1 / 2\n",
            "Epoch 04: train loss 9.01307, validation loss 0.98222\n",
            "Epoch 05: train loss 8.99430, validation loss 1.02639\n",
            "EarlyStopping counter: 1 / 2\n",
            "Epoch 06: train loss 8.70060, validation loss 0.92305\n",
            "Epoch 07: train loss 8.20722, validation loss 0.96756\n",
            "EarlyStopping counter: 1 / 2\n",
            "Epoch 08: train loss 7.83356, validation loss 0.92419\n",
            "EarlyStopping counter: 2 / 2\n"
          ]
        },
        {
          "output_type": "display_data",
          "data": {
            "image/png": "[encoded data removed]",
            "text/plain": [
              "<Figure size 432x288 with 2 Axes>"
            ]
          },
          "metadata": {
            "needs_background": "light"
          }
        }
      ]
    },
    {
      "cell_type": "markdown",
      "metadata": {
        "id": "vFRGkbAU5HNF"
      },
      "source": [
        "## Dropout"
      ]
    },
    {
      "cell_type": "markdown",
      "metadata": {
        "id": "irVCA9M05HNF"
      },
      "source": [
        "Another way to prevent overfitting is by not training certain weights at a given update step, leading to greater generalization over the whole network. The classic formulation of this is dropout, where neuron activations are \"dropped out\" (set to zero) with probability *p*. This is as if, for a given update, only a subnetwork is trained: \n",
        "<img src=\"img/dropout_network.png\">\n",
        "Srivastava, Nitish, et al. \"Dropout: a simple way to prevent neural networks from overfitting.\" The journal of machine learning research 15.1 (2014): 1929-1958."
      ]
    },
    {
      "cell_type": "markdown",
      "metadata": {
        "id": "oJi9x4v85HNF"
      },
      "source": [
        "Dropout has shown improvements for overfitting with many different architectures, although the specifics of where to use dropout in a network and what dropout rates to use ($p$) are still not well-defined.\n",
        "\n",
        "<img src=\"img/dropout_results.png\">\n",
        "\n",
        "Torch uses spatial dropout, which is described here: https://arxiv.org/pdf/1411.4280.pdf"
      ]
    },
    {
      "cell_type": "markdown",
      "metadata": {
        "id": "ar-HyXnK5HNF"
      },
      "source": [
        "<div class=\"alert alert-success\">\n",
        "Exercise 7: Create a network that includes at least one dropout layer. How does Dropout influence the training?\n",
        "</div>"
      ]
    },
    {
      "cell_type": "code",
      "metadata": {
        "id": "BxC9X67H5HNF"
      },
      "source": [
        "# %load solutions/ex7.py"
      ],
      "execution_count": 71,
      "outputs": []
    },
    {
      "cell_type": "markdown",
      "metadata": {
        "id": "D723cMjd5HNF"
      },
      "source": [
        "# <a id=\"sec7\">7. Improving Optimization</a>"
      ]
    },
    {
      "cell_type": "markdown",
      "metadata": {
        "id": "eHwf6Wwx5HNF"
      },
      "source": [
        "Just to review, training a neural network is a function of maximizing some objective function $Q$; it is a process of optimization. $Q$ can be, for example, a MSE Loss function:\n",
        "$$\n",
        "Q_i(\\theta) = (X(\\theta, i) - h_i)^2\\\\\n",
        "Q(\\theta) = \\frac{1}{n}\\sum_{i=1}^n Q_i(\\theta)\n",
        "$$\n",
        "So far, we've been using SGD for this optimization:"
      ]
    },
    {
      "cell_type": "code",
      "metadata": {
        "id": "qLrfixD95HNF"
      },
      "source": [
        "net = SimpleNet()\n",
        "optimizer = torch.optim.SGD(net.parameters(), lr=0.1, momentum=0.9) # with momentum we look in these optimizers the rolling down speed (grad speed)"
      ],
      "execution_count": 72,
      "outputs": []
    },
    {
      "cell_type": "markdown",
      "metadata": {
        "id": "bS9CGVMC5HNF"
      },
      "source": [
        "In other words, we're doing our weight ($\\theta$) update according to the following:\n",
        "\n",
        "$$\n",
        "\\Delta \\theta^{(t+1)} \\leftarrow \\alpha\\Delta \\theta^{(t)}-\\eta\\nabla Q_i (\\theta^{(t)})\\\\\n",
        "\\theta^{(t+1)} \\leftarrow \\theta^{(t)} + \\Delta \\theta^{(t+1)}\n",
        "$$\n",
        "\n",
        "These two hyperparameters, learning rate ($\\alpha$) and momentum ($\\eta$), change how the neural network minimizes the loss and can have drastic impact on the learning."
      ]
    },
    {
      "cell_type": "markdown",
      "metadata": {
        "id": "TAJY5VRx5HNF"
      },
      "source": [
        "<img src=\"img/sgd.gif\" width=\"80%\">"
      ]
    },
    {
      "cell_type": "markdown",
      "metadata": {
        "id": "Y5nVdZCA5HNF"
      },
      "source": [
        "A popular optimizer is the Adaptive Moment Estimation ([Adam](https://arxiv.org/pdf/1412.6980.pdf)) optimizer. This optimizer takes into account the recent weight changes when making a new update:\n",
        "\n",
        "$$\n",
        "m_\\theta^{(t+1)} \\leftarrow \\beta_1 m_\\theta^{(t)} + (1-\\beta_1) \\nabla Q_i(\\theta^{(t)})\\\\\n",
        "v_\\theta^{(t+1)} \\leftarrow \\beta_2 v_\\theta^{(t)} + (1-\\beta_2)(\\nabla Q_i(\\theta^{(t)}))^2\\\\\n",
        "\\hat{m}_\\theta = \\frac{m_\\theta^{(t+1)}}{1-\\beta_1^t}\\\\\n",
        "\\hat{v}_\\theta = \\frac{v_\\theta^{(t+1)}}{1-\\beta_2^t}\\\\\n",
        "\\theta^{(t+1)} \\leftarrow \\theta^{(t)} - \\eta\\frac{\\hat{m}_\\theta}{\\sqrt{\\hat{v}_\\theta}+\\epsilon}\n",
        "$$\n",
        "\n",
        "While this optimizer can often perform better than SGD, it introduces new hyperparameter choices: $\\beta_1$ (update to $\\hat{m}$), $\\beta_2$ (update to $\\hat{v}$), and $\\epsilon$ (ratio between $\\hat{m}$ and $\\hat{v}$). Let's see the defaults for torch:"
      ]
    },
    {
      "cell_type": "code",
      "metadata": {
        "id": "OSE6039q5HNF"
      },
      "source": [
        "help(torch.optim.Adam)"
      ],
      "execution_count": null,
      "outputs": []
    },
    {
      "cell_type": "markdown",
      "metadata": {
        "id": "XgdYiRAB5HNG"
      },
      "source": [
        "As with SGD, the choice of hyperparameters heavily affects the training."
      ]
    },
    {
      "cell_type": "markdown",
      "metadata": {
        "id": "yI4w4yzK5HNG"
      },
      "source": [
        "<img src=\"img/adam.gif\" width=\"80%\">"
      ]
    },
    {
      "cell_type": "markdown",
      "metadata": {
        "id": "8PFvCjv15HNG"
      },
      "source": [
        "<div class=\"alert alert-success\">\n",
        "Exercise 8: change the optimizer in our training method to Adam and train one of the networks we've defined.\n",
        "</div>"
      ]
    },
    {
      "cell_type": "code",
      "metadata": {
        "id": "Hj7rAnAB5HNH"
      },
      "source": [
        "# %load solutions/ex8.py"
      ],
      "execution_count": null,
      "outputs": []
    },
    {
      "cell_type": "markdown",
      "metadata": {
        "id": "GgZ3Ph7h5HNH"
      },
      "source": [
        "In this notebook, our training code has gotten very long. Thankfully, `torch` comes with a high-level library [`ignite`](https://pytorch.org/ignite/) which allows us to easily train and including things like EarlyStopping and logging. That's out of the scope of the material for today, but please look at [this notebook](https://github.com/pytorch/ignite/blob/master/examples/notebooks/FashionMNIST.ipynb) before next class.\n",
        "\n",
        "Some other libraries like `ignite`:\n",
        "+ https://docs.fast.ai/\n",
        "+ https://github.com/skorch-dev/skorch\n",
        "+ https://github.com/williamFalcon/pytorch-lightning"
      ]
    },
    {
      "cell_type": "markdown",
      "metadata": {
        "id": "I7L90qFm5HNH"
      },
      "source": [
        "# 8. Neural Architectures"
      ]
    },
    {
      "cell_type": "markdown",
      "metadata": {
        "id": "YwKPKLE75HNH"
      },
      "source": [
        "So far, we've seen a number of different layer types, (Fully-connected, Convolutional, MaxPooling) activations (Sigmoid, ReLU, Softmax), and additional components like Dropout, which we include as a sort of \"layer\" in our\n",
        "architecture. These and more are all the base components of neural networks which can be mixed and matched to create different neural architectures. Let's work our way through some historical milestones."
      ]
    },
    {
      "cell_type": "markdown",
      "metadata": {
        "id": "MHNCCWBL5HNH"
      },
      "source": [
        "## 8.1 LeNet\n",
        "\n",
        "<img src=\"img/lenet.png\">\n",
        "\n",
        "LeNet is often considered the first modern deep convolutional neural network.\n",
        "    \n",
        "LeCun, Yann, et al. \"Gradient-based learning applied to document recognition.\" Proceedings of the IEEE 86.11 (1998): 2278-2324."
      ]
    },
    {
      "cell_type": "markdown",
      "metadata": {
        "id": "f3p_DYkG5HNH"
      },
      "source": [
        "## 8.2 AlexNet\n",
        "\n",
        "<img src=\"img/alexnet.png\">\n",
        "\n",
        "AlexNet became well-known due to its performance on the ImageNet classification\n",
        "benchmark.\n",
        "\n",
        "Krizhevsky, Alex, Ilya Sutskever, and Geoffrey E. Hinton. \"Imagenet classification with deep convolutional neural networks.\" Advances in neural information processing systems. 2012.\n",
        "    \n",
        "https://github.com/pytorch/vision/blob/master/torchvision/models/alexnet.py"
      ]
    },
    {
      "cell_type": "markdown",
      "metadata": {
        "id": "jHkL757E5HNI"
      },
      "source": [
        "## 8.3 VGG (16)\n",
        "\n",
        "<img src=\"img/vgg16.png\">\n",
        "\n",
        "The ImageNet benchmark and related competition continued to be a source of new\n",
        "architectures in the 2010s with the VGG family of architectures also gaining\n",
        "recognition for their performance. The impressive depth of these networks was\n",
        "novel and built on advances in weight optimization.\n",
        "    \n",
        "Often used directly with already learnt weights and relearning over them, or keeping all layers nd learning from scratch only for last layers. \n",
        "\n",
        "Simonyan, Karen, and Andrew Zisserman. \"Very deep convolutional networks for large-scale image recognition.\" ICLR, 2015."
      ]
    },
    {
      "cell_type": "markdown",
      "metadata": {
        "id": "Ny3P2wfd5HNI"
      },
      "source": [
        "## 8.4 InceptionNet\n",
        "\n",
        "<img src=\"img/inception.png\">\n",
        "\n",
        "While VGG went deeper, other networks started proposing parallel blocks of small\n",
        "convolutions which allowed for better dimensionality reduction. The InceptionNet\n",
        "is composed of these so-called \"inception blocks\".\n",
        "\n",
        "Szegedy, Christian, et al. \"Rethinking the inception architecture for computer vision.\" Proceedings of the IEEE conference on computer vision and pattern recognition. 2016.\n",
        "\n",
        "https://github.com/pytorch/vision/blob/master/torchvision/models/inception.py"
      ]
    },
    {
      "cell_type": "markdown",
      "metadata": {
        "id": "Lr0b-drv5HNI"
      },
      "source": [
        "## 8.5 GoogLeNet\n",
        "\n",
        "<img src=\"img/googlenet.png\">\n",
        "\n",
        "GoogLeNet, named after LeNet, combined advances like inception blocks and the\n",
        "deeper VGG architectures, beating VGG in 2014 by 7.32% to 6.67% on the ImageNet\n",
        "benchmark.\n",
        "\n",
        "Szegedy, Christian, et al. \"Going deeper with convolutions.\" Proceedings of the IEEE conference on computer vision and pattern recognition. 2015.\n",
        "\n",
        "https://github.com/pytorch/vision/blob/master/torchvision/models/googlenet.py"
      ]
    },
    {
      "cell_type": "markdown",
      "metadata": {
        "id": "UMQjafYp5HNI"
      },
      "source": [
        "## 8.6 ResNet\n",
        "\n",
        "<img src=\"img/resnet.png\">\n",
        "<img src=\"img/resnet_vgg.png\">\n",
        "\n",
        "Residual Networks use skip or shortcut connections, unweighted identity\n",
        "functions, to pass information from one part of the newtork to a later part.\n",
        "These so-called \"residual blocks\" allow for independent functions to be learned\n",
        "by a part of the network without needing to also pass a transformation of the\n",
        "data down-stream.\n",
        "\n",
        "He, Kaiming, et al. \"Deep residual learning for image recognition.\" Proceedings of the IEEE conference on computer vision and pattern recognition. 2016.\n",
        "\n",
        "https://github.com/pytorch/vision/blob/master/torchvision/models/resnet.py"
      ]
    },
    {
      "cell_type": "markdown",
      "metadata": {
        "id": "rQgrXZz65HNI"
      },
      "source": [
        "## 8.7 Differentiable Architecture Search\n",
        "\n",
        "<img src=\"img/darts.png\">\n",
        "\n",
        "Neural Architecture Search, the automatic research for architectures, is growing\n",
        "as a research field. Better networks than ResNet or VGG have been found with\n",
        "these method for the CIFAR and ImageNet benchmarks.\n",
        "\n",
        "Liu, Hanxiao, Karen Simonyan, and Yiming Yang. \"DARTS: Differentiable\n",
        "Architecture Search.\" International Conference on Learning\n",
        "Representations. 2018. [pdf](https://arxiv.org/pdf/1806.09055.pdf)"
      ]
    },
    {
      "cell_type": "markdown",
      "metadata": {
        "id": "i4NLLXfL5HNI"
      },
      "source": [
        "## 8.8 NSGA-Net\n",
        "\n",
        "<img src=\"img/nsganet.png\" width=\"50%\" height=auto>\n",
        "\n",
        "Evolutionary algorithms are one popular approach to neural architecture search,\n",
        "such as NSGA-Net. Important objectives in NAS are to increase model accuracy\n",
        "while reducing complexity, measured by training time and number of parameters.\n",
        "\n",
        "State of the art (almost) in terms of architecture search.\n",
        "\n",
        "Lu, Zhichao, et al. \"Nsga-net: neural architecture search using multi-objective\n",
        "genetic algorithm.\" Proceedings of the Genetic and Evolutionary Computation\n",
        "Conference. 2019. [code](https://github.com/ianwhale/nsga-net)"
      ]
    },
    {
      "cell_type": "markdown",
      "metadata": {
        "id": "Vx0FxQSp5HNJ"
      },
      "source": [
        "<div class=\"alert alert-success\">\n",
        "Exercise 9 (at home): Look at one of the torchvision implementations of models and the reference paper to understand how the torch version is implemented. Train a network of your choice on CIFAR10 using ignite.\n",
        "</div>"
      ]
    }
  ]
}