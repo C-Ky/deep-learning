{
  "nbformat": 4,
  "nbformat_minor": 0,
  "metadata": {
    "@webio": {
      "lastCommId": null,
      "lastKernelId": null
    },
    "kernelspec": {
      "display_name": "Python 3",
      "language": "python",
      "name": "python3"
    },
    "language_info": {
      "codemirror_mode": {
        "name": "ipython",
        "version": 3
      },
      "file_extension": ".py",
      "mimetype": "text/x-python",
      "name": "python",
      "nbconvert_exporter": "python",
      "pygments_lexer": "ipython3",
      "version": "3.6.9"
    },
    "colab": {
      "name": "Introduction_ElmanNets.ipynb",
      "provenance": [],
      "collapsed_sections": []
    },
    "accelerator": "GPU"
  },
  "cells": [
    {
      "cell_type": "markdown",
      "metadata": {
        "id": "J7kEQF980rkZ"
      },
      "source": [
        "# Recurrent Neural Networks\n",
        "\n",
        "<a rel=\"license\" href=\"http://creativecommons.org/licenses/by-nc-sa/4.0/\"><img alt=\"Creative Commons License\" align=\"left\" src=\"https://i.creativecommons.org/l/by-nc-sa/4.0/80x15.png\" /></a>&nbsp;| Dennis G. Wilson | <a href=\"https://supaerodatascience.github.io/deep-learning/\">https://supaerodatascience.github.io/deep-learning/</a>\n",
        "Updates by G.Durantin, 2021\\\n",
        "Gautier Durantin, gautier.durantin@e-i.com"
      ]
    },
    {
      "cell_type": "markdown",
      "metadata": {
        "id": "2iEYOTDT0rkd"
      },
      "source": [
        "In this class, we'll cover a new type of deep neural network layer: recurrent layers. These layer types share the common feature of having internal or **hidden state**. This makes them well-suited to sequential data, such as time series or text data. They are heavily used in Natural Language Processing, the subject of [the next class](https://supaerodatascience.github.io/deep-learning/NLP.html). "
      ]
    },
    {
      "cell_type": "code",
      "metadata": {
        "colab": {
          "base_uri": "https://localhost:8080/"
        },
        "id": "6K5ZBfC--3Mp",
        "outputId": "26f26a32-7c9c-46a5-b1b0-5a1f4fe60d1a"
      },
      "source": [
        "%pip install pyedflib"
      ],
      "execution_count": 2,
      "outputs": [
        {
          "output_type": "stream",
          "name": "stdout",
          "text": [
            "Collecting pyedflib\n",
            "  Downloading pyEDFlib-0.1.23-cp37-cp37m-manylinux_2_5_x86_64.manylinux1_x86_64.manylinux_2_12_x86_64.manylinux2010_x86_64.whl (1.7 MB)\n",
            "\u001b[?25l\r\u001b[K     |▏                               | 10 kB 16.1 MB/s eta 0:00:01\r\u001b[K     |▍                               | 20 kB 20.1 MB/s eta 0:00:01\r\u001b[K     |▋                               | 30 kB 10.9 MB/s eta 0:00:01\r\u001b[K     |▊                               | 40 kB 8.7 MB/s eta 0:00:01\r\u001b[K     |█                               | 51 kB 5.0 MB/s eta 0:00:01\r\u001b[K     |█▏                              | 61 kB 5.4 MB/s eta 0:00:01\r\u001b[K     |█▍                              | 71 kB 5.7 MB/s eta 0:00:01\r\u001b[K     |█▌                              | 81 kB 6.4 MB/s eta 0:00:01\r\u001b[K     |█▊                              | 92 kB 6.2 MB/s eta 0:00:01\r\u001b[K     |██                              | 102 kB 5.3 MB/s eta 0:00:01\r\u001b[K     |██▏                             | 112 kB 5.3 MB/s eta 0:00:01\r\u001b[K     |██▎                             | 122 kB 5.3 MB/s eta 0:00:01\r\u001b[K     |██▌                             | 133 kB 5.3 MB/s eta 0:00:01\r\u001b[K     |██▊                             | 143 kB 5.3 MB/s eta 0:00:01\r\u001b[K     |███                             | 153 kB 5.3 MB/s eta 0:00:01\r\u001b[K     |███                             | 163 kB 5.3 MB/s eta 0:00:01\r\u001b[K     |███▎                            | 174 kB 5.3 MB/s eta 0:00:01\r\u001b[K     |███▌                            | 184 kB 5.3 MB/s eta 0:00:01\r\u001b[K     |███▊                            | 194 kB 5.3 MB/s eta 0:00:01\r\u001b[K     |███▉                            | 204 kB 5.3 MB/s eta 0:00:01\r\u001b[K     |████                            | 215 kB 5.3 MB/s eta 0:00:01\r\u001b[K     |████▎                           | 225 kB 5.3 MB/s eta 0:00:01\r\u001b[K     |████▌                           | 235 kB 5.3 MB/s eta 0:00:01\r\u001b[K     |████▋                           | 245 kB 5.3 MB/s eta 0:00:01\r\u001b[K     |████▉                           | 256 kB 5.3 MB/s eta 0:00:01\r\u001b[K     |█████                           | 266 kB 5.3 MB/s eta 0:00:01\r\u001b[K     |█████▎                          | 276 kB 5.3 MB/s eta 0:00:01\r\u001b[K     |█████▍                          | 286 kB 5.3 MB/s eta 0:00:01\r\u001b[K     |█████▋                          | 296 kB 5.3 MB/s eta 0:00:01\r\u001b[K     |█████▉                          | 307 kB 5.3 MB/s eta 0:00:01\r\u001b[K     |██████                          | 317 kB 5.3 MB/s eta 0:00:01\r\u001b[K     |██████▏                         | 327 kB 5.3 MB/s eta 0:00:01\r\u001b[K     |██████▍                         | 337 kB 5.3 MB/s eta 0:00:01\r\u001b[K     |██████▋                         | 348 kB 5.3 MB/s eta 0:00:01\r\u001b[K     |██████▉                         | 358 kB 5.3 MB/s eta 0:00:01\r\u001b[K     |███████                         | 368 kB 5.3 MB/s eta 0:00:01\r\u001b[K     |███████▏                        | 378 kB 5.3 MB/s eta 0:00:01\r\u001b[K     |███████▍                        | 389 kB 5.3 MB/s eta 0:00:01\r\u001b[K     |███████▋                        | 399 kB 5.3 MB/s eta 0:00:01\r\u001b[K     |███████▊                        | 409 kB 5.3 MB/s eta 0:00:01\r\u001b[K     |████████                        | 419 kB 5.3 MB/s eta 0:00:01\r\u001b[K     |████████▏                       | 430 kB 5.3 MB/s eta 0:00:01\r\u001b[K     |████████▍                       | 440 kB 5.3 MB/s eta 0:00:01\r\u001b[K     |████████▌                       | 450 kB 5.3 MB/s eta 0:00:01\r\u001b[K     |████████▊                       | 460 kB 5.3 MB/s eta 0:00:01\r\u001b[K     |█████████                       | 471 kB 5.3 MB/s eta 0:00:01\r\u001b[K     |█████████▏                      | 481 kB 5.3 MB/s eta 0:00:01\r\u001b[K     |█████████▎                      | 491 kB 5.3 MB/s eta 0:00:01\r\u001b[K     |█████████▌                      | 501 kB 5.3 MB/s eta 0:00:01\r\u001b[K     |█████████▊                      | 512 kB 5.3 MB/s eta 0:00:01\r\u001b[K     |██████████                      | 522 kB 5.3 MB/s eta 0:00:01\r\u001b[K     |██████████                      | 532 kB 5.3 MB/s eta 0:00:01\r\u001b[K     |██████████▎                     | 542 kB 5.3 MB/s eta 0:00:01\r\u001b[K     |██████████▌                     | 552 kB 5.3 MB/s eta 0:00:01\r\u001b[K     |██████████▊                     | 563 kB 5.3 MB/s eta 0:00:01\r\u001b[K     |██████████▉                     | 573 kB 5.3 MB/s eta 0:00:01\r\u001b[K     |███████████                     | 583 kB 5.3 MB/s eta 0:00:01\r\u001b[K     |███████████▎                    | 593 kB 5.3 MB/s eta 0:00:01\r\u001b[K     |███████████▌                    | 604 kB 5.3 MB/s eta 0:00:01\r\u001b[K     |███████████▋                    | 614 kB 5.3 MB/s eta 0:00:01\r\u001b[K     |███████████▉                    | 624 kB 5.3 MB/s eta 0:00:01\r\u001b[K     |████████████                    | 634 kB 5.3 MB/s eta 0:00:01\r\u001b[K     |████████████▎                   | 645 kB 5.3 MB/s eta 0:00:01\r\u001b[K     |████████████▍                   | 655 kB 5.3 MB/s eta 0:00:01\r\u001b[K     |████████████▋                   | 665 kB 5.3 MB/s eta 0:00:01\r\u001b[K     |████████████▉                   | 675 kB 5.3 MB/s eta 0:00:01\r\u001b[K     |█████████████                   | 686 kB 5.3 MB/s eta 0:00:01\r\u001b[K     |█████████████▏                  | 696 kB 5.3 MB/s eta 0:00:01\r\u001b[K     |█████████████▍                  | 706 kB 5.3 MB/s eta 0:00:01\r\u001b[K     |█████████████▋                  | 716 kB 5.3 MB/s eta 0:00:01\r\u001b[K     |█████████████▉                  | 727 kB 5.3 MB/s eta 0:00:01\r\u001b[K     |██████████████                  | 737 kB 5.3 MB/s eta 0:00:01\r\u001b[K     |██████████████▏                 | 747 kB 5.3 MB/s eta 0:00:01\r\u001b[K     |██████████████▍                 | 757 kB 5.3 MB/s eta 0:00:01\r\u001b[K     |██████████████▋                 | 768 kB 5.3 MB/s eta 0:00:01\r\u001b[K     |██████████████▊                 | 778 kB 5.3 MB/s eta 0:00:01\r\u001b[K     |███████████████                 | 788 kB 5.3 MB/s eta 0:00:01\r\u001b[K     |███████████████▏                | 798 kB 5.3 MB/s eta 0:00:01\r\u001b[K     |███████████████▍                | 808 kB 5.3 MB/s eta 0:00:01\r\u001b[K     |███████████████▌                | 819 kB 5.3 MB/s eta 0:00:01\r\u001b[K     |███████████████▊                | 829 kB 5.3 MB/s eta 0:00:01\r\u001b[K     |████████████████                | 839 kB 5.3 MB/s eta 0:00:01\r\u001b[K     |████████████████▏               | 849 kB 5.3 MB/s eta 0:00:01\r\u001b[K     |████████████████▎               | 860 kB 5.3 MB/s eta 0:00:01\r\u001b[K     |████████████████▌               | 870 kB 5.3 MB/s eta 0:00:01\r\u001b[K     |████████████████▊               | 880 kB 5.3 MB/s eta 0:00:01\r\u001b[K     |█████████████████               | 890 kB 5.3 MB/s eta 0:00:01\r\u001b[K     |█████████████████               | 901 kB 5.3 MB/s eta 0:00:01\r\u001b[K     |█████████████████▎              | 911 kB 5.3 MB/s eta 0:00:01\r\u001b[K     |█████████████████▌              | 921 kB 5.3 MB/s eta 0:00:01\r\u001b[K     |█████████████████▊              | 931 kB 5.3 MB/s eta 0:00:01\r\u001b[K     |█████████████████▉              | 942 kB 5.3 MB/s eta 0:00:01\r\u001b[K     |██████████████████              | 952 kB 5.3 MB/s eta 0:00:01\r\u001b[K     |██████████████████▎             | 962 kB 5.3 MB/s eta 0:00:01\r\u001b[K     |██████████████████▌             | 972 kB 5.3 MB/s eta 0:00:01\r\u001b[K     |██████████████████▋             | 983 kB 5.3 MB/s eta 0:00:01\r\u001b[K     |██████████████████▉             | 993 kB 5.3 MB/s eta 0:00:01\r\u001b[K     |███████████████████             | 1.0 MB 5.3 MB/s eta 0:00:01\r\u001b[K     |███████████████████▎            | 1.0 MB 5.3 MB/s eta 0:00:01\r\u001b[K     |███████████████████▍            | 1.0 MB 5.3 MB/s eta 0:00:01\r\u001b[K     |███████████████████▋            | 1.0 MB 5.3 MB/s eta 0:00:01\r\u001b[K     |███████████████████▉            | 1.0 MB 5.3 MB/s eta 0:00:01\r\u001b[K     |████████████████████            | 1.1 MB 5.3 MB/s eta 0:00:01\r\u001b[K     |████████████████████▏           | 1.1 MB 5.3 MB/s eta 0:00:01\r\u001b[K     |████████████████████▍           | 1.1 MB 5.3 MB/s eta 0:00:01\r\u001b[K     |████████████████████▋           | 1.1 MB 5.3 MB/s eta 0:00:01\r\u001b[K     |████████████████████▉           | 1.1 MB 5.3 MB/s eta 0:00:01\r\u001b[K     |█████████████████████           | 1.1 MB 5.3 MB/s eta 0:00:01\r\u001b[K     |█████████████████████▏          | 1.1 MB 5.3 MB/s eta 0:00:01\r\u001b[K     |█████████████████████▍          | 1.1 MB 5.3 MB/s eta 0:00:01\r\u001b[K     |█████████████████████▋          | 1.1 MB 5.3 MB/s eta 0:00:01\r\u001b[K     |█████████████████████▊          | 1.1 MB 5.3 MB/s eta 0:00:01\r\u001b[K     |██████████████████████          | 1.2 MB 5.3 MB/s eta 0:00:01\r\u001b[K     |██████████████████████▏         | 1.2 MB 5.3 MB/s eta 0:00:01\r\u001b[K     |██████████████████████▍         | 1.2 MB 5.3 MB/s eta 0:00:01\r\u001b[K     |██████████████████████▌         | 1.2 MB 5.3 MB/s eta 0:00:01\r\u001b[K     |██████████████████████▊         | 1.2 MB 5.3 MB/s eta 0:00:01\r\u001b[K     |███████████████████████         | 1.2 MB 5.3 MB/s eta 0:00:01\r\u001b[K     |███████████████████████▏        | 1.2 MB 5.3 MB/s eta 0:00:01\r\u001b[K     |███████████████████████▎        | 1.2 MB 5.3 MB/s eta 0:00:01\r\u001b[K     |███████████████████████▌        | 1.2 MB 5.3 MB/s eta 0:00:01\r\u001b[K     |███████████████████████▊        | 1.2 MB 5.3 MB/s eta 0:00:01\r\u001b[K     |████████████████████████        | 1.3 MB 5.3 MB/s eta 0:00:01\r\u001b[K     |████████████████████████        | 1.3 MB 5.3 MB/s eta 0:00:01\r\u001b[K     |████████████████████████▎       | 1.3 MB 5.3 MB/s eta 0:00:01\r\u001b[K     |████████████████████████▌       | 1.3 MB 5.3 MB/s eta 0:00:01\r\u001b[K     |████████████████████████▊       | 1.3 MB 5.3 MB/s eta 0:00:01\r\u001b[K     |████████████████████████▉       | 1.3 MB 5.3 MB/s eta 0:00:01\r\u001b[K     |█████████████████████████       | 1.3 MB 5.3 MB/s eta 0:00:01\r\u001b[K     |█████████████████████████▎      | 1.3 MB 5.3 MB/s eta 0:00:01\r\u001b[K     |█████████████████████████▌      | 1.3 MB 5.3 MB/s eta 0:00:01\r\u001b[K     |█████████████████████████▋      | 1.4 MB 5.3 MB/s eta 0:00:01\r\u001b[K     |█████████████████████████▉      | 1.4 MB 5.3 MB/s eta 0:00:01\r\u001b[K     |██████████████████████████      | 1.4 MB 5.3 MB/s eta 0:00:01\r\u001b[K     |██████████████████████████▎     | 1.4 MB 5.3 MB/s eta 0:00:01\r\u001b[K     |██████████████████████████▍     | 1.4 MB 5.3 MB/s eta 0:00:01\r\u001b[K     |██████████████████████████▋     | 1.4 MB 5.3 MB/s eta 0:00:01\r\u001b[K     |██████████████████████████▉     | 1.4 MB 5.3 MB/s eta 0:00:01\r\u001b[K     |███████████████████████████     | 1.4 MB 5.3 MB/s eta 0:00:01\r\u001b[K     |███████████████████████████▏    | 1.4 MB 5.3 MB/s eta 0:00:01\r\u001b[K     |███████████████████████████▍    | 1.4 MB 5.3 MB/s eta 0:00:01\r\u001b[K     |███████████████████████████▋    | 1.5 MB 5.3 MB/s eta 0:00:01\r\u001b[K     |███████████████████████████▉    | 1.5 MB 5.3 MB/s eta 0:00:01\r\u001b[K     |████████████████████████████    | 1.5 MB 5.3 MB/s eta 0:00:01\r\u001b[K     |████████████████████████████▏   | 1.5 MB 5.3 MB/s eta 0:00:01\r\u001b[K     |████████████████████████████▍   | 1.5 MB 5.3 MB/s eta 0:00:01\r\u001b[K     |████████████████████████████▋   | 1.5 MB 5.3 MB/s eta 0:00:01\r\u001b[K     |████████████████████████████▊   | 1.5 MB 5.3 MB/s eta 0:00:01\r\u001b[K     |█████████████████████████████   | 1.5 MB 5.3 MB/s eta 0:00:01\r\u001b[K     |█████████████████████████████▏  | 1.5 MB 5.3 MB/s eta 0:00:01\r\u001b[K     |█████████████████████████████▍  | 1.5 MB 5.3 MB/s eta 0:00:01\r\u001b[K     |█████████████████████████████▌  | 1.6 MB 5.3 MB/s eta 0:00:01\r\u001b[K     |█████████████████████████████▊  | 1.6 MB 5.3 MB/s eta 0:00:01\r\u001b[K     |██████████████████████████████  | 1.6 MB 5.3 MB/s eta 0:00:01\r\u001b[K     |██████████████████████████████▏ | 1.6 MB 5.3 MB/s eta 0:00:01\r\u001b[K     |██████████████████████████████▎ | 1.6 MB 5.3 MB/s eta 0:00:01\r\u001b[K     |██████████████████████████████▌ | 1.6 MB 5.3 MB/s eta 0:00:01\r\u001b[K     |██████████████████████████████▊ | 1.6 MB 5.3 MB/s eta 0:00:01\r\u001b[K     |███████████████████████████████ | 1.6 MB 5.3 MB/s eta 0:00:01\r\u001b[K     |███████████████████████████████ | 1.6 MB 5.3 MB/s eta 0:00:01\r\u001b[K     |███████████████████████████████▎| 1.6 MB 5.3 MB/s eta 0:00:01\r\u001b[K     |███████████████████████████████▌| 1.7 MB 5.3 MB/s eta 0:00:01\r\u001b[K     |███████████████████████████████▊| 1.7 MB 5.3 MB/s eta 0:00:01\r\u001b[K     |███████████████████████████████▉| 1.7 MB 5.3 MB/s eta 0:00:01\r\u001b[K     |████████████████████████████████| 1.7 MB 5.3 MB/s \n",
            "\u001b[?25hRequirement already satisfied: numpy>=1.9.1 in /usr/local/lib/python3.7/dist-packages (from pyedflib) (1.19.5)\n",
            "Installing collected packages: pyedflib\n",
            "Successfully installed pyedflib-0.1.23\n"
          ]
        }
      ]
    },
    {
      "cell_type": "code",
      "metadata": {
        "id": "ZISCzJ430rke"
      },
      "source": [
        "import os\n",
        "import pyedflib\n",
        "import numpy as np\n",
        "import random as rd\n",
        "import string\n",
        "import torch\n",
        "import torch.nn as nn\n",
        "import torch.optim as optim\n",
        "import matplotlib\n",
        "import matplotlib.pyplot as plt\n",
        "%matplotlib inline"
      ],
      "execution_count": 3,
      "outputs": []
    },
    {
      "cell_type": "markdown",
      "metadata": {
        "id": "wQ5z4huP3UKM"
      },
      "source": [
        "NLP - chatbox\\\n",
        "We need to extract the following infos: \n",
        "- an intention\n",
        "- a named entity\n",
        "\n",
        "Example:\n",
        "- qu'est-ce qui passe avec ma CB?\\\n",
        "intention: info on payment means\\\n",
        "named entity: payment means (CB)"
      ]
    },
    {
      "cell_type": "markdown",
      "metadata": {
        "id": "bcFTB1Jb0rkf"
      },
      "source": [
        "## Introductory activity : *Finding Structure in Time* (Elman, 1990)\n",
        "\n",
        "In his fundational work on Recurrent Neural Networks, Elman looked at a variety of problems that could not be solved using \"standard\" Neural Networks.\n",
        "The common feature of these problems, presented in his paper coined *Finding Structure in Time* (published in 1990), is that the data underlying them has structure in time (e.g. it has some sort of periodicity, or is organisez as a sequence).\n",
        "\n",
        "Here we propose to reproduce an adaptation of one of these problems, looking at **learning word boundaries**\n",
        "\n",
        "### 1. Problem : *Le Heron* (La Fontaine, 1678)\n",
        "\n",
        "In his paper, Elman worked with a lexicon composed of 15 english words. In this exercice, we will use French words instead, and use the first 16 words encountered in *Le Héron* (La Fontaine, 1678).\n",
        "\n",
        "<div align=\"center\"><b>Un jour sur ses longs pieds, allait, je ne sais où,<br/>\n",
        "Le Héron au long bec </b> emmanché d'un long cou.<br/>\n",
        "Il côtoyait une rivière.</div>\n",
        "\n",
        "Using these 16 words, we generate plenty of sentences by randomly sampling from the lexicon."
      ]
    },
    {
      "cell_type": "code",
      "metadata": {
        "id": "irGa-pl00rkf",
        "colab": {
          "base_uri": "https://localhost:8080/"
        },
        "outputId": "c1b90fcd-9ac0-4260-c87d-d9840efe7333"
      },
      "source": [
        "#lexicon\n",
        "lexicon=[\"un\",\"jour\",\"sur\",\"ses\",\"longs\",\"pieds\",\"allait\",\"je\",\"ne\",\"sais\",\"ou\",\"le\",\"heron\",\"au\",\"long\",\"bec\"]\n",
        "\n",
        "#generate sentences\n",
        "def generateSentence(lexicon,n_words):\n",
        "    return ''.join(rd.sample(lexicon,n_words))\n",
        "\n",
        "text=''.join(lexicon)\n",
        "for n_sentences in range(150):\n",
        "    text+=generateSentence(lexicon,rd.randrange(11,16))\n",
        "\n",
        "print(\"text length (number of characters):\",len(text),\"\\n\",text[0:1000])"
      ],
      "execution_count": 4,
      "outputs": [
        {
          "output_type": "stream",
          "name": "stdout",
          "text": [
            "text length (number of characters): 6712 \n",
            " unjoursurseslongspiedsallaitjenesaisouleheronaulongbecseslongsunlongaubecallaitsaispiedssurnelejeoujeleallaitsesoulongunjourausaisnepiedsheronsuraunesaissurbecunjelongspiedsoujourleheronpiedsauseslongallaitsursaisoujournejelebeclongsunoulelongjesuraunesaisallaitjourlongspiedssesouallaitheronlongsaisaubecjenejourunlongsoulongbecallaitsurlepiedsaunejourheronsaisunlongsjeheronsesjourbecoulongpiedslongsunauleallaitnesaissurjeunnesaisjourheronpiedsbecouleausurlongsesallaitallaitsurpiedsunsesbecauouheronsaislongsjejourlonglongsheronsurouaupiedsneallaitjejourunsaislongsesbecunjourpiedslongsjeouleausaisbecleauheronousesjelongneallaitsursurpiedssesallaitnesaisbecheronoujourlongsaulongjejebeclongneallaitjourheronunleauousaisheronjepiedssursesneauleunoujourlongslongallaitbecheronsaisleaunelongunjelongssesjourallaitsuroulongallaitsurlongsoupiedssessaisheronlejeauheronoupiedslongsallaitsurbecseslonglesaislongallaitjelongsheronneunsaissuroubecjeouheronallaitleunpiedslongaunejourlongsbecsessursesoupi\n"
          ]
        }
      ]
    },
    {
      "cell_type": "markdown",
      "metadata": {
        "id": "sLxssPyI0rkg"
      },
      "source": [
        "As you will notice, the text has been preprocessed (removal of all punctuation, accents, etc...), and all the words and sentences have been appended. **What remains is a long sequence of characters, with no word boundaries remaining**.\n",
        "\n",
        "### 2. Data preparation and task Definition\n",
        "\n",
        "To work with pyTorch, we need to organize data in tensors. \n",
        "Each character in the text is one of the 26 letters of the alphabets. Therefore, *5 bits* are enough to encode each of the characters.\n",
        "\n",
        "The task Elman proposes to focus on for this problem is **predicting the next character of the sequence**. Performing well at this task would mean that the network has managed to understand that sequences of characters form words, and are therefore predictable.\n",
        "To implement the task in pyTorch, we need to create 2 tensors : one defining the $input$ that will be given to the network (i.e the current character), and the $target$ (i.e. the following character)\n",
        "\n"
      ]
    },
    {
      "cell_type": "code",
      "metadata": {
        "id": "2dutA4350rkg",
        "colab": {
          "base_uri": "https://localhost:8080/"
        },
        "outputId": "5d61cfa1-91a3-4ca2-a928-d474483eb1a0"
      },
      "source": [
        "# Convert a character into a 5 bits encoding\n",
        "def encodeCharacter(char):\n",
        "    index=string.ascii_lowercase.index(char) #Index in the alphabet l'alphabet du caractère\n",
        "    output = [float(x) for x in '{:05b}'.format(index)] #convert to 5 bits\n",
        "    return output \n",
        "\n",
        "# Encode sequence\n",
        "input=[]\n",
        "target=[]\n",
        "for i in range(len(text)-1):\n",
        "    input.append(encodeCharacter(text[i]))\n",
        "    target.append(encodeCharacter(text[i+1]))\n",
        "#convert to tensors\n",
        "input=torch.from_numpy(np.array(input))\n",
        "target=torch.from_numpy(np.array(target))\n",
        "\n",
        "print(\"tensors size :\", input.size())\n",
        "print(\"first input : \", input[0])\n",
        "print(\"first target : \", target[0])"
      ],
      "execution_count": 5,
      "outputs": [
        {
          "output_type": "stream",
          "name": "stdout",
          "text": [
            "tensors size : torch.Size([6711, 5])\n",
            "first input :  tensor([1., 0., 1., 0., 0.], dtype=torch.float64)\n",
            "first target :  tensor([0., 1., 1., 0., 1.], dtype=torch.float64)\n"
          ]
        }
      ]
    },
    {
      "cell_type": "markdown",
      "metadata": {
        "id": "NsP2shGJ0rki"
      },
      "source": [
        "### 3. Simple approach : ANN with one hidden layer\n",
        "\n",
        "As a first approach and a baseline, we propose to look at how well a network with one hidden layer would perform."
      ]
    },
    {
      "cell_type": "code",
      "metadata": {
        "id": "fumYUsCx0rki"
      },
      "source": [
        "class LinearNN(nn.Module):\n",
        "    def __init__(self, input_size, hidden_size, output_size):\n",
        "        super(LinearNN, self).__init__()\n",
        "        self.hidden_size = hidden_size\n",
        "        self.linear1 = nn.Linear(input_size, hidden_size)\n",
        "        self.linear2 = nn.Linear(hidden_size, output_size)\n",
        "        self.sig=nn.Sigmoid()\n",
        "\n",
        "    def forward(self, input):\n",
        "        hidden = self.linear1(input)\n",
        "        output = self.sig(self.linear2(hidden))\n",
        "        return output"
      ],
      "execution_count": 6,
      "outputs": []
    },
    {
      "cell_type": "markdown",
      "metadata": {
        "id": "gJXrWRVl0rkj"
      },
      "source": [
        "To implement train the network, we will use the same parameters as what Elman proposes in his paper : \n",
        "- input and output layers of size 5 (corresponding to the encoding size of the letters)\n",
        "- hidden layer of size 20\n",
        "- training consisting of 10 complete iterations over the sequence."
      ]
    },
    {
      "cell_type": "code",
      "metadata": {
        "id": "jk5EvmfQ0rkj",
        "colab": {
          "base_uri": "https://localhost:8080/"
        },
        "outputId": "c0f73e01-1882-4dce-9d19-41f767c5847a"
      },
      "source": [
        "n_hidden = 20\n",
        "#network initialization\n",
        "linearnn = LinearNN(5, n_hidden, 5).double()\n",
        "\n",
        "#criterion and optimizer for training\n",
        "criterion = nn.MSELoss()\n",
        "optimizer = torch.optim.SGD(linearnn.parameters(), lr=0.1, momentum=0.9)\n",
        "\n",
        "#training iterations\n",
        "for iter in range(10):\n",
        "    running_loss=0\n",
        "    for char in range(input.size(0)) :\n",
        "        optimizer.zero_grad()\n",
        "        output = linearnn(input[char].reshape(1,5))\n",
        "        loss = criterion(output, target[char].reshape(1,5))\n",
        "        loss.backward(retain_graph=True)\n",
        "        running_loss+=loss.item()\n",
        "        optimizer.step()\n",
        "    print(\"iter \",str(iter),\" average loss on iteration :\",str(running_loss/input.size(0)))"
      ],
      "execution_count": 7,
      "outputs": [
        {
          "output_type": "stream",
          "name": "stdout",
          "text": [
            "iter  0  average loss on iteration : 0.22574822776929762\n",
            "iter  1  average loss on iteration : 0.22531348970966023\n",
            "iter  2  average loss on iteration : 0.22530589303023638\n",
            "iter  3  average loss on iteration : 0.2253023789249236\n",
            "iter  4  average loss on iteration : 0.22530046636960044\n",
            "iter  5  average loss on iteration : 0.22529927302487104\n",
            "iter  6  average loss on iteration : 0.2252984628997443\n",
            "iter  7  average loss on iteration : 0.2252978808628684\n",
            "iter  8  average loss on iteration : 0.22529744541215155\n",
            "iter  9  average loss on iteration : 0.22529710963469352\n"
          ]
        }
      ]
    },
    {
      "cell_type": "markdown",
      "metadata": {
        "id": "hgCMg1h10rkk"
      },
      "source": [
        "Looking at the loss, the network does not seem to have learned much. Let's look at a portion of the error when trying to use the network.\\\n",
        "The task is not exactly feasible (multiple combinations exist) so loss cannot attain 0 and pic at beginning of new word is normal while in longer words, when progressing in word loss should decline."
      ]
    },
    {
      "cell_type": "code",
      "metadata": {
        "id": "aAVb51dy0rkk",
        "colab": {
          "base_uri": "https://localhost:8080/",
          "height": 265
        },
        "outputId": "0d77f5b3-346c-41b2-eb5c-b1e9cdddfd61"
      },
      "source": [
        "losses=np.empty(1)\n",
        "with torch.no_grad():\n",
        "    for i in range(input.size(0)) :\n",
        "        output = linearnn(input[i].reshape(1,5))\n",
        "        losses=np.append(losses,criterion(output, target[i].reshape(1,5)).detach().numpy())\n",
        "        \n",
        "max_char=40\n",
        "offset=1\n",
        "#ERROR PLOT\n",
        "plt.plot(losses[offset:max_char+offset])\n",
        "plt.ylabel('error')\n",
        "for i in range(max_char):\n",
        "    plt.text(i,losses[i+offset],text[i+offset]) #print the target letter for each step\n",
        "plt.show()"
      ],
      "execution_count": 8,
      "outputs": [
        {
          "output_type": "display_data",
          "data": {
            "image/png": "[encoded data removed]",
            "text/plain": [
              "<Figure size 432x288 with 1 Axes>"
            ]
          },
          "metadata": {
            "needs_background": "light"
          }
        }
      ]
    },
    {
      "cell_type": "markdown",
      "metadata": {
        "id": "ayaWU9tY0rkk"
      },
      "source": [
        "Although the graph should look disappointing, there may be a pattern that start to emerge here : you may notice that the error is higher at the beginning of words. We will come back to this interpretation later.\n",
        "\n",
        "However, it is clear that the network performs badly at learning to predict the next letter from the current one. Elman's interpretation of this result is that one fundamental aspect missing from the implementation : **recurrence**.\n",
        "\n",
        "In fact, when predicting the next letter from the current one, it may be useful to keep in memory what the network predicted before. This memory enables the network to not only take into account its current state when predicting the outcome, but also to take into account the previous state.\n",
        "For data organized in logically structured sequences (e.g. words), the concept of recurrence is crucial for good results."
      ]
    },
    {
      "cell_type": "markdown",
      "metadata": {
        "id": "dqzzdiMT0rkk"
      },
      "source": [
        "### 4. Introducing recurrence\n",
        "\n",
        "Elman's proposition is to add a **recurrent layer**. At each step, the hidden layer receives input not only from the input layer, but also from the recurrent layer. The state of the hidden layer is then copied into the recurrent layer for the next step.\n",
        "This allows the network to keep some memory of the previous state.\n",
        "\n",
        "<img src=\"img/elman.png\">\n",
        "\n",
        "*Note : Elman was not the first to propose this implementation. Jordan (1986) had already implemented recurrence, but had proposed to keep in memory the state of the output layer instead of the hidden layer*\n",
        "\n",
        "Let's modify our network to introduce Elman's recurrence. In pyTorch, this can be done using the **RNNCell** layer."
      ]
    },
    {
      "cell_type": "code",
      "metadata": {
        "id": "SFKkChrv0rkl"
      },
      "source": [
        "class RNN(nn.Module):\n",
        "    def __init__(self, input_size, hidden_size, output_size):\n",
        "        super(RNN, self).__init__()\n",
        "        self.hidden_size = hidden_size\n",
        "        self.rnn1 = nn.RNNCell(input_size, hidden_size)\n",
        "        self.linear = nn.Linear(hidden_size, output_size)\n",
        "        self.sig=nn.Sigmoid()\n",
        "\n",
        "    def forward(self, input, hidden):\n",
        "        hidden = self.rnn1(input, hidden) # hidden(n-1) is also an input of the hidden(n)\n",
        "        output = self.sig(self.linear(hidden))\n",
        "        return output, hidden #we return both output and hidden state, as both will be needed for the next step\n",
        "    \n",
        "    def init_hidden(self):\n",
        "        return torch.zeros(1, self.hidden_size, dtype=torch.double)"
      ],
      "execution_count": 9,
      "outputs": []
    },
    {
      "cell_type": "markdown",
      "metadata": {
        "id": "dKo32jb_0rkl"
      },
      "source": [
        "**Note : as you can see, in pyTorch, recurrence means that the hidden state is kept in memory through iterations**. That means that the forward method takes this recurrent state as an argument, and returns the updated state.\n",
        "For the first step, the network's recurrent state will need to be initialized (here with zeros). The method init_hidden enables to do so."
      ]
    },
    {
      "cell_type": "code",
      "metadata": {
        "id": "Znnvre1b0rkl",
        "colab": {
          "base_uri": "https://localhost:8080/"
        },
        "outputId": "3cabf536-f953-4372-991e-6bf5b67e33d6"
      },
      "source": [
        "n_hidden = 20\n",
        "#network initialization\n",
        "rnn = RNN(5, n_hidden, 5).double()\n",
        "\n",
        "#criterion and optimizer for training\n",
        "criterion = nn.MSELoss()\n",
        "optimizer = torch.optim.SGD(rnn.parameters(), lr=0.1, momentum=0.9)\n",
        "\n",
        "#training iterations\n",
        "for iter in range(10):\n",
        "    running_loss=0\n",
        "    hidden=rnn.init_hidden() #initialize hidden state\n",
        "    for i in range(input.size(0)) :\n",
        "        optimizer.zero_grad()\n",
        "        output, hidden = rnn(input[i].reshape(1,5),hidden.detach())\n",
        "        loss = criterion(output, target[i].reshape(1,5))\n",
        "        loss.backward(retain_graph=True)\n",
        "        running_loss+=loss.item()\n",
        "        optimizer.step()\n",
        "    print(\"iter \",str(iter),\" average loss on iteration :\",str(running_loss/input.size(0)))"
      ],
      "execution_count": 10,
      "outputs": [
        {
          "output_type": "stream",
          "name": "stdout",
          "text": [
            "iter  0  average loss on iteration : 0.21470265075643227\n",
            "iter  1  average loss on iteration : 0.20120057596968022\n",
            "iter  2  average loss on iteration : 0.1935831015679354\n",
            "iter  3  average loss on iteration : 0.18516001708875424\n",
            "iter  4  average loss on iteration : 0.17772733867057608\n",
            "iter  5  average loss on iteration : 0.16677359013789606\n",
            "iter  6  average loss on iteration : 0.173385491199521\n",
            "iter  7  average loss on iteration : 0.16816994054883225\n",
            "iter  8  average loss on iteration : 0.16739231960451986\n",
            "iter  9  average loss on iteration : 0.16340917950449343\n"
          ]
        }
      ]
    },
    {
      "cell_type": "markdown",
      "metadata": {
        "id": "Qe2oDfUi0rkl"
      },
      "source": [
        "You should notice some convergence, even if not very convincing (as the task remains hard). Now, let's plot the error as we did with the standard ANN."
      ]
    },
    {
      "cell_type": "code",
      "metadata": {
        "id": "FnURzL_s0rkm",
        "colab": {
          "base_uri": "https://localhost:8080/",
          "height": 265
        },
        "outputId": "ceadd7ce-2834-46d5-c9eb-f9a9fbae922b"
      },
      "source": [
        "losses=np.empty(1)\n",
        "with torch.no_grad():\n",
        "    hidden=rnn.init_hidden() #initialize hidden state\n",
        "    for i in range(input.size(0)) :\n",
        "        output,hidden = rnn(input[i].reshape(1,5),hidden)\n",
        "        losses=np.append(losses,criterion(output, target[i].reshape(1,5)).detach().numpy())\n",
        "        \n",
        "max_char=40\n",
        "offset=1\n",
        "#ERROR PLOT\n",
        "plt.plot(losses[offset:max_char+offset])\n",
        "plt.ylabel('error')\n",
        "for i in range(max_char):\n",
        "    plt.text(i,losses[i+offset],text[i+offset]) #print the target letter for each step\n",
        "plt.show()"
      ],
      "execution_count": 11,
      "outputs": [
        {
          "output_type": "display_data",
          "data": {
            "image/png": "[encoded data removed]",
            "text/plain": [
              "<Figure size 432x288 with 1 Axes>"
            ]
          },
          "metadata": {
            "needs_background": "light"
          }
        }
      ]
    },
    {
      "cell_type": "markdown",
      "metadata": {
        "id": "qDugtA9t0rkm"
      },
      "source": [
        "The pattern we started to see previously should appear very clearly now : the error is high at the beginning of words, and then decreases as the word becomes clearer. \n",
        "\n",
        "The RNN has difficulty with accords especially if there is the two words (singular and plural) in the lexicon.\n",
        "\n",
        "This corresponds quite well with the way a human would solve this problem : *predicting the next letter from the current one is impossible, unless there is some structure (imposed by words) in this sequence*.\n",
        "For instance, when just given the letter \"h\", there is no way for you to predict the next letter efficiently. However, as you continue reading, and manage to remember that the first letters are \"*hero*\", it is much more likely for you to predict the next letter to be \"n\" (to form the word \"*heron*\").\n",
        "\n",
        "**In practice, our Recurrent Neural network has managed to learn the structure of words.**"
      ]
    }
  ]
}