{
  "cells": [
    {
      "cell_type": "markdown",
      "metadata": {
        "id": "GayV04P55gDg"
      },
      "source": [
        "# Generative Adversarial Networks (GAN)\n",
        "\n",
        "<a rel=\"license\" href=\"http://creativecommons.org/licenses/by-nc-sa/4.0/\"><img alt=\"Creative Commons License\" align=\"left\" src=\"https://i.creativecommons.org/l/by-nc-sa/4.0/80x15.png\" /></a>&nbsp;| Dennis G. Wilson | <a href=\"https://supaerodatascience.github.io/deep-learning/\">https://supaerodatascience.github.io/deep-learning/</a>\n",
        "\n",
        "adapted from the GAN class of Thomas Pierrot"
      ]
    },
    {
      "cell_type": "markdown",
      "metadata": {
        "id": "4GWEh6lU5gDm"
      },
      "source": [
        "<div class=\"alert alert-warning\">\n",
        "<b>Warning :</b>\n",
        "This notebook is heavy on computational resources. Depending on your personal machine, it might be better to run it on <a href=\"https://colab.research.google.com/github/SupaeroDataScience/deep-learning/blob/main/GAN/Generative%20Adversarial%20Networks.ipynb\">Colab</a>.\n",
        "</div>"
      ]
    },
    {
      "cell_type": "code",
      "execution_count": 1,
      "metadata": {
        "id": "tRknRTZb5gDp"
      },
      "outputs": [],
      "source": [
        "%matplotlib inline\n",
        "import itertools\n",
        "import math\n",
        "import time\n",
        "import os\n",
        "import torch\n",
        "import torch.nn as nn\n",
        "import torchvision\n",
        "from torchvision import transforms\n",
        "import matplotlib.pyplot as plt\n",
        "from IPython import display\n",
        "from torch.autograd import Variable"
      ]
    },
    {
      "cell_type": "code",
      "source": [
        "!wget -c https://github.com/SupaeroDataScience/deep-learning/blob/main/GAN/solutions/1_generator.py?raw=true -O solutions/1_generator.py\n",
        "!wget -c https://github.com/SupaeroDataScience/deep-learning/blob/main/GAN/solutions/2_train_d.py?raw=true -O solutions/2_train_d.py\n",
        "!wget -c https://github.com/SupaeroDataScience/deep-learning/blob/main/GAN/solutions/3_train_g.py?raw=true -O solutions/3_train_g.py"
      ],
      "metadata": {
        "colab": {
          "base_uri": "https://localhost:8080/"
        },
        "id": "eh2S4m64_XOH",
        "outputId": "8b3bf82f-413f-4933-cfd3-f0573212ecba"
      },
      "execution_count": 2,
      "outputs": [
        {
          "output_type": "stream",
          "name": "stdout",
          "text": [
            "solutions/1_generator.py: No such file or directory\n",
            "solutions/2_train_d.py: No such file or directory\n",
            "solutions/3_train_g.py: No such file or directory\n"
          ]
        }
      ]
    },
    {
      "cell_type": "markdown",
      "metadata": {
        "id": "S4H9daRS5gDq"
      },
      "source": [
        "### The goal of GANs\n",
        "\n",
        "<b>Generative Adversarial Networks (GAN)</b> are a framework for generating new data which follows an existing distribution. This is often used with images is to generate images which look real, but which don't exist in the training set. The example we'll use today is the MNIST dataset, so we will generate new images which look like handwritten digits but which are created by a neural network."
      ]
    },
    {
      "cell_type": "markdown",
      "metadata": {
        "id": "Wx8xBznX5gDr"
      },
      "source": [
        "<img src=\"img/distributions.png\">\n",
        "\n",
        "Goodfellow, Ian, et al. \"Generative adversarial nets.\" Advances in neural information processing systems. 2014. [pdf](https://arxiv.org/pdf/1406.2661.pdf)"
      ]
    },
    {
      "cell_type": "markdown",
      "metadata": {
        "id": "Z80HEXXm5gDr"
      },
      "source": [
        "In this framework, two assumptions have to be made:\n",
        "+ All the data from the training dataset is assumed to follow the same probability distribution noted $p_{data}$. In other words, if the MNIST database is considered, all the 28x28 matrices which represent hand-written numbers are assumed to follow the same probability distribution."
      ]
    },
    {
      "cell_type": "markdown",
      "metadata": {
        "id": "ra0pV5XW5gDr"
      },
      "source": [
        "+ The database is assumed large enough that the probability distribution obtained represent well and only those data. In other words, if new sample can be generated from this distribution, they should look like the other elements of the database. In the case of the MNIST database, if new 28x28 matrices may be generated from the distribution $p_{data}$, then they should still represent hand-written numbers."
      ]
    },
    {
      "cell_type": "markdown",
      "metadata": {
        "id": "UpiyABtm5gDs"
      },
      "source": [
        "## Example: MNIST\n",
        "\n",
        "We'll use the MNIST dataset for the exercise today. We'll download this dataset and make batching data loaders."
      ]
    },
    {
      "cell_type": "code",
      "execution_count": 3,
      "metadata": {
        "colab": {
          "base_uri": "https://localhost:8080/",
          "height": 423,
          "referenced_widgets": [
            "52c9d995d7a54d7887328623959ea410",
            "933b8bc5d8cd479fbbb522e77c138776",
            "96175c722eb54188befc25ff4e75fb10",
            "cf61bec51ed5480b8e742a65fece56fe",
            "da086a55f8c3481ca617295066b54bff",
            "3cc54f8c4a8b4eab96de9f7377d6ac0f",
            "b5aa5e720337438d851ab3f0fe6aa100",
            "e29f2318019640249f9fcc69bdc57871",
            "2215b9c43bb2451aa22777066d7c8754",
            "7c4ed36985e14c4e95bf653881e00b6c",
            "8ce385665bb84572bc2ccdb6fc51bd3b",
            "52b0da826a784796967f7b73708af1e7",
            "ba418141ec914eedb4aeadccb1e56006",
            "acadaa6b71bc44ff8ef5076042d9521e",
            "750e76e80ebc46d5842a44e54ca04d4c",
            "06f0b4efba3c4e36ac94e6de492762fc",
            "43665c6904b446ca8bdef7db955426e9",
            "ef80250b76364a0d9a1b6c4e5241daa9",
            "fc92b02a696c4c04af0c05bc0d285eef",
            "3477a510a9db438f910dc1ff45cb61ad",
            "8f889ed77fc24d58925dcdb6ca19ff7f",
            "ff961167b19842b9aab4b085bc1d90f2",
            "7f0db546e1d640d79a34d3ba17b6a3fb",
            "2bfc02e5d2194d82907bb3fa2aed8cfe",
            "bd180435e81344968ea744528fb8ba72",
            "d900911b92c64d27b9dfd1e49ca7a8fa",
            "ffb932cab2b341fea397b02a99bf6094",
            "236bde7b1de04eb0bba854e3590db0d4",
            "d3ad9766e11d4f40b8e6865fc3112fc7",
            "6a69dfbb8e6249539423c0ebac6d6c2e",
            "46317112e33b4512a3b0b22d5b6ad8e6",
            "a501b3c1fbc148cfb4dce2e0b67681b3",
            "705b7690d6d8486abfbc4065b89a5a29",
            "3d71b6c7da134b19aa1dbd282ddf50ea",
            "25faa3f4598e494d9e60016b6e874345",
            "c9079444c8d64c58a8f08e787aa5feb4",
            "6f0dc7d392474eeaa891e500b2b53a5d",
            "387229f3009d4494b5689d396c9385e7",
            "65e06a48081747be8cc4d3c85d2219f0",
            "3028eb02b13f483b9752d3eb86b17ce0",
            "60ce5154478f41f39e11320661c385db",
            "e52bd72ed27f4f68ac30bd7e0152579d",
            "e75e33db60ee409ab4c03b6cc9c3493b",
            "2263a2a6c5be4df2ab8f8b2156768b7b"
          ]
        },
        "id": "7ga8Vr4U5gDt",
        "outputId": "98ddd70d-d453-46df-ef9e-d6d7bbd637cc"
      },
      "outputs": [
        {
          "output_type": "stream",
          "name": "stdout",
          "text": [
            "Downloading http://yann.lecun.com/exdb/mnist/train-images-idx3-ubyte.gz\n",
            "Downloading http://yann.lecun.com/exdb/mnist/train-images-idx3-ubyte.gz to ../data/MNIST/raw/train-images-idx3-ubyte.gz\n"
          ]
        },
        {
          "output_type": "display_data",
          "data": {
            "application/vnd.jupyter.widget-view+json": {
              "model_id": "52c9d995d7a54d7887328623959ea410",
              "version_minor": 0,
              "version_major": 2
            },
            "text/plain": [
              "  0%|          | 0/9912422 [00:00<?, ?it/s]"
            ]
          },
          "metadata": {}
        },
        {
          "output_type": "stream",
          "name": "stdout",
          "text": [
            "Extracting ../data/MNIST/raw/train-images-idx3-ubyte.gz to ../data/MNIST/raw\n",
            "\n",
            "Downloading http://yann.lecun.com/exdb/mnist/train-labels-idx1-ubyte.gz\n",
            "Downloading http://yann.lecun.com/exdb/mnist/train-labels-idx1-ubyte.gz to ../data/MNIST/raw/train-labels-idx1-ubyte.gz\n"
          ]
        },
        {
          "output_type": "display_data",
          "data": {
            "application/vnd.jupyter.widget-view+json": {
              "model_id": "52b0da826a784796967f7b73708af1e7",
              "version_minor": 0,
              "version_major": 2
            },
            "text/plain": [
              "  0%|          | 0/28881 [00:00<?, ?it/s]"
            ]
          },
          "metadata": {}
        },
        {
          "output_type": "stream",
          "name": "stdout",
          "text": [
            "Extracting ../data/MNIST/raw/train-labels-idx1-ubyte.gz to ../data/MNIST/raw\n",
            "\n",
            "Downloading http://yann.lecun.com/exdb/mnist/t10k-images-idx3-ubyte.gz\n",
            "Downloading http://yann.lecun.com/exdb/mnist/t10k-images-idx3-ubyte.gz to ../data/MNIST/raw/t10k-images-idx3-ubyte.gz\n"
          ]
        },
        {
          "output_type": "display_data",
          "data": {
            "application/vnd.jupyter.widget-view+json": {
              "model_id": "7f0db546e1d640d79a34d3ba17b6a3fb",
              "version_minor": 0,
              "version_major": 2
            },
            "text/plain": [
              "  0%|          | 0/1648877 [00:00<?, ?it/s]"
            ]
          },
          "metadata": {}
        },
        {
          "output_type": "stream",
          "name": "stdout",
          "text": [
            "Extracting ../data/MNIST/raw/t10k-images-idx3-ubyte.gz to ../data/MNIST/raw\n",
            "\n",
            "Downloading http://yann.lecun.com/exdb/mnist/t10k-labels-idx1-ubyte.gz\n",
            "Downloading http://yann.lecun.com/exdb/mnist/t10k-labels-idx1-ubyte.gz to ../data/MNIST/raw/t10k-labels-idx1-ubyte.gz\n"
          ]
        },
        {
          "output_type": "display_data",
          "data": {
            "application/vnd.jupyter.widget-view+json": {
              "model_id": "3d71b6c7da134b19aa1dbd282ddf50ea",
              "version_minor": 0,
              "version_major": 2
            },
            "text/plain": [
              "  0%|          | 0/4542 [00:00<?, ?it/s]"
            ]
          },
          "metadata": {}
        },
        {
          "output_type": "stream",
          "name": "stdout",
          "text": [
            "Extracting ../data/MNIST/raw/t10k-labels-idx1-ubyte.gz to ../data/MNIST/raw\n",
            "\n"
          ]
        }
      ],
      "source": [
        "# set batch_size\n",
        "batch_size = 128\n",
        "\n",
        "# the data, shuffled and split between train and test sets\n",
        "# we normalize data to have values between -1 and 1\n",
        "transform = transforms.Compose([\n",
        "        transforms.ToTensor(),\n",
        "        transforms.Normalize(mean=[0.5], std=[0.5]) ])\n",
        "\n",
        "train_dataset = torchvision.datasets.MNIST(root='../data/', train=True, download=True, transform=transform)\n",
        "train_loader = torch.utils.data.DataLoader(train_dataset, batch_size=batch_size, shuffle=True)\n",
        "train_iterator = iter(train_loader)"
      ]
    },
    {
      "cell_type": "markdown",
      "metadata": {
        "id": "BQUJokgp5gDv"
      },
      "source": [
        "As a reminder, let's look at some example digits from the MNIST set."
      ]
    },
    {
      "cell_type": "code",
      "execution_count": 4,
      "metadata": {
        "scrolled": true,
        "colab": {
          "base_uri": "https://localhost:8080/",
          "height": 361
        },
        "id": "eH1armTD5gDv",
        "outputId": "ad1ef49d-bbdc-4ea1-ef26-b3d604ab55c6"
      },
      "outputs": [
        {
          "output_type": "display_data",
          "data": {
            "image/png": "[encoded data removed]",
            "text/plain": [
              "<Figure size 432x432 with 16 Axes>"
            ]
          },
          "metadata": {
            "needs_background": "light"
          }
        }
      ],
      "source": [
        "num_test_samples = 16 # number of digits to plot\n",
        "\n",
        "# create figure for plotting\n",
        "size_figure_grid = int(math.sqrt(num_test_samples))\n",
        "fig, ax = plt.subplots(size_figure_grid, size_figure_grid, figsize=(6, 6))\n",
        "for i, j in itertools.product(range(size_figure_grid), range(size_figure_grid)):\n",
        "    ax[i,j].get_xaxis().set_visible(False)\n",
        "    ax[i,j].get_yaxis().set_visible(False)\n",
        "\n",
        "# load a batch of training data\n",
        "images, labels = next(train_iterator)\n",
        "\n",
        "# show a subpart of it\n",
        "for k in range(num_test_samples):\n",
        "    i = k//4\n",
        "    j = k%4\n",
        "    ax[i,j].cla()\n",
        "    ax[i,j].imshow(images[k,:].data.cpu().numpy().reshape(28, 28), cmap='Greys')\n",
        "    display.clear_output(wait=True)"
      ]
    },
    {
      "cell_type": "markdown",
      "metadata": {
        "id": "dec1lwbz5gDw"
      },
      "source": [
        "The task for today is to learn to generate new images which look like these."
      ]
    },
    {
      "cell_type": "markdown",
      "metadata": {
        "id": "cduLc4FO5gDw"
      },
      "source": [
        "## The Generator\n",
        "\n",
        "<img src=\"img/generator_schema.png\">\n",
        "\n",
        "One network - called the <b>Generator</b>- is built and is meant to transform vectors following a random probability distribution $p_z$ - called noise probability distribution - in vectors following natural data distribution $p_{data}$."
      ]
    },
    {
      "cell_type": "markdown",
      "metadata": {
        "id": "8A7JQub65gDx"
      },
      "source": [
        "To follow the MNIST example, the generator will take as input vectors of real numbers following a gaussian distribution, $p_z$ and should output a 28x28 matrix whose values follow the data probability distribution followed by MNIST images, $p_{data}$. Hence, that network role would be to transform a gaussian distribution into a probability distribution represented by the data."
      ]
    },
    {
      "cell_type": "markdown",
      "metadata": {
        "id": "fcpJSkUo5gDx"
      },
      "source": [
        "## The Discriminator\n",
        "\n",
        "<img src=\"img/discriminator_schema.png\">\n",
        "\n",
        "To train the generator, we use a second network called the **Discriminator**. The role of this network is to learn the data distribution $p_{data}$ in order to classify if a sample comes from this distribution or not."
      ]
    },
    {
      "cell_type": "markdown",
      "metadata": {
        "id": "H7XWvIV15gDy"
      },
      "source": [
        "The <b>Discriminator</b>'s goal is to differentiate between samples following the real data probability distribution and samples generated by the generator. It takes as an input either a real sample or a sample output from the generator and is trained to return the likelihood of the image being real. In the maximum, the discriminator is expected to return 1 when it is given an image from the training dataset and to return 0 when it is given an image generated by the generator."
      ]
    },
    {
      "cell_type": "markdown",
      "metadata": {
        "id": "dajKl9pV5gDy"
      },
      "source": [
        "The **adversarial** aspect of the networks comes from the training methods. The generator is trained to fool the discriminator : ie to make it return 1 for generated samples. The networks play a 2-player minimax game. At the equilibrium, the discriminator should always return 0.5 : it cannot make the difference between real and fake samples anymore, hence the fake samples follow the same probability distribution than real ones. The generator is trained towards this result and ends up producing realistic results."
      ]
    },
    {
      "cell_type": "markdown",
      "metadata": {
        "id": "c6KKVU-R5gDz"
      },
      "source": [
        "To get a better understanding, let us call G the generator, D the discriminator, $z$ a variable following the noise probability distribution $p_z$ and $x$ a variable following the data probability distribution $p_{data}$. Let us call as well $p_g$ the probability distribution followed by G’s outputs : $G(z)$. Then the generator's goal is to fool the discriminator returning real-like samples which means equalizing $p_g \\approx p_{data}$."
      ]
    },
    {
      "cell_type": "markdown",
      "metadata": {
        "id": "j4Vy2rnj5gDz"
      },
      "source": [
        "The discriminator is trained to return $1$ for real data : $D(x) = 1$ and $0$ for fake data $D(G(z)) = 0$ while the generator is trained to make the discriminator returning $1$ as well for fake data. Hence, D and G play the two-player minimax game with value function $V(G, D)$:\n",
        "\n",
        "$$\\min_{G} \\max_{D} V(D,G)  = \\mathbb{E}_{x\\sim p_{data}}[log D(x)] + \\mathbb{E}_{z\\sim p_{z}}[log(1 - D(G(z)))]$$"
      ]
    },
    {
      "cell_type": "markdown",
      "metadata": {
        "id": "g5rgdPe55gD0"
      },
      "source": [
        "The implementation of this game results in the following algorithm, described in the original GAN paper:\n",
        "\n",
        "<img src=\"img/gan_algo.png\" style=\"max-width:100%; width: 70%\">"
      ]
    },
    {
      "cell_type": "markdown",
      "metadata": {
        "id": "GaPwU1Yo5gD0"
      },
      "source": [
        "# GANs in Practice\n"
      ]
    },
    {
      "cell_type": "markdown",
      "metadata": {
        "id": "IPOVdsBj5gD0"
      },
      "source": [
        "### Build the neural networks\n",
        "\n",
        "We now build both the networks. In this notebook, as in the original paper, both will be simple fully connected network.\n",
        "\n",
        "<img src=\"img/schema_gan_mnist.png\" style=\"max-width:100%; width: 70%\">\n"
      ]
    },
    {
      "cell_type": "markdown",
      "metadata": {
        "id": "AXL_nS0b5gD1"
      },
      "source": [
        "We'll start with a simple **Discriminator** model of feed-forward LeakyReLU units. We'll also add Dropout at each layer."
      ]
    },
    {
      "cell_type": "code",
      "execution_count": 5,
      "metadata": {
        "id": "AUvcmhJT5gD1"
      },
      "outputs": [],
      "source": [
        "class Discriminator(nn.Module):\n",
        "    def __init__(self):\n",
        "        super().__init__()\n",
        "        self.model = nn.Sequential(\n",
        "            nn.Linear(784, 1024),\n",
        "            nn.LeakyReLU(0.2, inplace=True),\n",
        "            nn.Dropout(0.3),\n",
        "            nn.Linear(1024, 512),\n",
        "            nn.LeakyReLU(0.2, inplace=True),\n",
        "            nn.Dropout(0.3),\n",
        "            nn.Linear(512, 256),\n",
        "            nn.LeakyReLU(0.2, inplace=True),\n",
        "            nn.Dropout(0.3),\n",
        "            nn.Linear(256, 1), # output size = 1 corresponds to ONE probability value\n",
        "            nn.Sigmoid()\n",
        "        )\n",
        "    \n",
        "    def forward(self, x):\n",
        "        out = self.model(x.view(x.size(0), 784))\n",
        "        out = out.view(out.size(0), -1)\n",
        "        return out"
      ]
    },
    {
      "cell_type": "markdown",
      "metadata": {
        "id": "kr-B-jRZ5gD2"
      },
      "source": [
        "<div class=\"alert alert-success\">\n",
        "    <h2>Exercise 1</h2>\n",
        "\n",
        "Write the generator code. It should take a vector of size 100 as input and output a flattened vector of 784 pixels. You can use feed-forward layers, similar to the Discriminator. What activation function should the final layer have? Consider that it is supposed to output black and white pixel values.\n",
        "    \n",
        "</div>"
      ]
    },
    {
      "cell_type": "code",
      "source": [
        "# Ex1\n",
        "class Generator_student(nn.Module):\n",
        "    def __init__(self):\n",
        "        super().__init__()\n",
        "        self.model = nn.Sequential(\n",
        "            nn.Linear(100, 256),\n",
        "            nn.LeakyReLU(0.2, inplace=True),\n",
        "            nn.Dropout(0.3),\n",
        "            nn.Linear(256, 512),\n",
        "            nn.LeakyReLU(0.2, inplace=True),\n",
        "            nn.Dropout(0.3),\n",
        "            nn.Linear(512, 1024),\n",
        "            nn.LeakyReLU(0.2, inplace=True),\n",
        "            nn.Dropout(0.3),\n",
        "            nn.Linear(1024, 784),\n",
        "            nn.Tanh(),\n",
        "        )\n",
        "    \n",
        "    def forward(self, x):\n",
        "        x = x.view(x.size(0), 100)\n",
        "        out = self.model(x)\n",
        "        return out"
      ],
      "metadata": {
        "id": "HeN8pXZc-Jfv"
      },
      "execution_count": 6,
      "outputs": []
    },
    {
      "cell_type": "code",
      "execution_count": 7,
      "metadata": {
        "id": "KLiDfxvK5gD2"
      },
      "outputs": [],
      "source": [
        "#%load solutions/1_generator.py\n",
        "class Generator(nn.Module):\n",
        "    def __init__(self):\n",
        "        super().__init__()\n",
        "        self.model = nn.Sequential(\n",
        "            nn.Linear(100, 256),\n",
        "            nn.LeakyReLU(0.2, inplace=True),\n",
        "            nn.Linear(256, 512),\n",
        "            nn.LeakyReLU(0.2, inplace=True),\n",
        "            nn.Linear(512, 1024),\n",
        "            nn.LeakyReLU(0.2, inplace=True),\n",
        "            nn.Linear(1024, 784),\n",
        "            nn.Tanh()\n",
        "        )\n",
        "    \n",
        "    def forward(self, x):\n",
        "        x = x.view(x.size(0), 100)\n",
        "        out = self.model(x)\n",
        "        return out"
      ]
    },
    {
      "cell_type": "markdown",
      "metadata": {
        "id": "tWRSLv9T5gD2"
      },
      "source": [
        "Once the class are written, we instantiate the networks."
      ]
    },
    {
      "cell_type": "code",
      "execution_count": 29,
      "metadata": {
        "id": "f7cpFTst5gD2"
      },
      "outputs": [],
      "source": [
        "discriminator = Discriminator()\n",
        "generator = Generator()"
      ]
    },
    {
      "cell_type": "code",
      "source": [
        "DEVICE = torch.device(\"cuda:0\" if torch.cuda.is_available() else \"cpu\")\n",
        "discriminator = discriminator.to(DEVICE)\n",
        "generator = generator.to(DEVICE)"
      ],
      "metadata": {
        "id": "LTYwW8KLVbsA"
      },
      "execution_count": 23,
      "outputs": []
    },
    {
      "cell_type": "markdown",
      "metadata": {
        "id": "MvipTf795gD3"
      },
      "source": [
        "Let's load some example data to go through the training steps. First we'll load the images and generate the labels. Note that the label for training the discriminator is not the number drawn in the image; it is simply 1 for all images from the real data set and 0 for all images from the generated set."
      ]
    },
    {
      "cell_type": "code",
      "execution_count": 9,
      "metadata": {
        "id": "_yQpG_b55gD3"
      },
      "outputs": [],
      "source": [
        "images, _ = next(train_iterator)\n",
        "images = Variable(images)\n",
        "real_labels = Variable(torch.ones(images.size(0), 1))"
      ]
    },
    {
      "cell_type": "markdown",
      "metadata": {
        "id": "JCon18cU5gD3"
      },
      "source": [
        "To use the generator, we create $p_z$ following a normal distribution."
      ]
    },
    {
      "cell_type": "code",
      "execution_count": 10,
      "metadata": {
        "id": "5P59GkzT5gD4"
      },
      "outputs": [],
      "source": [
        "# Sample from generator\n",
        "noise = Variable(torch.randn(images.size(0), 100))\n",
        "fake_images = generator(noise)\n",
        "fake_labels = Variable(torch.zeros(images.size(0), 1))"
      ]
    },
    {
      "cell_type": "markdown",
      "metadata": {
        "id": "zmPrdI0g5gD4"
      },
      "source": [
        "Let's see what sort of images our random generator creates."
      ]
    },
    {
      "cell_type": "code",
      "execution_count": 11,
      "metadata": {
        "colab": {
          "base_uri": "https://localhost:8080/",
          "height": 248
        },
        "id": "p4bKjlpR5gD4",
        "outputId": "2f45f47b-ea74-4aed-904a-de684493e181"
      },
      "outputs": [
        {
          "output_type": "display_data",
          "data": {
            "image/png": "[encoded data removed]",
            "text/plain": [
              "<Figure size 288x288 with 4 Axes>"
            ]
          },
          "metadata": {
            "needs_background": "light"
          }
        }
      ],
      "source": [
        "plt.figure(figsize=(4,4))\n",
        "for i in range(4):\n",
        "    plt.subplot(2, 2, i+1)\n",
        "    plt.imshow(fake_images[i,:].data.cpu().numpy().reshape(28, 28), cmap='Greys')\n",
        "    plt.axis('off')"
      ]
    },
    {
      "cell_type": "markdown",
      "metadata": {
        "id": "I6k4JI9R5gD4"
      },
      "source": [
        "As could be expected, the random generator gives random noise images. We shouldn't expect much of a difference from the discriminator, given that its random. However, since the MNIST distribution $x$ and generated distribution $G(x)$ are so clearly different, even a random discriminitor should have a different output given these two inputs."
      ]
    },
    {
      "cell_type": "code",
      "execution_count": 12,
      "metadata": {
        "colab": {
          "base_uri": "https://localhost:8080/"
        },
        "id": "Bfe9pYNO5gD5",
        "outputId": "49bfba94-f05f-4f17-f4f3-7889f26f9d06"
      },
      "outputs": [
        {
          "output_type": "execute_result",
          "data": {
            "text/plain": [
              "(array([[0.4954598 ],\n",
              "        [0.4999298 ],\n",
              "        [0.48633108],\n",
              "        [0.48084438],\n",
              "        [0.48905545]], dtype=float32), array([[0.48887864],\n",
              "        [0.4925586 ],\n",
              "        [0.49069813],\n",
              "        [0.49383575],\n",
              "        [0.49068847]], dtype=float32))"
            ]
          },
          "metadata": {},
          "execution_count": 12
        }
      ],
      "source": [
        "d_real = discriminator(images) # discriminator output (pred)\n",
        "d_fake = discriminator(fake_images)\n",
        "d_real.detach().numpy()[:5], d_fake.detach().numpy()[:5]"
      ]
    },
    {
      "cell_type": "markdown",
      "metadata": {
        "id": "_VZ67H7S5gD5"
      },
      "source": [
        "We'll now train the discriminator and generator."
      ]
    },
    {
      "cell_type": "markdown",
      "metadata": {
        "id": "rrFgjxY45gD5"
      },
      "source": [
        "## GAN Training"
      ]
    },
    {
      "cell_type": "markdown",
      "metadata": {
        "id": "K7eG3H6i5gD5"
      },
      "source": [
        "The loss function we'll use in training is the [Binary Cross-Entropy loss](https://pytorch.org/docs/stable/_modules/torch/nn/modules/loss.html#BCELoss). Looking at the PyTorch documentation, we can see that, by default, the `reduction` operator for $L$ is set to ``'mean'``, making the loss function:\n",
        "\n",
        "$\\ell(x, y) = L = \\frac{1}{N}\\sum\\{l_1,\\dots,l_N\\}$\n",
        "\n",
        "$l_n = - w_n \\left[ y_n \\cdot \\log x_n + (1 - y_n) \\cdot \\log (1 - x_n) \\right]$"
      ]
    },
    {
      "cell_type": "code",
      "execution_count": 13,
      "metadata": {
        "colab": {
          "base_uri": "https://localhost:8080/"
        },
        "id": "_lfX6ZH05gD5",
        "outputId": "d60e3b8c-764d-4121-a0c6-eff43b5be6d1"
      },
      "outputs": [
        {
          "output_type": "execute_result",
          "data": {
            "text/plain": [
              "(tensor(0.7012, grad_fn=<BinaryCrossEntropyBackward0>),\n",
              " tensor(0.6775, grad_fn=<BinaryCrossEntropyBackward0>))"
            ]
          },
          "metadata": {},
          "execution_count": 13
        }
      ],
      "source": [
        "criterion = nn.BCELoss()\n",
        "criterion(d_real, real_labels), criterion(d_fake, fake_labels)"
      ]
    },
    {
      "cell_type": "markdown",
      "metadata": {
        "id": "t3qK5n7H5gD6"
      },
      "source": [
        "This corresponds to the loss function defined above for the GAN:\n",
        "\n",
        "$$\\min_{G} \\max_{D} V(D,G)  = \\mathbb{E}_{x\\sim p_{data}}[log D(x)] + \\mathbb{E}_{z\\sim p_{z}}[log(1 - D(G(z)))]$$\n",
        "\n",
        "where for real data, $y_n$ is 1 and for generated data, $y_n$ is 0. We want the discriminator to predict 1 if the data is real and 0 if it is generated. This corresponds to the variables `real_labels` and `fake_labels`."
      ]
    },
    {
      "cell_type": "markdown",
      "metadata": {
        "id": "05-a71Zf5gD6"
      },
      "source": [
        "We'll also define the optimizers, simply using Adam for both the discriminiator and generator."
      ]
    },
    {
      "cell_type": "code",
      "execution_count": 30,
      "metadata": {
        "id": "2ZMx8dag5gD6"
      },
      "outputs": [],
      "source": [
        "lr = 0.0002\n",
        "d_optimizer = torch.optim.Adam(discriminator.parameters(), lr=lr, betas=(0.5, 0.999))\n",
        "g_optimizer = torch.optim.Adam(generator.parameters(), lr=lr, betas=(0.5, 0.999))"
      ]
    },
    {
      "cell_type": "markdown",
      "metadata": {
        "id": "uIJE2ssB5gD7"
      },
      "source": [
        "<div class=\"alert alert-success\">\n",
        "    <h2>Exercise 2.</h2>\n",
        "\n",
        "Write a training step for the discriminiator. The function definition is below. Fill in this missing components.\n",
        "</div>"
      ]
    },
    {
      "cell_type": "code",
      "execution_count": 31,
      "metadata": {
        "id": "93Arj6XE5gD7"
      },
      "outputs": [],
      "source": [
        "def train_discriminator(discriminator, images, real_labels, fake_images, fake_labels):\n",
        "    \"\"\"\n",
        "    Arguments:\n",
        "        discriminator: discriminator model object\n",
        "        images: a batch of data from the dataset\n",
        "        real_labels: a vector of ones, size of images\n",
        "        fake_images: a batch of images generated by the generator\n",
        "        fake_labels: a vector of zeros, size of fake_images\n",
        "    \n",
        "    Returns:\n",
        "        d_loss: discriminator loss\n",
        "        real_output: output of the discriminator on the real images\n",
        "        fake_output: output of the discrimiator on the fake images\n",
        "    \"\"\"    \n",
        "    discriminator.zero_grad()\n",
        "    # TODO: complete the code\n",
        "    real_output = discriminator(images)\n",
        "    real_loss = criterion(real_output,real_labels)\n",
        "    fake_output = discriminator(fake_images)\n",
        "    fake_loss = criterion(fake_output,fake_labels)\n",
        "    d_loss = real_loss + fake_loss\n",
        "    d_loss.backward()\n",
        "    d_optimizer.step()\n",
        "    return d_loss, real_output, fake_output"
      ]
    },
    {
      "cell_type": "code",
      "execution_count": 32,
      "metadata": {
        "id": "Z8J728515gD8"
      },
      "outputs": [],
      "source": [
        "# %load solutions/2_train_d.py\n",
        "def train_discriminator(discriminator, images, real_labels, fake_images, fake_labels):\n",
        "    \"\"\"\n",
        "    Arguments:\n",
        "        discriminator: discriminator model object\n",
        "        images: a batch of data from the dataset\n",
        "        real_labels: a vector of ones, size of images\n",
        "        fake_images: a batch of images generated by the generator\n",
        "        fake_labels: a vector of zeros, size of fake_images\n",
        "\n",
        "    Returns:\n",
        "        d_loss: discriminator loss\n",
        "        real_output: output of the discriminator on the real images\n",
        "        fake_output: output of the discrimiator on the fake images\n",
        "    \"\"\"\n",
        "    discriminator.zero_grad()\n",
        "    outputs = discriminator(images)\n",
        "    real_loss = criterion(outputs, real_labels)\n",
        "    real_output = outputs\n",
        "\n",
        "    outputs = discriminator(fake_images)\n",
        "    fake_loss = criterion(outputs, fake_labels)\n",
        "    fake_output = outputs\n",
        "\n",
        "    d_loss = real_loss + fake_loss\n",
        "    d_loss.backward()\n",
        "    d_optimizer.step()\n",
        "    return d_loss, real_output, fake_output\n"
      ]
    },
    {
      "cell_type": "markdown",
      "metadata": {
        "id": "P6wbSn745gD8"
      },
      "source": [
        "The second part of the min-max equation is the generator.\n",
        "\n",
        "$$\\min_{G} \\max_{D} V(D,G)  = \\mathbb{E}_{x\\sim p_{data}}[log D(x)] + \\mathbb{E}_{z\\sim p_{z}}[log(1 - D(G(z)))]$$\n",
        "\n",
        "Considering a static discriminator D, we have \n",
        "\n",
        "$$\\min_{G} V(D,G)  = \\mathbb{E}_{x\\sim p_{data}}[log D(x)] + \\mathbb{E}_{z\\sim p_{z}}[log(1 - D(G(z)))]$$\n",
        "\n",
        "However, the generator doesn't influence $\\mathbb{E}_{x\\sim p_{data}}[log D(x)]$. The generator's loss is therefore only\n",
        "\n",
        "$$\\min_{G} V(D,G)  = \\mathbb{E}_{z\\sim p_{z}}[log(1 - D(G(z)))]$$"
      ]
    },
    {
      "cell_type": "markdown",
      "metadata": {
        "id": "lfXaS0Yc5gD8"
      },
      "source": [
        "Note that other loss metrics have been proposed for GANs to encourage more stable training. For example, at the beginning of training, the discriminator's job is easy and so it might train much faster than the generator, halting the adversarial training. In order to increase early gradients, it is proposed to maximize $log(D(G(z)))$ instead of minimizing $log(1-D(G(z)))$ for the generator."
      ]
    },
    {
      "cell_type": "markdown",
      "metadata": {
        "id": "ZZheqKCs5gD9"
      },
      "source": [
        "Another loss function is using in the [Wasserstein GAN](https://arxiv.org/abs/1701.07875), which transforms the discriminator into a critic, outputting a real value which should be larger for real inputs than fake ones. The discriminator loss is then simply $D(x) - D(G(z))$ and the generator loss is $D(G(z))$."
      ]
    },
    {
      "cell_type": "markdown",
      "metadata": {
        "id": "1w-1nmR95gD9"
      },
      "source": [
        "<div class=\"alert alert-success\">\n",
        "    <h2>Exercise 3.</h2>\n",
        "\n",
        "Write a training step for the generator using the cross entropy loss. The function definition is below. Fill in this missing components.\n",
        "</div>"
      ]
    },
    {
      "cell_type": "code",
      "execution_count": 33,
      "metadata": {
        "id": "ndzQ4aML5gD-"
      },
      "outputs": [],
      "source": [
        "def train_generator(generator, discriminator_outputs, real_labels):\n",
        "    \"\"\"\n",
        "    Arguments:\n",
        "        generator: generator model object\n",
        "        discriminator_outputs: output of the discriminator on a set of values z, D(G(z))\n",
        "        real_labels: a vector of ones, size of discriminator_outputs\n",
        "        \n",
        "    Returns:\n",
        "        g_loss: generator loss\n",
        "    \"\"\"\n",
        "    generator.zero_grad()\n",
        "    g_loss = criterion(discriminator_outputs,real_labels)\n",
        "    g_loss.backward()\n",
        "    g_optimizer.step()\n",
        "    return g_loss"
      ]
    },
    {
      "cell_type": "code",
      "execution_count": 18,
      "metadata": {
        "id": "GEv4s2f45gD-"
      },
      "outputs": [],
      "source": [
        "# %load solutions/3_train_g.py"
      ]
    },
    {
      "cell_type": "markdown",
      "metadata": {
        "id": "ivgiOQsq5gD-"
      },
      "source": [
        "# Model training\n",
        "\n",
        "We'll now use our training functions in an iterative process over multiple epochs."
      ]
    },
    {
      "cell_type": "markdown",
      "metadata": {
        "id": "f_cmXswb5gD-"
      },
      "source": [
        "Due to the adversarial nature of GAN training, the different losses often oscillate over training instead of converging over time as we see in other deep learning training methods. As such, it is advised to frequently save results during training."
      ]
    },
    {
      "cell_type": "code",
      "execution_count": 19,
      "metadata": {
        "id": "EbpGTRB35gD_"
      },
      "outputs": [],
      "source": [
        "# Prepare folder to store results\n",
        "if not os.path.exists('results'):\n",
        "    os.makedirs('results')\n",
        "    \n",
        "# Prepare folder to store models\n",
        "if not os.path.exists('models'):\n",
        "    os.makedirs('models')"
      ]
    },
    {
      "cell_type": "code",
      "execution_count": 20,
      "metadata": {
        "id": "myuyBHJD5gD_"
      },
      "outputs": [],
      "source": [
        "# Draw samples from the input distribution to inspect the generation on training \n",
        "num_test_samples = 16\n",
        "test_noise = Variable(torch.randn(num_test_samples, 100))\n",
        "# Set number of epochs and initialize figure counter\n",
        "num_epochs = 10\n",
        "num_batches = len(train_loader)\n",
        "# Set counter\n",
        "num_fig = 0"
      ]
    },
    {
      "cell_type": "code",
      "execution_count": 34,
      "metadata": {
        "colab": {
          "base_uri": "https://localhost:8080/",
          "height": 722
        },
        "id": "iN1XdLN25gD_",
        "outputId": "40bef2f7-1272-44dc-b3a5-0184ef8790d8"
      },
      "outputs": [
        {
          "output_type": "display_data",
          "data": {
            "image/png": "[encoded data removed]",
            "text/plain": [
              "<Figure size 432x432 with 16 Axes>"
            ]
          },
          "metadata": {}
        },
        {
          "output_type": "stream",
          "name": "stdout",
          "text": [
            "Epoch [10/10], Step[468/469], d_loss: 0.7915, g_loss: 1.5768, D(x): 0.76, D(G(z)): 0.33, time 14.47 min\n"
          ]
        },
        {
          "output_type": "display_data",
          "data": {
            "image/png": "[encoded data removed]",
            "text/plain": [
              "<Figure size 432x432 with 16 Axes>"
            ]
          },
          "metadata": {
            "needs_background": "light"
          }
        }
      ],
      "source": [
        "# Create figure for plotting\n",
        "size_figure_grid = int(math.sqrt(num_test_samples))\n",
        "fig, ax = plt.subplots(size_figure_grid, size_figure_grid, figsize=(6, 6))\n",
        "for i, j in itertools.product(range(size_figure_grid), range(size_figure_grid)):\n",
        "    ax[i,j].get_xaxis().set_visible(False)\n",
        "    ax[i,j].get_yaxis().set_visible(False)\n",
        "\n",
        "# Start training\n",
        "t0 = time.time()\n",
        "for epoch in range(num_epochs):\n",
        "    for n, (images, _) in enumerate(train_loader):\n",
        "\n",
        "        # Convert data to suitable format\n",
        "        images = Variable(images)\n",
        "        real_labels = Variable(torch.ones(images.size(0), 1))\n",
        "\n",
        "        # Sample from generator\n",
        "        noise = Variable(torch.randn(images.size(0), 100))\n",
        "        fake_images = generator(noise)\n",
        "        fake_labels = Variable(torch.zeros(images.size(0), 1))\n",
        "\n",
        "        # Train the discriminator\n",
        "        d_loss, real_score, fake_score = train_discriminator(\n",
        "            discriminator, images, real_labels, fake_images, fake_labels)\n",
        "\n",
        "        # Sample again from the generator and get output from discriminator\n",
        "        noise = Variable(torch.randn(images.size(0), 100))\n",
        "        fake_images = generator(noise)\n",
        "        outputs = discriminator(fake_images)\n",
        "\n",
        "        # Train the generator\n",
        "        g_loss = train_generator(generator, outputs, real_labels)\n",
        "\n",
        "        # Every half epoch generates pictures with to generator to monitor training\n",
        "        if (n+1) % int(num_batches/2) == 0:\n",
        "            # generate pictures\n",
        "            test_images = generator(test_noise)\n",
        "            # plot them\n",
        "            for k in range(num_test_samples):\n",
        "                i = k//4\n",
        "                j = k%4\n",
        "                ax[i,j].cla()\n",
        "                ax[i,j].imshow(test_images[k,:].data.cpu().numpy().reshape(28, 28),\n",
        "                               cmap='Greys')\n",
        "            display.clear_output(wait=True)\n",
        "            display.display(plt.gcf())\n",
        "\n",
        "            # save the picture\n",
        "            plt.savefig('results/mnist-gan-%03d.png'%num_fig)\n",
        "            num_fig += 1\n",
        "            # print log\n",
        "            print('Epoch [%d/%d], Step[%d/%d], d_loss: %.4f, g_loss: %.4f, '\n",
        "                  'D(x): %.2f, D(G(z)): %.2f, time %.2f min'\n",
        "                  % (epoch + 1, num_epochs, n+1, num_batches,\n",
        "                     d_loss.detach().numpy(), g_loss.detach().numpy(),\n",
        "                     real_score.detach().numpy().mean(),\n",
        "                     fake_score.detach().numpy().mean(), (time.time()-t0)/60))\n",
        "\n",
        "        # at the end of n epochs, save the models\n",
        "        if epoch % 2 == 0:\n",
        "            torch.save(generator.state_dict(),\n",
        "                    os.path.join('models', 'generator.pkl'))\n",
        "            torch.save(discriminator.state_dict(),\n",
        "                    os.path.join('models', 'discriminator.pkl'))\n"
      ]
    },
    {
      "cell_type": "code",
      "execution_count": null,
      "metadata": {
        "id": "gsJKhg5a5gEA"
      },
      "outputs": [],
      "source": [
        ""
      ]
    }
  ],
  "metadata": {
    "@webio": {
      "lastCommId": null,
      "lastKernelId": null
    },
    "celltoolbar": "Slideshow",
    "kernelspec": {
      "display_name": "Python 3",
      "language": "python",
      "name": "python3"
    },
    "language_info": {
      "codemirror_mode": {
        "name": "ipython",
        "version": 3
      },
      "file_extension": ".py",
      "mimetype": "text/x-python",
      "name": "python",
      "nbconvert_exporter": "python",
      "pygments_lexer": "ipython3",
      "version": "3.8.6"
    },
    "colab": {
      "name": "Generative Adversarial Networks.ipynb",
      "provenance": [],
      "collapsed_sections": []
    },
    "accelerator": "GPU",
    "widgets": {
      "application/vnd.jupyter.widget-state+json": {
        "52c9d995d7a54d7887328623959ea410": {
          "model_module": "@jupyter-widgets/controls",
          "model_name": "HBoxModel",
          "model_module_version": "1.5.0",
          "state": {
            "_view_name": "HBoxView",
            "_dom_classes": [],
            "_model_name": "HBoxModel",
            "_view_module": "@jupyter-widgets/controls",
            "_model_module_version": "1.5.0",
            "_view_count": null,
            "_view_module_version": "1.5.0",
            "box_style": "",
            "layout": "IPY_MODEL_933b8bc5d8cd479fbbb522e77c138776",
            "_model_module": "@jupyter-widgets/controls",
            "children": [
              "IPY_MODEL_96175c722eb54188befc25ff4e75fb10",
              "IPY_MODEL_cf61bec51ed5480b8e742a65fece56fe",
              "IPY_MODEL_da086a55f8c3481ca617295066b54bff"
            ]
          }
        },
        "933b8bc5d8cd479fbbb522e77c138776": {
          "model_module": "@jupyter-widgets/base",
          "model_name": "LayoutModel",
          "model_module_version": "1.2.0",
          "state": {
            "_view_name": "LayoutView",
            "grid_template_rows": null,
            "right": null,
            "justify_content": null,
            "_view_module": "@jupyter-widgets/base",
            "overflow": null,
            "_model_module_version": "1.2.0",
            "_view_count": null,
            "flex_flow": null,
            "width": null,
            "min_width": null,
            "border": null,
            "align_items": null,
            "bottom": null,
            "_model_module": "@jupyter-widgets/base",
            "top": null,
            "grid_column": null,
            "overflow_y": null,
            "overflow_x": null,
            "grid_auto_flow": null,
            "grid_area": null,
            "grid_template_columns": null,
            "flex": null,
            "_model_name": "LayoutModel",
            "justify_items": null,
            "grid_row": null,
            "max_height": null,
            "align_content": null,
            "visibility": null,
            "align_self": null,
            "height": null,
            "min_height": null,
            "padding": null,
            "grid_auto_rows": null,
            "grid_gap": null,
            "max_width": null,
            "order": null,
            "_view_module_version": "1.2.0",
            "grid_template_areas": null,
            "object_position": null,
            "object_fit": null,
            "grid_auto_columns": null,
            "margin": null,
            "display": null,
            "left": null
          }
        },
        "96175c722eb54188befc25ff4e75fb10": {
          "model_module": "@jupyter-widgets/controls",
          "model_name": "HTMLModel",
          "model_module_version": "1.5.0",
          "state": {
            "_view_name": "HTMLView",
            "style": "IPY_MODEL_3cc54f8c4a8b4eab96de9f7377d6ac0f",
            "_dom_classes": [],
            "description": "",
            "_model_name": "HTMLModel",
            "placeholder": "​",
            "_view_module": "@jupyter-widgets/controls",
            "_model_module_version": "1.5.0",
            "value": "",
            "_view_count": null,
            "_view_module_version": "1.5.0",
            "description_tooltip": null,
            "_model_module": "@jupyter-widgets/controls",
            "layout": "IPY_MODEL_b5aa5e720337438d851ab3f0fe6aa100"
          }
        },
        "cf61bec51ed5480b8e742a65fece56fe": {
          "model_module": "@jupyter-widgets/controls",
          "model_name": "FloatProgressModel",
          "model_module_version": "1.5.0",
          "state": {
            "_view_name": "ProgressView",
            "style": "IPY_MODEL_e29f2318019640249f9fcc69bdc57871",
            "_dom_classes": [],
            "description": "",
            "_model_name": "FloatProgressModel",
            "bar_style": "success",
            "max": 9912422,
            "_view_module": "@jupyter-widgets/controls",
            "_model_module_version": "1.5.0",
            "value": 9912422,
            "_view_count": null,
            "_view_module_version": "1.5.0",
            "orientation": "horizontal",
            "min": 0,
            "description_tooltip": null,
            "_model_module": "@jupyter-widgets/controls",
            "layout": "IPY_MODEL_2215b9c43bb2451aa22777066d7c8754"
          }
        },
        "da086a55f8c3481ca617295066b54bff": {
          "model_module": "@jupyter-widgets/controls",
          "model_name": "HTMLModel",
          "model_module_version": "1.5.0",
          "state": {
            "_view_name": "HTMLView",
            "style": "IPY_MODEL_7c4ed36985e14c4e95bf653881e00b6c",
            "_dom_classes": [],
            "description": "",
            "_model_name": "HTMLModel",
            "placeholder": "​",
            "_view_module": "@jupyter-widgets/controls",
            "_model_module_version": "1.5.0",
            "value": " 9913344/? [00:00&lt;00:00, 50831768.09it/s]",
            "_view_count": null,
            "_view_module_version": "1.5.0",
            "description_tooltip": null,
            "_model_module": "@jupyter-widgets/controls",
            "layout": "IPY_MODEL_8ce385665bb84572bc2ccdb6fc51bd3b"
          }
        },
        "3cc54f8c4a8b4eab96de9f7377d6ac0f": {
          "model_module": "@jupyter-widgets/controls",
          "model_name": "DescriptionStyleModel",
          "model_module_version": "1.5.0",
          "state": {
            "_view_name": "StyleView",
            "_model_name": "DescriptionStyleModel",
            "description_width": "",
            "_view_module": "@jupyter-widgets/base",
            "_model_module_version": "1.5.0",
            "_view_count": null,
            "_view_module_version": "1.2.0",
            "_model_module": "@jupyter-widgets/controls"
          }
        },
        "b5aa5e720337438d851ab3f0fe6aa100": {
          "model_module": "@jupyter-widgets/base",
          "model_name": "LayoutModel",
          "model_module_version": "1.2.0",
          "state": {
            "_view_name": "LayoutView",
            "grid_template_rows": null,
            "right": null,
            "justify_content": null,
            "_view_module": "@jupyter-widgets/base",
            "overflow": null,
            "_model_module_version": "1.2.0",
            "_view_count": null,
            "flex_flow": null,
            "width": null,
            "min_width": null,
            "border": null,
            "align_items": null,
            "bottom": null,
            "_model_module": "@jupyter-widgets/base",
            "top": null,
            "grid_column": null,
            "overflow_y": null,
            "overflow_x": null,
            "grid_auto_flow": null,
            "grid_area": null,
            "grid_template_columns": null,
            "flex": null,
            "_model_name": "LayoutModel",
            "justify_items": null,
            "grid_row": null,
            "max_height": null,
            "align_content": null,
            "visibility": null,
            "align_self": null,
            "height": null,
            "min_height": null,
            "padding": null,
            "grid_auto_rows": null,
            "grid_gap": null,
            "max_width": null,
            "order": null,
            "_view_module_version": "1.2.0",
            "grid_template_areas": null,
            "object_position": null,
            "object_fit": null,
            "grid_auto_columns": null,
            "margin": null,
            "display": null,
            "left": null
          }
        },
        "e29f2318019640249f9fcc69bdc57871": {
          "model_module": "@jupyter-widgets/controls",
          "model_name": "ProgressStyleModel",
          "model_module_version": "1.5.0",
          "state": {
            "_view_name": "StyleView",
            "_model_name": "ProgressStyleModel",
            "description_width": "",
            "_view_module": "@jupyter-widgets/base",
            "_model_module_version": "1.5.0",
            "_view_count": null,
            "_view_module_version": "1.2.0",
            "bar_color": null,
            "_model_module": "@jupyter-widgets/controls"
          }
        },
        "2215b9c43bb2451aa22777066d7c8754": {
          "model_module": "@jupyter-widgets/base",
          "model_name": "LayoutModel",
          "model_module_version": "1.2.0",
          "state": {
            "_view_name": "LayoutView",
            "grid_template_rows": null,
            "right": null,
            "justify_content": null,
            "_view_module": "@jupyter-widgets/base",
            "overflow": null,
            "_model_module_version": "1.2.0",
            "_view_count": null,
            "flex_flow": null,
            "width": null,
            "min_width": null,
            "border": null,
            "align_items": null,
            "bottom": null,
            "_model_module": "@jupyter-widgets/base",
            "top": null,
            "grid_column": null,
            "overflow_y": null,
            "overflow_x": null,
            "grid_auto_flow": null,
            "grid_area": null,
            "grid_template_columns": null,
            "flex": null,
            "_model_name": "LayoutModel",
            "justify_items": null,
            "grid_row": null,
            "max_height": null,
            "align_content": null,
            "visibility": null,
            "align_self": null,
            "height": null,
            "min_height": null,
            "padding": null,
            "grid_auto_rows": null,
            "grid_gap": null,
            "max_width": null,
            "order": null,
            "_view_module_version": "1.2.0",
            "grid_template_areas": null,
            "object_position": null,
            "object_fit": null,
            "grid_auto_columns": null,
            "margin": null,
            "display": null,
            "left": null
          }
        },
        "7c4ed36985e14c4e95bf653881e00b6c": {
          "model_module": "@jupyter-widgets/controls",
          "model_name": "DescriptionStyleModel",
          "model_module_version": "1.5.0",
          "state": {
            "_view_name": "StyleView",
            "_model_name": "DescriptionStyleModel",
            "description_width": "",
            "_view_module": "@jupyter-widgets/base",
            "_model_module_version": "1.5.0",
            "_view_count": null,
            "_view_module_version": "1.2.0",
            "_model_module": "@jupyter-widgets/controls"
          }
        },
        "8ce385665bb84572bc2ccdb6fc51bd3b": {
          "model_module": "@jupyter-widgets/base",
          "model_name": "LayoutModel",
          "model_module_version": "1.2.0",
          "state": {
            "_view_name": "LayoutView",
            "grid_template_rows": null,
            "right": null,
            "justify_content": null,
            "_view_module": "@jupyter-widgets/base",
            "overflow": null,
            "_model_module_version": "1.2.0",
            "_view_count": null,
            "flex_flow": null,
            "width": null,
            "min_width": null,
            "border": null,
            "align_items": null,
            "bottom": null,
            "_model_module": "@jupyter-widgets/base",
            "top": null,
            "grid_column": null,
            "overflow_y": null,
            "overflow_x": null,
            "grid_auto_flow": null,
            "grid_area": null,
            "grid_template_columns": null,
            "flex": null,
            "_model_name": "LayoutModel",
            "justify_items": null,
            "grid_row": null,
            "max_height": null,
            "align_content": null,
            "visibility": null,
            "align_self": null,
            "height": null,
            "min_height": null,
            "padding": null,
            "grid_auto_rows": null,
            "grid_gap": null,
            "max_width": null,
            "order": null,
            "_view_module_version": "1.2.0",
            "grid_template_areas": null,
            "object_position": null,
            "object_fit": null,
            "grid_auto_columns": null,
            "margin": null,
            "display": null,
            "left": null
          }
        },
        "52b0da826a784796967f7b73708af1e7": {
          "model_module": "@jupyter-widgets/controls",
          "model_name": "HBoxModel",
          "model_module_version": "1.5.0",
          "state": {
            "_view_name": "HBoxView",
            "_dom_classes": [],
            "_model_name": "HBoxModel",
            "_view_module": "@jupyter-widgets/controls",
            "_model_module_version": "1.5.0",
            "_view_count": null,
            "_view_module_version": "1.5.0",
            "box_style": "",
            "layout": "IPY_MODEL_ba418141ec914eedb4aeadccb1e56006",
            "_model_module": "@jupyter-widgets/controls",
            "children": [
              "IPY_MODEL_acadaa6b71bc44ff8ef5076042d9521e",
              "IPY_MODEL_750e76e80ebc46d5842a44e54ca04d4c",
              "IPY_MODEL_06f0b4efba3c4e36ac94e6de492762fc"
            ]
          }
        },
        "ba418141ec914eedb4aeadccb1e56006": {
          "model_module": "@jupyter-widgets/base",
          "model_name": "LayoutModel",
          "model_module_version": "1.2.0",
          "state": {
            "_view_name": "LayoutView",
            "grid_template_rows": null,
            "right": null,
            "justify_content": null,
            "_view_module": "@jupyter-widgets/base",
            "overflow": null,
            "_model_module_version": "1.2.0",
            "_view_count": null,
            "flex_flow": null,
            "width": null,
            "min_width": null,
            "border": null,
            "align_items": null,
            "bottom": null,
            "_model_module": "@jupyter-widgets/base",
            "top": null,
            "grid_column": null,
            "overflow_y": null,
            "overflow_x": null,
            "grid_auto_flow": null,
            "grid_area": null,
            "grid_template_columns": null,
            "flex": null,
            "_model_name": "LayoutModel",
            "justify_items": null,
            "grid_row": null,
            "max_height": null,
            "align_content": null,
            "visibility": null,
            "align_self": null,
            "height": null,
            "min_height": null,
            "padding": null,
            "grid_auto_rows": null,
            "grid_gap": null,
            "max_width": null,
            "order": null,
            "_view_module_version": "1.2.0",
            "grid_template_areas": null,
            "object_position": null,
            "object_fit": null,
            "grid_auto_columns": null,
            "margin": null,
            "display": null,
            "left": null
          }
        },
        "acadaa6b71bc44ff8ef5076042d9521e": {
          "model_module": "@jupyter-widgets/controls",
          "model_name": "HTMLModel",
          "model_module_version": "1.5.0",
          "state": {
            "_view_name": "HTMLView",
            "style": "IPY_MODEL_43665c6904b446ca8bdef7db955426e9",
            "_dom_classes": [],
            "description": "",
            "_model_name": "HTMLModel",
            "placeholder": "​",
            "_view_module": "@jupyter-widgets/controls",
            "_model_module_version": "1.5.0",
            "value": "",
            "_view_count": null,
            "_view_module_version": "1.5.0",
            "description_tooltip": null,
            "_model_module": "@jupyter-widgets/controls",
            "layout": "IPY_MODEL_ef80250b76364a0d9a1b6c4e5241daa9"
          }
        },
        "750e76e80ebc46d5842a44e54ca04d4c": {
          "model_module": "@jupyter-widgets/controls",
          "model_name": "FloatProgressModel",
          "model_module_version": "1.5.0",
          "state": {
            "_view_name": "ProgressView",
            "style": "IPY_MODEL_fc92b02a696c4c04af0c05bc0d285eef",
            "_dom_classes": [],
            "description": "",
            "_model_name": "FloatProgressModel",
            "bar_style": "success",
            "max": 28881,
            "_view_module": "@jupyter-widgets/controls",
            "_model_module_version": "1.5.0",
            "value": 28881,
            "_view_count": null,
            "_view_module_version": "1.5.0",
            "orientation": "horizontal",
            "min": 0,
            "description_tooltip": null,
            "_model_module": "@jupyter-widgets/controls",
            "layout": "IPY_MODEL_3477a510a9db438f910dc1ff45cb61ad"
          }
        },
        "06f0b4efba3c4e36ac94e6de492762fc": {
          "model_module": "@jupyter-widgets/controls",
          "model_name": "HTMLModel",
          "model_module_version": "1.5.0",
          "state": {
            "_view_name": "HTMLView",
            "style": "IPY_MODEL_8f889ed77fc24d58925dcdb6ca19ff7f",
            "_dom_classes": [],
            "description": "",
            "_model_name": "HTMLModel",
            "placeholder": "​",
            "_view_module": "@jupyter-widgets/controls",
            "_model_module_version": "1.5.0",
            "value": " 29696/? [00:00&lt;00:00, 734762.80it/s]",
            "_view_count": null,
            "_view_module_version": "1.5.0",
            "description_tooltip": null,
            "_model_module": "@jupyter-widgets/controls",
            "layout": "IPY_MODEL_ff961167b19842b9aab4b085bc1d90f2"
          }
        },
        "43665c6904b446ca8bdef7db955426e9": {
          "model_module": "@jupyter-widgets/controls",
          "model_name": "DescriptionStyleModel",
          "model_module_version": "1.5.0",
          "state": {
            "_view_name": "StyleView",
            "_model_name": "DescriptionStyleModel",
            "description_width": "",
            "_view_module": "@jupyter-widgets/base",
            "_model_module_version": "1.5.0",
            "_view_count": null,
            "_view_module_version": "1.2.0",
            "_model_module": "@jupyter-widgets/controls"
          }
        },
        "ef80250b76364a0d9a1b6c4e5241daa9": {
          "model_module": "@jupyter-widgets/base",
          "model_name": "LayoutModel",
          "model_module_version": "1.2.0",
          "state": {
            "_view_name": "LayoutView",
            "grid_template_rows": null,
            "right": null,
            "justify_content": null,
            "_view_module": "@jupyter-widgets/base",
            "overflow": null,
            "_model_module_version": "1.2.0",
            "_view_count": null,
            "flex_flow": null,
            "width": null,
            "min_width": null,
            "border": null,
            "align_items": null,
            "bottom": null,
            "_model_module": "@jupyter-widgets/base",
            "top": null,
            "grid_column": null,
            "overflow_y": null,
            "overflow_x": null,
            "grid_auto_flow": null,
            "grid_area": null,
            "grid_template_columns": null,
            "flex": null,
            "_model_name": "LayoutModel",
            "justify_items": null,
            "grid_row": null,
            "max_height": null,
            "align_content": null,
            "visibility": null,
            "align_self": null,
            "height": null,
            "min_height": null,
            "padding": null,
            "grid_auto_rows": null,
            "grid_gap": null,
            "max_width": null,
            "order": null,
            "_view_module_version": "1.2.0",
            "grid_template_areas": null,
            "object_position": null,
            "object_fit": null,
            "grid_auto_columns": null,
            "margin": null,
            "display": null,
            "left": null
          }
        },
        "fc92b02a696c4c04af0c05bc0d285eef": {
          "model_module": "@jupyter-widgets/controls",
          "model_name": "ProgressStyleModel",
          "model_module_version": "1.5.0",
          "state": {
            "_view_name": "StyleView",
            "_model_name": "ProgressStyleModel",
            "description_width": "",
            "_view_module": "@jupyter-widgets/base",
            "_model_module_version": "1.5.0",
            "_view_count": null,
            "_view_module_version": "1.2.0",
            "bar_color": null,
            "_model_module": "@jupyter-widgets/controls"
          }
        },
        "3477a510a9db438f910dc1ff45cb61ad": {
          "model_module": "@jupyter-widgets/base",
          "model_name": "LayoutModel",
          "model_module_version": "1.2.0",
          "state": {
            "_view_name": "LayoutView",
            "grid_template_rows": null,
            "right": null,
            "justify_content": null,
            "_view_module": "@jupyter-widgets/base",
            "overflow": null,
            "_model_module_version": "1.2.0",
            "_view_count": null,
            "flex_flow": null,
            "width": null,
            "min_width": null,
            "border": null,
            "align_items": null,
            "bottom": null,
            "_model_module": "@jupyter-widgets/base",
            "top": null,
            "grid_column": null,
            "overflow_y": null,
            "overflow_x": null,
            "grid_auto_flow": null,
            "grid_area": null,
            "grid_template_columns": null,
            "flex": null,
            "_model_name": "LayoutModel",
            "justify_items": null,
            "grid_row": null,
            "max_height": null,
            "align_content": null,
            "visibility": null,
            "align_self": null,
            "height": null,
            "min_height": null,
            "padding": null,
            "grid_auto_rows": null,
            "grid_gap": null,
            "max_width": null,
            "order": null,
            "_view_module_version": "1.2.0",
            "grid_template_areas": null,
            "object_position": null,
            "object_fit": null,
            "grid_auto_columns": null,
            "margin": null,
            "display": null,
            "left": null
          }
        },
        "8f889ed77fc24d58925dcdb6ca19ff7f": {
          "model_module": "@jupyter-widgets/controls",
          "model_name": "DescriptionStyleModel",
          "model_module_version": "1.5.0",
          "state": {
            "_view_name": "StyleView",
            "_model_name": "DescriptionStyleModel",
            "description_width": "",
            "_view_module": "@jupyter-widgets/base",
            "_model_module_version": "1.5.0",
            "_view_count": null,
            "_view_module_version": "1.2.0",
            "_model_module": "@jupyter-widgets/controls"
          }
        },
        "ff961167b19842b9aab4b085bc1d90f2": {
          "model_module": "@jupyter-widgets/base",
          "model_name": "LayoutModel",
          "model_module_version": "1.2.0",
          "state": {
            "_view_name": "LayoutView",
            "grid_template_rows": null,
            "right": null,
            "justify_content": null,
            "_view_module": "@jupyter-widgets/base",
            "overflow": null,
            "_model_module_version": "1.2.0",
            "_view_count": null,
            "flex_flow": null,
            "width": null,
            "min_width": null,
            "border": null,
            "align_items": null,
            "bottom": null,
            "_model_module": "@jupyter-widgets/base",
            "top": null,
            "grid_column": null,
            "overflow_y": null,
            "overflow_x": null,
            "grid_auto_flow": null,
            "grid_area": null,
            "grid_template_columns": null,
            "flex": null,
            "_model_name": "LayoutModel",
            "justify_items": null,
            "grid_row": null,
            "max_height": null,
            "align_content": null,
            "visibility": null,
            "align_self": null,
            "height": null,
            "min_height": null,
            "padding": null,
            "grid_auto_rows": null,
            "grid_gap": null,
            "max_width": null,
            "order": null,
            "_view_module_version": "1.2.0",
            "grid_template_areas": null,
            "object_position": null,
            "object_fit": null,
            "grid_auto_columns": null,
            "margin": null,
            "display": null,
            "left": null
          }
        },
        "7f0db546e1d640d79a34d3ba17b6a3fb": {
          "model_module": "@jupyter-widgets/controls",
          "model_name": "HBoxModel",
          "model_module_version": "1.5.0",
          "state": {
            "_view_name": "HBoxView",
            "_dom_classes": [],
            "_model_name": "HBoxModel",
            "_view_module": "@jupyter-widgets/controls",
            "_model_module_version": "1.5.0",
            "_view_count": null,
            "_view_module_version": "1.5.0",
            "box_style": "",
            "layout": "IPY_MODEL_2bfc02e5d2194d82907bb3fa2aed8cfe",
            "_model_module": "@jupyter-widgets/controls",
            "children": [
              "IPY_MODEL_bd180435e81344968ea744528fb8ba72",
              "IPY_MODEL_d900911b92c64d27b9dfd1e49ca7a8fa",
              "IPY_MODEL_ffb932cab2b341fea397b02a99bf6094"
            ]
          }
        },
        "2bfc02e5d2194d82907bb3fa2aed8cfe": {
          "model_module": "@jupyter-widgets/base",
          "model_name": "LayoutModel",
          "model_module_version": "1.2.0",
          "state": {
            "_view_name": "LayoutView",
            "grid_template_rows": null,
            "right": null,
            "justify_content": null,
            "_view_module": "@jupyter-widgets/base",
            "overflow": null,
            "_model_module_version": "1.2.0",
            "_view_count": null,
            "flex_flow": null,
            "width": null,
            "min_width": null,
            "border": null,
            "align_items": null,
            "bottom": null,
            "_model_module": "@jupyter-widgets/base",
            "top": null,
            "grid_column": null,
            "overflow_y": null,
            "overflow_x": null,
            "grid_auto_flow": null,
            "grid_area": null,
            "grid_template_columns": null,
            "flex": null,
            "_model_name": "LayoutModel",
            "justify_items": null,
            "grid_row": null,
            "max_height": null,
            "align_content": null,
            "visibility": null,
            "align_self": null,
            "height": null,
            "min_height": null,
            "padding": null,
            "grid_auto_rows": null,
            "grid_gap": null,
            "max_width": null,
            "order": null,
            "_view_module_version": "1.2.0",
            "grid_template_areas": null,
            "object_position": null,
            "object_fit": null,
            "grid_auto_columns": null,
            "margin": null,
            "display": null,
            "left": null
          }
        },
        "bd180435e81344968ea744528fb8ba72": {
          "model_module": "@jupyter-widgets/controls",
          "model_name": "HTMLModel",
          "model_module_version": "1.5.0",
          "state": {
            "_view_name": "HTMLView",
            "style": "IPY_MODEL_236bde7b1de04eb0bba854e3590db0d4",
            "_dom_classes": [],
            "description": "",
            "_model_name": "HTMLModel",
            "placeholder": "​",
            "_view_module": "@jupyter-widgets/controls",
            "_model_module_version": "1.5.0",
            "value": "",
            "_view_count": null,
            "_view_module_version": "1.5.0",
            "description_tooltip": null,
            "_model_module": "@jupyter-widgets/controls",
            "layout": "IPY_MODEL_d3ad9766e11d4f40b8e6865fc3112fc7"
          }
        },
        "d900911b92c64d27b9dfd1e49ca7a8fa": {
          "model_module": "@jupyter-widgets/controls",
          "model_name": "FloatProgressModel",
          "model_module_version": "1.5.0",
          "state": {
            "_view_name": "ProgressView",
            "style": "IPY_MODEL_6a69dfbb8e6249539423c0ebac6d6c2e",
            "_dom_classes": [],
            "description": "",
            "_model_name": "FloatProgressModel",
            "bar_style": "success",
            "max": 1648877,
            "_view_module": "@jupyter-widgets/controls",
            "_model_module_version": "1.5.0",
            "value": 1648877,
            "_view_count": null,
            "_view_module_version": "1.5.0",
            "orientation": "horizontal",
            "min": 0,
            "description_tooltip": null,
            "_model_module": "@jupyter-widgets/controls",
            "layout": "IPY_MODEL_46317112e33b4512a3b0b22d5b6ad8e6"
          }
        },
        "ffb932cab2b341fea397b02a99bf6094": {
          "model_module": "@jupyter-widgets/controls",
          "model_name": "HTMLModel",
          "model_module_version": "1.5.0",
          "state": {
            "_view_name": "HTMLView",
            "style": "IPY_MODEL_a501b3c1fbc148cfb4dce2e0b67681b3",
            "_dom_classes": [],
            "description": "",
            "_model_name": "HTMLModel",
            "placeholder": "​",
            "_view_module": "@jupyter-widgets/controls",
            "_model_module_version": "1.5.0",
            "value": " 1649664/? [00:00&lt;00:00, 15625621.58it/s]",
            "_view_count": null,
            "_view_module_version": "1.5.0",
            "description_tooltip": null,
            "_model_module": "@jupyter-widgets/controls",
            "layout": "IPY_MODEL_705b7690d6d8486abfbc4065b89a5a29"
          }
        },
        "236bde7b1de04eb0bba854e3590db0d4": {
          "model_module": "@jupyter-widgets/controls",
          "model_name": "DescriptionStyleModel",
          "model_module_version": "1.5.0",
          "state": {
            "_view_name": "StyleView",
            "_model_name": "DescriptionStyleModel",
            "description_width": "",
            "_view_module": "@jupyter-widgets/base",
            "_model_module_version": "1.5.0",
            "_view_count": null,
            "_view_module_version": "1.2.0",
            "_model_module": "@jupyter-widgets/controls"
          }
        },
        "d3ad9766e11d4f40b8e6865fc3112fc7": {
          "model_module": "@jupyter-widgets/base",
          "model_name": "LayoutModel",
          "model_module_version": "1.2.0",
          "state": {
            "_view_name": "LayoutView",
            "grid_template_rows": null,
            "right": null,
            "justify_content": null,
            "_view_module": "@jupyter-widgets/base",
            "overflow": null,
            "_model_module_version": "1.2.0",
            "_view_count": null,
            "flex_flow": null,
            "width": null,
            "min_width": null,
            "border": null,
            "align_items": null,
            "bottom": null,
            "_model_module": "@jupyter-widgets/base",
            "top": null,
            "grid_column": null,
            "overflow_y": null,
            "overflow_x": null,
            "grid_auto_flow": null,
            "grid_area": null,
            "grid_template_columns": null,
            "flex": null,
            "_model_name": "LayoutModel",
            "justify_items": null,
            "grid_row": null,
            "max_height": null,
            "align_content": null,
            "visibility": null,
            "align_self": null,
            "height": null,
            "min_height": null,
            "padding": null,
            "grid_auto_rows": null,
            "grid_gap": null,
            "max_width": null,
            "order": null,
            "_view_module_version": "1.2.0",
            "grid_template_areas": null,
            "object_position": null,
            "object_fit": null,
            "grid_auto_columns": null,
            "margin": null,
            "display": null,
            "left": null
          }
        },
        "6a69dfbb8e6249539423c0ebac6d6c2e": {
          "model_module": "@jupyter-widgets/controls",
          "model_name": "ProgressStyleModel",
          "model_module_version": "1.5.0",
          "state": {
            "_view_name": "StyleView",
            "_model_name": "ProgressStyleModel",
            "description_width": "",
            "_view_module": "@jupyter-widgets/base",
            "_model_module_version": "1.5.0",
            "_view_count": null,
            "_view_module_version": "1.2.0",
            "bar_color": null,
            "_model_module": "@jupyter-widgets/controls"
          }
        },
        "46317112e33b4512a3b0b22d5b6ad8e6": {
          "model_module": "@jupyter-widgets/base",
          "model_name": "LayoutModel",
          "model_module_version": "1.2.0",
          "state": {
            "_view_name": "LayoutView",
            "grid_template_rows": null,
            "right": null,
            "justify_content": null,
            "_view_module": "@jupyter-widgets/base",
            "overflow": null,
            "_model_module_version": "1.2.0",
            "_view_count": null,
            "flex_flow": null,
            "width": null,
            "min_width": null,
            "border": null,
            "align_items": null,
            "bottom": null,
            "_model_module": "@jupyter-widgets/base",
            "top": null,
            "grid_column": null,
            "overflow_y": null,
            "overflow_x": null,
            "grid_auto_flow": null,
            "grid_area": null,
            "grid_template_columns": null,
            "flex": null,
            "_model_name": "LayoutModel",
            "justify_items": null,
            "grid_row": null,
            "max_height": null,
            "align_content": null,
            "visibility": null,
            "align_self": null,
            "height": null,
            "min_height": null,
            "padding": null,
            "grid_auto_rows": null,
            "grid_gap": null,
            "max_width": null,
            "order": null,
            "_view_module_version": "1.2.0",
            "grid_template_areas": null,
            "object_position": null,
            "object_fit": null,
            "grid_auto_columns": null,
            "margin": null,
            "display": null,
            "left": null
          }
        },
        "a501b3c1fbc148cfb4dce2e0b67681b3": {
          "model_module": "@jupyter-widgets/controls",
          "model_name": "DescriptionStyleModel",
          "model_module_version": "1.5.0",
          "state": {
            "_view_name": "StyleView",
            "_model_name": "DescriptionStyleModel",
            "description_width": "",
            "_view_module": "@jupyter-widgets/base",
            "_model_module_version": "1.5.0",
            "_view_count": null,
            "_view_module_version": "1.2.0",
            "_model_module": "@jupyter-widgets/controls"
          }
        },
        "705b7690d6d8486abfbc4065b89a5a29": {
          "model_module": "@jupyter-widgets/base",
          "model_name": "LayoutModel",
          "model_module_version": "1.2.0",
          "state": {
            "_view_name": "LayoutView",
            "grid_template_rows": null,
            "right": null,
            "justify_content": null,
            "_view_module": "@jupyter-widgets/base",
            "overflow": null,
            "_model_module_version": "1.2.0",
            "_view_count": null,
            "flex_flow": null,
            "width": null,
            "min_width": null,
            "border": null,
            "align_items": null,
            "bottom": null,
            "_model_module": "@jupyter-widgets/base",
            "top": null,
            "grid_column": null,
            "overflow_y": null,
            "overflow_x": null,
            "grid_auto_flow": null,
            "grid_area": null,
            "grid_template_columns": null,
            "flex": null,
            "_model_name": "LayoutModel",
            "justify_items": null,
            "grid_row": null,
            "max_height": null,
            "align_content": null,
            "visibility": null,
            "align_self": null,
            "height": null,
            "min_height": null,
            "padding": null,
            "grid_auto_rows": null,
            "grid_gap": null,
            "max_width": null,
            "order": null,
            "_view_module_version": "1.2.0",
            "grid_template_areas": null,
            "object_position": null,
            "object_fit": null,
            "grid_auto_columns": null,
            "margin": null,
            "display": null,
            "left": null
          }
        },
        "3d71b6c7da134b19aa1dbd282ddf50ea": {
          "model_module": "@jupyter-widgets/controls",
          "model_name": "HBoxModel",
          "model_module_version": "1.5.0",
          "state": {
            "_view_name": "HBoxView",
            "_dom_classes": [],
            "_model_name": "HBoxModel",
            "_view_module": "@jupyter-widgets/controls",
            "_model_module_version": "1.5.0",
            "_view_count": null,
            "_view_module_version": "1.5.0",
            "box_style": "",
            "layout": "IPY_MODEL_25faa3f4598e494d9e60016b6e874345",
            "_model_module": "@jupyter-widgets/controls",
            "children": [
              "IPY_MODEL_c9079444c8d64c58a8f08e787aa5feb4",
              "IPY_MODEL_6f0dc7d392474eeaa891e500b2b53a5d",
              "IPY_MODEL_387229f3009d4494b5689d396c9385e7"
            ]
          }
        },
        "25faa3f4598e494d9e60016b6e874345": {
          "model_module": "@jupyter-widgets/base",
          "model_name": "LayoutModel",
          "model_module_version": "1.2.0",
          "state": {
            "_view_name": "LayoutView",
            "grid_template_rows": null,
            "right": null,
            "justify_content": null,
            "_view_module": "@jupyter-widgets/base",
            "overflow": null,
            "_model_module_version": "1.2.0",
            "_view_count": null,
            "flex_flow": null,
            "width": null,
            "min_width": null,
            "border": null,
            "align_items": null,
            "bottom": null,
            "_model_module": "@jupyter-widgets/base",
            "top": null,
            "grid_column": null,
            "overflow_y": null,
            "overflow_x": null,
            "grid_auto_flow": null,
            "grid_area": null,
            "grid_template_columns": null,
            "flex": null,
            "_model_name": "LayoutModel",
            "justify_items": null,
            "grid_row": null,
            "max_height": null,
            "align_content": null,
            "visibility": null,
            "align_self": null,
            "height": null,
            "min_height": null,
            "padding": null,
            "grid_auto_rows": null,
            "grid_gap": null,
            "max_width": null,
            "order": null,
            "_view_module_version": "1.2.0",
            "grid_template_areas": null,
            "object_position": null,
            "object_fit": null,
            "grid_auto_columns": null,
            "margin": null,
            "display": null,
            "left": null
          }
        },
        "c9079444c8d64c58a8f08e787aa5feb4": {
          "model_module": "@jupyter-widgets/controls",
          "model_name": "HTMLModel",
          "model_module_version": "1.5.0",
          "state": {
            "_view_name": "HTMLView",
            "style": "IPY_MODEL_65e06a48081747be8cc4d3c85d2219f0",
            "_dom_classes": [],
            "description": "",
            "_model_name": "HTMLModel",
            "placeholder": "​",
            "_view_module": "@jupyter-widgets/controls",
            "_model_module_version": "1.5.0",
            "value": "",
            "_view_count": null,
            "_view_module_version": "1.5.0",
            "description_tooltip": null,
            "_model_module": "@jupyter-widgets/controls",
            "layout": "IPY_MODEL_3028eb02b13f483b9752d3eb86b17ce0"
          }
        },
        "6f0dc7d392474eeaa891e500b2b53a5d": {
          "model_module": "@jupyter-widgets/controls",
          "model_name": "FloatProgressModel",
          "model_module_version": "1.5.0",
          "state": {
            "_view_name": "ProgressView",
            "style": "IPY_MODEL_60ce5154478f41f39e11320661c385db",
            "_dom_classes": [],
            "description": "",
            "_model_name": "FloatProgressModel",
            "bar_style": "success",
            "max": 4542,
            "_view_module": "@jupyter-widgets/controls",
            "_model_module_version": "1.5.0",
            "value": 4542,
            "_view_count": null,
            "_view_module_version": "1.5.0",
            "orientation": "horizontal",
            "min": 0,
            "description_tooltip": null,
            "_model_module": "@jupyter-widgets/controls",
            "layout": "IPY_MODEL_e52bd72ed27f4f68ac30bd7e0152579d"
          }
        },
        "387229f3009d4494b5689d396c9385e7": {
          "model_module": "@jupyter-widgets/controls",
          "model_name": "HTMLModel",
          "model_module_version": "1.5.0",
          "state": {
            "_view_name": "HTMLView",
            "style": "IPY_MODEL_e75e33db60ee409ab4c03b6cc9c3493b",
            "_dom_classes": [],
            "description": "",
            "_model_name": "HTMLModel",
            "placeholder": "​",
            "_view_module": "@jupyter-widgets/controls",
            "_model_module_version": "1.5.0",
            "value": " 5120/? [00:00&lt;00:00, 106539.97it/s]",
            "_view_count": null,
            "_view_module_version": "1.5.0",
            "description_tooltip": null,
            "_model_module": "@jupyter-widgets/controls",
            "layout": "IPY_MODEL_2263a2a6c5be4df2ab8f8b2156768b7b"
          }
        },
        "65e06a48081747be8cc4d3c85d2219f0": {
          "model_module": "@jupyter-widgets/controls",
          "model_name": "DescriptionStyleModel",
          "model_module_version": "1.5.0",
          "state": {
            "_view_name": "StyleView",
            "_model_name": "DescriptionStyleModel",
            "description_width": "",
            "_view_module": "@jupyter-widgets/base",
            "_model_module_version": "1.5.0",
            "_view_count": null,
            "_view_module_version": "1.2.0",
            "_model_module": "@jupyter-widgets/controls"
          }
        },
        "3028eb02b13f483b9752d3eb86b17ce0": {
          "model_module": "@jupyter-widgets/base",
          "model_name": "LayoutModel",
          "model_module_version": "1.2.0",
          "state": {
            "_view_name": "LayoutView",
            "grid_template_rows": null,
            "right": null,
            "justify_content": null,
            "_view_module": "@jupyter-widgets/base",
            "overflow": null,
            "_model_module_version": "1.2.0",
            "_view_count": null,
            "flex_flow": null,
            "width": null,
            "min_width": null,
            "border": null,
            "align_items": null,
            "bottom": null,
            "_model_module": "@jupyter-widgets/base",
            "top": null,
            "grid_column": null,
            "overflow_y": null,
            "overflow_x": null,
            "grid_auto_flow": null,
            "grid_area": null,
            "grid_template_columns": null,
            "flex": null,
            "_model_name": "LayoutModel",
            "justify_items": null,
            "grid_row": null,
            "max_height": null,
            "align_content": null,
            "visibility": null,
            "align_self": null,
            "height": null,
            "min_height": null,
            "padding": null,
            "grid_auto_rows": null,
            "grid_gap": null,
            "max_width": null,
            "order": null,
            "_view_module_version": "1.2.0",
            "grid_template_areas": null,
            "object_position": null,
            "object_fit": null,
            "grid_auto_columns": null,
            "margin": null,
            "display": null,
            "left": null
          }
        },
        "60ce5154478f41f39e11320661c385db": {
          "model_module": "@jupyter-widgets/controls",
          "model_name": "ProgressStyleModel",
          "model_module_version": "1.5.0",
          "state": {
            "_view_name": "StyleView",
            "_model_name": "ProgressStyleModel",
            "description_width": "",
            "_view_module": "@jupyter-widgets/base",
            "_model_module_version": "1.5.0",
            "_view_count": null,
            "_view_module_version": "1.2.0",
            "bar_color": null,
            "_model_module": "@jupyter-widgets/controls"
          }
        },
        "e52bd72ed27f4f68ac30bd7e0152579d": {
          "model_module": "@jupyter-widgets/base",
          "model_name": "LayoutModel",
          "model_module_version": "1.2.0",
          "state": {
            "_view_name": "LayoutView",
            "grid_template_rows": null,
            "right": null,
            "justify_content": null,
            "_view_module": "@jupyter-widgets/base",
            "overflow": null,
            "_model_module_version": "1.2.0",
            "_view_count": null,
            "flex_flow": null,
            "width": null,
            "min_width": null,
            "border": null,
            "align_items": null,
            "bottom": null,
            "_model_module": "@jupyter-widgets/base",
            "top": null,
            "grid_column": null,
            "overflow_y": null,
            "overflow_x": null,
            "grid_auto_flow": null,
            "grid_area": null,
            "grid_template_columns": null,
            "flex": null,
            "_model_name": "LayoutModel",
            "justify_items": null,
            "grid_row": null,
            "max_height": null,
            "align_content": null,
            "visibility": null,
            "align_self": null,
            "height": null,
            "min_height": null,
            "padding": null,
            "grid_auto_rows": null,
            "grid_gap": null,
            "max_width": null,
            "order": null,
            "_view_module_version": "1.2.0",
            "grid_template_areas": null,
            "object_position": null,
            "object_fit": null,
            "grid_auto_columns": null,
            "margin": null,
            "display": null,
            "left": null
          }
        },
        "e75e33db60ee409ab4c03b6cc9c3493b": {
          "model_module": "@jupyter-widgets/controls",
          "model_name": "DescriptionStyleModel",
          "model_module_version": "1.5.0",
          "state": {
            "_view_name": "StyleView",
            "_model_name": "DescriptionStyleModel",
            "description_width": "",
            "_view_module": "@jupyter-widgets/base",
            "_model_module_version": "1.5.0",
            "_view_count": null,
            "_view_module_version": "1.2.0",
            "_model_module": "@jupyter-widgets/controls"
          }
        },
        "2263a2a6c5be4df2ab8f8b2156768b7b": {
          "model_module": "@jupyter-widgets/base",
          "model_name": "LayoutModel",
          "model_module_version": "1.2.0",
          "state": {
            "_view_name": "LayoutView",
            "grid_template_rows": null,
            "right": null,
            "justify_content": null,
            "_view_module": "@jupyter-widgets/base",
            "overflow": null,
            "_model_module_version": "1.2.0",
            "_view_count": null,
            "flex_flow": null,
            "width": null,
            "min_width": null,
            "border": null,
            "align_items": null,
            "bottom": null,
            "_model_module": "@jupyter-widgets/base",
            "top": null,
            "grid_column": null,
            "overflow_y": null,
            "overflow_x": null,
            "grid_auto_flow": null,
            "grid_area": null,
            "grid_template_columns": null,
            "flex": null,
            "_model_name": "LayoutModel",
            "justify_items": null,
            "grid_row": null,
            "max_height": null,
            "align_content": null,
            "visibility": null,
            "align_self": null,
            "height": null,
            "min_height": null,
            "padding": null,
            "grid_auto_rows": null,
            "grid_gap": null,
            "max_width": null,
            "order": null,
            "_view_module_version": "1.2.0",
            "grid_template_areas": null,
            "object_position": null,
            "object_fit": null,
            "grid_auto_columns": null,
            "margin": null,
            "display": null,
            "left": null
          }
        }
      }
    }
  },
  "nbformat": 4,
  "nbformat_minor": 0
}