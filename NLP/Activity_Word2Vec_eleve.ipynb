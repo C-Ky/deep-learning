{
  "nbformat": 4,
  "nbformat_minor": 0,
  "metadata": {
    "kernelspec": {
      "display_name": "Python 3 (ipykernel)",
      "language": "python",
      "name": "python3"
    },
    "language_info": {
      "codemirror_mode": {
        "name": "ipython",
        "version": 3
      },
      "file_extension": ".py",
      "mimetype": "text/x-python",
      "name": "python",
      "nbconvert_exporter": "python",
      "pygments_lexer": "ipython3",
      "version": "3.10.0"
    },
    "colab": {
      "name": "Activity_Word2Vec_eleve.ipynb",
      "provenance": [],
      "collapsed_sections": []
    },
    "accelerator": "GPU"
  },
  "cells": [
    {
      "cell_type": "markdown",
      "metadata": {
        "id": "JcJbRZnUOyJB"
      },
      "source": [
        "# Activity : Word2Vec embeddings\n",
        "\n",
        "In the section about Text Classification, we used various approaches to embed the sentences to classify. Some of the reference techniques involved statistical modelling (e.g. BOW, TFIDF), and others involved learning representations for words.\n",
        "\n",
        "In this activity, we propose to implement Word2Vec embeddings in PyTorch (during the previous activity we used the gensim implementation of the algorithm)\n",
        "\n",
        "## 1. Corpus\n",
        "\n",
        "We will work on a very simple corpus :"
      ]
    },
    {
      "cell_type": "code",
      "metadata": {
        "id": "q9zf2KrjOyJF"
      },
      "source": [
        "corpus = [\n",
        "    'louis est roi de france',\n",
        "    'marie est reine de france',\n",
        "    'louis est un homme',\n",
        "    'marie est une femme',\n",
        "    'paris est la capitale de la france',\n",
        "    'bruxelles est la capitale de la belgique',\n",
        "    'tokyo est la capitale du japon',\n",
        "]"
      ],
      "execution_count": 1,
      "outputs": []
    },
    {
      "cell_type": "code",
      "metadata": {
        "colab": {
          "base_uri": "https://localhost:8080/"
        },
        "id": "DotV9rTLO6Ei",
        "outputId": "1d2ef750-946a-4fdf-89ea-8b31d78f8b20"
      },
      "source": [
        "%pip install unidecode"
      ],
      "execution_count": 2,
      "outputs": [
        {
          "output_type": "stream",
          "name": "stdout",
          "text": [
            "Collecting unidecode\n",
            "  Downloading Unidecode-1.3.2-py3-none-any.whl (235 kB)\n",
            "\u001b[?25l\r\u001b[K     |█▍                              | 10 kB 21.3 MB/s eta 0:00:01\r\u001b[K     |██▉                             | 20 kB 17.0 MB/s eta 0:00:01\r\u001b[K     |████▏                           | 30 kB 11.0 MB/s eta 0:00:01\r\u001b[K     |█████▋                          | 40 kB 9.5 MB/s eta 0:00:01\r\u001b[K     |███████                         | 51 kB 6.0 MB/s eta 0:00:01\r\u001b[K     |████████▍                       | 61 kB 5.6 MB/s eta 0:00:01\r\u001b[K     |█████████▊                      | 71 kB 5.7 MB/s eta 0:00:01\r\u001b[K     |███████████▏                    | 81 kB 6.3 MB/s eta 0:00:01\r\u001b[K     |████████████▌                   | 92 kB 6.5 MB/s eta 0:00:01\r\u001b[K     |██████████████                  | 102 kB 5.5 MB/s eta 0:00:01\r\u001b[K     |███████████████▎                | 112 kB 5.5 MB/s eta 0:00:01\r\u001b[K     |████████████████▊               | 122 kB 5.5 MB/s eta 0:00:01\r\u001b[K     |██████████████████              | 133 kB 5.5 MB/s eta 0:00:01\r\u001b[K     |███████████████████▌            | 143 kB 5.5 MB/s eta 0:00:01\r\u001b[K     |████████████████████▉           | 153 kB 5.5 MB/s eta 0:00:01\r\u001b[K     |██████████████████████▎         | 163 kB 5.5 MB/s eta 0:00:01\r\u001b[K     |███████████████████████▋        | 174 kB 5.5 MB/s eta 0:00:01\r\u001b[K     |█████████████████████████       | 184 kB 5.5 MB/s eta 0:00:01\r\u001b[K     |██████████████████████████▍     | 194 kB 5.5 MB/s eta 0:00:01\r\u001b[K     |███████████████████████████▉    | 204 kB 5.5 MB/s eta 0:00:01\r\u001b[K     |█████████████████████████████▏  | 215 kB 5.5 MB/s eta 0:00:01\r\u001b[K     |██████████████████████████████▋ | 225 kB 5.5 MB/s eta 0:00:01\r\u001b[K     |████████████████████████████████| 235 kB 5.5 MB/s eta 0:00:01\r\u001b[K     |████████████████████████████████| 235 kB 5.5 MB/s \n",
            "\u001b[?25hInstalling collected packages: unidecode\n",
            "Successfully installed unidecode-1.3.2\n"
          ]
        }
      ]
    },
    {
      "cell_type": "code",
      "metadata": {
        "colab": {
          "base_uri": "https://localhost:8080/"
        },
        "id": "MH1oAB9XPM9a",
        "outputId": "dfc969c1-6ce7-4ee6-9ddb-6a8e0b5a8cea"
      },
      "source": [
        "import nltk\n",
        "nltk.download('stopwords')\n",
        "nltk.download('words')\n"
      ],
      "execution_count": 7,
      "outputs": [
        {
          "output_type": "stream",
          "name": "stdout",
          "text": [
            "[nltk_data] Downloading package stopwords to /root/nltk_data...\n",
            "[nltk_data]   Package stopwords is already up-to-date!\n",
            "[nltk_data] Downloading package words to /root/nltk_data...\n",
            "[nltk_data]   Unzipping corpora/words.zip.\n"
          ]
        },
        {
          "output_type": "execute_result",
          "data": {
            "text/plain": [
              "True"
            ]
          },
          "metadata": {},
          "execution_count": 7
        }
      ]
    },
    {
      "cell_type": "markdown",
      "metadata": {
        "id": "gBY3fuNyOyJG"
      },
      "source": [
        "Using the same implementation as what we did earlier, we propose to preprocess the corpus"
      ]
    },
    {
      "cell_type": "code",
      "metadata": {
        "id": "122Y9XelOyJG"
      },
      "source": [
        "from nltk.stem.snowball import FrenchStemmer\n",
        "from nltk import wordpunct_tokenize          \n",
        "from nltk.corpus import stopwords\n",
        "from nltk.corpus import words\n",
        "from string import punctuation\n",
        "import unidecode\n",
        "\n",
        "class FrenchTokenizer(object):\n",
        "    def __init__(self):\n",
        "        self.stopwords = set(stopwords.words('french'))\n",
        "        self.words = set(words.words())\n",
        "    def __call__(self, doc):\n",
        "        # tokenize words and punctuation\n",
        "        word_list = wordpunct_tokenize(doc)\n",
        "        # remove stopwords\n",
        "        word_list = [word for word in word_list if word not in self.stopwords]\n",
        "        # remove 1-character words\n",
        "        word_list = [word for word in word_list if len(word)>1]\n",
        "        # remove non alpha\n",
        "        word_list = [word for word in word_list if word.isalpha()]\n",
        "        return [unidecode.unidecode(t) for t in word_list]\n",
        "\n",
        "#Tokenizing sentences\n",
        "tok=FrenchTokenizer()\n",
        "text_for_word2vec=[tok(sent) for sent in corpus]"
      ],
      "execution_count": 8,
      "outputs": []
    },
    {
      "cell_type": "code",
      "metadata": {
        "colab": {
          "base_uri": "https://localhost:8080/"
        },
        "id": "1YwZky_sOyJH",
        "outputId": "dc9283b8-1d0c-40a2-dad6-845476ecb416"
      },
      "source": [
        "#Vocabulary modelling : assigning indexes to words\n",
        "vocabulary = []\n",
        "for sentence in text_for_word2vec:\n",
        "    for token in sentence:\n",
        "        if token not in vocabulary:\n",
        "            vocabulary.append(token)\n",
        "\n",
        "word2idx = {w: idx for (idx, w) in enumerate(vocabulary)}\n",
        "idx2word = {idx: w for (idx, w) in enumerate(vocabulary)}\n",
        "\n",
        "vocabulary_size = len(vocabulary)\n",
        "print(\"vocabulary size : \", vocabulary_size)"
      ],
      "execution_count": 9,
      "outputs": [
        {
          "output_type": "stream",
          "name": "stdout",
          "text": [
            "vocabulary size :  13\n"
          ]
        }
      ]
    },
    {
      "cell_type": "markdown",
      "metadata": {
        "id": "fXz-_7n5OyJI"
      },
      "source": [
        "The Word2Vec architecture relies on predicting the tokens surrounding a given one (or vice versa). It is composed of a simple auto-encoder using one-hot encodings of the tokens as inputs and outputs, and a hidden layer of a chosen size that will represent the embedding.\n",
        "\n",
        "![skipgram](img/word2vecskipgram.png)\n",
        "\n",
        "Because input output vectors are one-hot encodings of the tokens, their dimensionnality is the size of the corpus (e.g : if there are 30 tokens in the vocabulary, the encoding will be of size 30, with each dimension representing the presence or absence of the token in the message)\n",
        "The hidden layer is of size N. Because of the auto-encoder structure, the hidden layer will be trained to constrain the information about tokens in a space of given dimensionnality.\n",
        "\n",
        "There are two approaches for Word2Vec :\n",
        "- the Continuous Bag-of-words (CBOW) appraoach, where the token is used to predict surrounding ones\n",
        "- the Skip-Gram approach, where context tokens are used to predict the central one\n",
        "\n",
        "In this exercice, we propose to implement the SkipGram approach. To train this model, we need token pairs (a context token and the central one).\n",
        "Token pairs are generated by going through all tokens and generating context tokens belonging to a window of a given size around the token."
      ]
    },
    {
      "cell_type": "code",
      "metadata": {
        "colab": {
          "base_uri": "https://localhost:8080/"
        },
        "id": "p8NIrd0NOyJI",
        "outputId": "b59e6820-57d7-4ec9-a02d-ff51e90077fb"
      },
      "source": [
        "import numpy as np\n",
        "\n",
        "window_size = 1\n",
        "\n",
        "idx_pairs = []\n",
        "# for each sentence\n",
        "for sentence in text_for_word2vec:\n",
        "    indices = [word2idx[word] for word in sentence]\n",
        "    # for each word, treated as center word\n",
        "    for center_word_pos in range(len(indices)):\n",
        "        # for each window position\n",
        "        for w in range(-window_size, window_size + 1):\n",
        "            context_word_pos = center_word_pos + w\n",
        "            # make soure not jump out sentence\n",
        "            if context_word_pos < 0 or context_word_pos >= len(indices) or center_word_pos == context_word_pos:\n",
        "                continue\n",
        "            context_word_idx = indices[context_word_pos]\n",
        "            idx_pairs.append((indices[center_word_pos], context_word_idx))\n",
        "\n",
        "idx_pairs = np.array(idx_pairs)\n",
        "\n",
        "#Printing first 10 pairs\n",
        "for i in range(10):\n",
        "    print(idx2word[idx_pairs[i][0]], idx2word[idx_pairs[i][1]])"
      ],
      "execution_count": 10,
      "outputs": [
        {
          "output_type": "stream",
          "name": "stdout",
          "text": [
            "louis roi\n",
            "roi louis\n",
            "roi france\n",
            "france roi\n",
            "marie reine\n",
            "reine marie\n",
            "reine france\n",
            "france reine\n",
            "louis homme\n",
            "homme louis\n"
          ]
        }
      ]
    },
    {
      "cell_type": "markdown",
      "metadata": {
        "id": "-7hZVOLQOyJJ"
      },
      "source": [
        "To use these pairs to train the network, we need to encode them in a layer :"
      ]
    },
    {
      "cell_type": "code",
      "metadata": {
        "colab": {
          "base_uri": "https://localhost:8080/"
        },
        "id": "ShmY4c2LOyJJ",
        "outputId": "4ebe3287-37da-4e12-be38-9092260917ac"
      },
      "source": [
        "import torch\n",
        "\n",
        "def get_layer(word_idx):\n",
        "    x = torch.zeros(vocabulary_size).float()\n",
        "    x[word_idx] = 1.0\n",
        "    return x\n",
        "\n",
        "#exemple\n",
        "get_layer(2)"
      ],
      "execution_count": 11,
      "outputs": [
        {
          "output_type": "execute_result",
          "data": {
            "text/plain": [
              "tensor([0., 0., 1., 0., 0., 0., 0., 0., 0., 0., 0., 0., 0.])"
            ]
          },
          "metadata": {},
          "execution_count": 11
        }
      ]
    },
    {
      "cell_type": "markdown",
      "metadata": {
        "id": "VYPtRHC3OyJK"
      },
      "source": [
        "<div class=\"alert alert-success\">\n",
        "Exercice : \n",
        "    \n",
        "Complete the class below to implement the architecture of the Skipgram.\n",
        "The class will include a method get_wv to get the word vector (i.e. the hidden layer) for a given word\n",
        "</div>"
      ]
    },
    {
      "cell_type": "code",
      "metadata": {
        "id": "Wmk5swnVOyJK"
      },
      "source": [
        "#COMPLETE HERE\n",
        "import torch.nn as nn\n",
        "import numpy as np\n",
        "\n",
        "class skipgram(nn.Module):\n",
        "    def __init__(self, vocab_size, embedding_dim):\n",
        "        #vocab size : vocabulary size (corresponding to input and output dimensions)\n",
        "        #embedding_dim : dimension of the embedding (hidden) layer\n",
        "        super(skipgram, self).__init__()\n",
        "        self.lin1 = nn.Linear(vocab_size, embedding_dim)\n",
        "        self.lin2 = nn.Linear(embedding_dim, vocab_size)\n",
        "        self.soft = nn.Softmax(dim=0)\n",
        "\n",
        "    def forward(self, input):\n",
        "        hidden = self.lin1(input)\n",
        "        output = self.soft(self.lin2(hidden))\n",
        "        return output\n",
        "\n",
        "    def get_wv(self,input):\n",
        "        #get the word vector for a given input\n",
        "        return self.lin1(input).detach().numpy()\n"
      ],
      "execution_count": 15,
      "outputs": []
    },
    {
      "cell_type": "markdown",
      "metadata": {
        "id": "kJSW491zOyJL"
      },
      "source": [
        "Training the network :"
      ]
    },
    {
      "cell_type": "code",
      "metadata": {
        "colab": {
          "base_uri": "https://localhost:8080/"
        },
        "id": "0dlu3w2EOyJL",
        "outputId": "810ba142-6d06-4fb8-adc3-aaf6dbda6835"
      },
      "source": [
        "model = skipgram(vocab_size=vocabulary_size,embedding_dim=2)\n",
        "loss_function = nn.BCELoss()\n",
        "optimizer = torch.optim.SGD(model.parameters(), lr=0.1)\n",
        "\n",
        "num_epochs = 100\n",
        "\n",
        "for epo in range(num_epochs):\n",
        "    loss_val = 0\n",
        "    for center_word, target_word in idx_pairs:\n",
        "        optimizer.zero_grad()\n",
        "        input = get_layer(center_word)\n",
        "        target = get_layer(target_word)\n",
        "        output=model(input)\n",
        "        loss = loss_function(output, target)\n",
        "        loss_val += loss.item()\n",
        "        loss.backward()\n",
        "        optimizer.step()\n",
        "    if epo%10==0:\n",
        "        print(f'Loss at epoch {epo}: {loss_val/len(idx_pairs)}')"
      ],
      "execution_count": 16,
      "outputs": [
        {
          "output_type": "stream",
          "name": "stdout",
          "text": [
            "Loss at epoch 0: 0.2852527356396119\n",
            "Loss at epoch 10: 0.2714952913423379\n",
            "Loss at epoch 20: 0.2624969854950905\n",
            "Loss at epoch 30: 0.256349578499794\n",
            "Loss at epoch 40: 0.2517835671703021\n",
            "Loss at epoch 50: 0.2475977490345637\n",
            "Loss at epoch 60: 0.2430145125836134\n",
            "Loss at epoch 70: 0.23764296310643354\n",
            "Loss at epoch 80: 0.2314088667432467\n",
            "Loss at epoch 90: 0.224520580843091\n"
          ]
        }
      ]
    },
    {
      "cell_type": "markdown",
      "metadata": {
        "id": "qsXmObq2OyJM"
      },
      "source": [
        "Let's have a look at the word embeddings. They could be used to represent individual tokens in a classification task, for instance "
      ]
    },
    {
      "cell_type": "code",
      "metadata": {
        "colab": {
          "base_uri": "https://localhost:8080/"
        },
        "id": "VuN_g2orOyJM",
        "outputId": "3a6319c3-0a74-441f-a4fd-de387e93f4fc"
      },
      "source": [
        "word_vectors = {w : model.get_wv(get_layer(word2idx[w])) for w in vocabulary}\n",
        "\n",
        "print(word_vectors)"
      ],
      "execution_count": 17,
      "outputs": [
        {
          "output_type": "stream",
          "name": "stdout",
          "text": [
            "{'louis': array([-0.12456959, -0.38728043], dtype=float32), 'roi': array([ 0.40242693, -0.5989847 ], dtype=float32), 'france': array([-0.7079929, -0.8947082], dtype=float32), 'marie': array([-0.15035853, -0.74644256], dtype=float32), 'reine': array([-0.47818613, -0.02521625], dtype=float32), 'homme': array([ 0.0708158 , -0.25231364], dtype=float32), 'femme': array([-0.5924646,  0.6148186], dtype=float32), 'paris': array([-1.0490847, -0.6064512], dtype=float32), 'capitale': array([ 0.3193592 , -0.24631289], dtype=float32), 'bruxelles': array([-0.9316498, -0.5611542], dtype=float32), 'belgique': array([-1.0585146 , -0.42692173], dtype=float32), 'tokyo': array([-1.0012003, -0.7326194], dtype=float32), 'japon': array([-1.209703  , -0.40730464], dtype=float32)}\n"
          ]
        }
      ]
    },
    {
      "cell_type": "code",
      "metadata": {
        "id": "iA2SUMqKOyJM"
      },
      "source": [
        ""
      ],
      "execution_count": null,
      "outputs": []
    }
  ]
}